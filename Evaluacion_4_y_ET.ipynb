{
  "cells": [
    {
      "cell_type": "markdown",
      "metadata": {
        "id": "s43PT4QV8aMO"
      },
      "source": [
        "# ET y ev4 Fundamentos de Machine Learning\n",
        "Desarrollado por:\n",
        "Hans Lopez, Victoria Inostroza, Jose Lopez"
      ]
    },
    {
      "cell_type": "markdown",
      "metadata": {
        "id": "B5J38ssaE34r"
      },
      "source": [
        "#\tEntendiendo el negocio\n",
        "El el siguiente estudio se empleó la metodologia de analisis de datos CRISP-DM en sus primeras fases, partiendo desde el entendimiento del negocio, pasando por el entendimiento de los datos y la transformación de estos.\n",
        "\n",
        "El set de datos que se nos ha proporcionado es relevante ya que con sus variables podemos realizar tareas de predicción empleando modelos de regresión y clasificacion.\n",
        "\n",
        "Alguno de los objetivos que podemos trabajar en las siguientes fases son, por ejemplo: Utilizar los datos recopilados para identificar patrones y tendencias en el comportamiento de los jugadores y tomar decisiones informadas sobre el desarrollo del juego e intentar predecir las partidas ganadas"
      ]
    },
    {
      "cell_type": "markdown",
      "metadata": {
        "id": "KU5d68HO8aMU"
      },
      "source": [
        "#\tEntendiendo los datos\n",
        "\n",
        "El tamaño del set de datos con el que trabajamos es de 79 mil 157 filas distribuidas en 29 columnas, conociendo así los tipos de datos que existen en el dataframe, pudiendo clasificarlos según corresponda.\n",
        "\n",
        "También encontramos tres registros donde existian datos NaN (o valores faltantes) y posteriormente fueron tratados. Agregado a esto con el set de datos pudimos descubrir la naturaleza de los datos, calcular estadisticos basicos y ver la distribucion de los datos y la correlación de ellos"
      ]
    },
    {
      "cell_type": "markdown",
      "metadata": {
        "id": "MBQhow1fUr1x"
      },
      "source": [
        "#\tTransformación de los datos\n",
        "## Carga e instalación de las librerias"
      ]
    },
    {
      "cell_type": "code",
      "execution_count": 4,
      "metadata": {
        "colab": {
          "base_uri": "https://localhost:8080/"
        },
        "id": "LySAzKvS3_2-",
        "outputId": "0cdc1a47-546f-415e-8750-2c1cffe46615"
      },
      "outputs": [
        {
          "output_type": "stream",
          "name": "stdout",
          "text": [
            "Looking in indexes: https://pypi.org/simple, https://us-python.pkg.dev/colab-wheels/public/simple/\n",
            "Collecting category_encoders\n",
            "  Downloading category_encoders-2.6.0-py2.py3-none-any.whl (81 kB)\n",
            "\u001b[2K     \u001b[90m━━━━━━━━━━━━━━━━━━━━━━━━━━━━━━━━━━━━━━━━\u001b[0m \u001b[32m81.2/81.2 KB\u001b[0m \u001b[31m3.6 MB/s\u001b[0m eta \u001b[36m0:00:00\u001b[0m\n",
            "\u001b[?25hRequirement already satisfied: statsmodels>=0.9.0 in /usr/local/lib/python3.8/dist-packages (from category_encoders) (0.12.2)\n",
            "Requirement already satisfied: scipy>=1.0.0 in /usr/local/lib/python3.8/dist-packages (from category_encoders) (1.7.3)\n",
            "Requirement already satisfied: patsy>=0.5.1 in /usr/local/lib/python3.8/dist-packages (from category_encoders) (0.5.3)\n",
            "Requirement already satisfied: pandas>=1.0.5 in /usr/local/lib/python3.8/dist-packages (from category_encoders) (1.3.5)\n",
            "Requirement already satisfied: scikit-learn>=0.20.0 in /usr/local/lib/python3.8/dist-packages (from category_encoders) (1.0.2)\n",
            "Requirement already satisfied: numpy>=1.14.0 in /usr/local/lib/python3.8/dist-packages (from category_encoders) (1.21.6)\n",
            "Requirement already satisfied: pytz>=2017.3 in /usr/local/lib/python3.8/dist-packages (from pandas>=1.0.5->category_encoders) (2022.7)\n",
            "Requirement already satisfied: python-dateutil>=2.7.3 in /usr/local/lib/python3.8/dist-packages (from pandas>=1.0.5->category_encoders) (2.8.2)\n",
            "Requirement already satisfied: six in /usr/local/lib/python3.8/dist-packages (from patsy>=0.5.1->category_encoders) (1.15.0)\n",
            "Requirement already satisfied: joblib>=0.11 in /usr/local/lib/python3.8/dist-packages (from scikit-learn>=0.20.0->category_encoders) (1.2.0)\n",
            "Requirement already satisfied: threadpoolctl>=2.0.0 in /usr/local/lib/python3.8/dist-packages (from scikit-learn>=0.20.0->category_encoders) (3.1.0)\n",
            "Installing collected packages: category_encoders\n",
            "Successfully installed category_encoders-2.6.0\n"
          ]
        }
      ],
      "source": [
        "pip install category_encoders"
      ]
    },
    {
      "cell_type": "markdown",
      "metadata": {
        "id": "C5MCVkBMU8e4"
      },
      "source": [
        "Se cargan las librerias necesarias para realizar el proceso"
      ]
    },
    {
      "cell_type": "code",
      "source": [
        "from scipy.stats import pearsonr\n",
        "import pickle as pickle"
      ],
      "metadata": {
        "id": "XU0ta5vYAqpc"
      },
      "execution_count": 95,
      "outputs": []
    },
    {
      "cell_type": "code",
      "execution_count": 6,
      "metadata": {
        "colab": {
          "base_uri": "https://localhost:8080/",
          "height": 73
        },
        "id": "4537Dh50lz4O",
        "outputId": "94c8c295-e515-49bc-c25c-b277e2e39e39"
      },
      "outputs": [
        {
          "output_type": "display_data",
          "data": {
            "text/plain": [
              "<IPython.core.display.HTML object>"
            ],
            "text/html": [
              "\n",
              "     <input type=\"file\" id=\"files-59e7e128-fbb7-4e54-94a2-4f543d17dabc\" name=\"files[]\" multiple disabled\n",
              "        style=\"border:none\" />\n",
              "     <output id=\"result-59e7e128-fbb7-4e54-94a2-4f543d17dabc\">\n",
              "      Upload widget is only available when the cell has been executed in the\n",
              "      current browser session. Please rerun this cell to enable.\n",
              "      </output>\n",
              "      <script>// Copyright 2017 Google LLC\n",
              "//\n",
              "// Licensed under the Apache License, Version 2.0 (the \"License\");\n",
              "// you may not use this file except in compliance with the License.\n",
              "// You may obtain a copy of the License at\n",
              "//\n",
              "//      http://www.apache.org/licenses/LICENSE-2.0\n",
              "//\n",
              "// Unless required by applicable law or agreed to in writing, software\n",
              "// distributed under the License is distributed on an \"AS IS\" BASIS,\n",
              "// WITHOUT WARRANTIES OR CONDITIONS OF ANY KIND, either express or implied.\n",
              "// See the License for the specific language governing permissions and\n",
              "// limitations under the License.\n",
              "\n",
              "/**\n",
              " * @fileoverview Helpers for google.colab Python module.\n",
              " */\n",
              "(function(scope) {\n",
              "function span(text, styleAttributes = {}) {\n",
              "  const element = document.createElement('span');\n",
              "  element.textContent = text;\n",
              "  for (const key of Object.keys(styleAttributes)) {\n",
              "    element.style[key] = styleAttributes[key];\n",
              "  }\n",
              "  return element;\n",
              "}\n",
              "\n",
              "// Max number of bytes which will be uploaded at a time.\n",
              "const MAX_PAYLOAD_SIZE = 100 * 1024;\n",
              "\n",
              "function _uploadFiles(inputId, outputId) {\n",
              "  const steps = uploadFilesStep(inputId, outputId);\n",
              "  const outputElement = document.getElementById(outputId);\n",
              "  // Cache steps on the outputElement to make it available for the next call\n",
              "  // to uploadFilesContinue from Python.\n",
              "  outputElement.steps = steps;\n",
              "\n",
              "  return _uploadFilesContinue(outputId);\n",
              "}\n",
              "\n",
              "// This is roughly an async generator (not supported in the browser yet),\n",
              "// where there are multiple asynchronous steps and the Python side is going\n",
              "// to poll for completion of each step.\n",
              "// This uses a Promise to block the python side on completion of each step,\n",
              "// then passes the result of the previous step as the input to the next step.\n",
              "function _uploadFilesContinue(outputId) {\n",
              "  const outputElement = document.getElementById(outputId);\n",
              "  const steps = outputElement.steps;\n",
              "\n",
              "  const next = steps.next(outputElement.lastPromiseValue);\n",
              "  return Promise.resolve(next.value.promise).then((value) => {\n",
              "    // Cache the last promise value to make it available to the next\n",
              "    // step of the generator.\n",
              "    outputElement.lastPromiseValue = value;\n",
              "    return next.value.response;\n",
              "  });\n",
              "}\n",
              "\n",
              "/**\n",
              " * Generator function which is called between each async step of the upload\n",
              " * process.\n",
              " * @param {string} inputId Element ID of the input file picker element.\n",
              " * @param {string} outputId Element ID of the output display.\n",
              " * @return {!Iterable<!Object>} Iterable of next steps.\n",
              " */\n",
              "function* uploadFilesStep(inputId, outputId) {\n",
              "  const inputElement = document.getElementById(inputId);\n",
              "  inputElement.disabled = false;\n",
              "\n",
              "  const outputElement = document.getElementById(outputId);\n",
              "  outputElement.innerHTML = '';\n",
              "\n",
              "  const pickedPromise = new Promise((resolve) => {\n",
              "    inputElement.addEventListener('change', (e) => {\n",
              "      resolve(e.target.files);\n",
              "    });\n",
              "  });\n",
              "\n",
              "  const cancel = document.createElement('button');\n",
              "  inputElement.parentElement.appendChild(cancel);\n",
              "  cancel.textContent = 'Cancel upload';\n",
              "  const cancelPromise = new Promise((resolve) => {\n",
              "    cancel.onclick = () => {\n",
              "      resolve(null);\n",
              "    };\n",
              "  });\n",
              "\n",
              "  // Wait for the user to pick the files.\n",
              "  const files = yield {\n",
              "    promise: Promise.race([pickedPromise, cancelPromise]),\n",
              "    response: {\n",
              "      action: 'starting',\n",
              "    }\n",
              "  };\n",
              "\n",
              "  cancel.remove();\n",
              "\n",
              "  // Disable the input element since further picks are not allowed.\n",
              "  inputElement.disabled = true;\n",
              "\n",
              "  if (!files) {\n",
              "    return {\n",
              "      response: {\n",
              "        action: 'complete',\n",
              "      }\n",
              "    };\n",
              "  }\n",
              "\n",
              "  for (const file of files) {\n",
              "    const li = document.createElement('li');\n",
              "    li.append(span(file.name, {fontWeight: 'bold'}));\n",
              "    li.append(span(\n",
              "        `(${file.type || 'n/a'}) - ${file.size} bytes, ` +\n",
              "        `last modified: ${\n",
              "            file.lastModifiedDate ? file.lastModifiedDate.toLocaleDateString() :\n",
              "                                    'n/a'} - `));\n",
              "    const percent = span('0% done');\n",
              "    li.appendChild(percent);\n",
              "\n",
              "    outputElement.appendChild(li);\n",
              "\n",
              "    const fileDataPromise = new Promise((resolve) => {\n",
              "      const reader = new FileReader();\n",
              "      reader.onload = (e) => {\n",
              "        resolve(e.target.result);\n",
              "      };\n",
              "      reader.readAsArrayBuffer(file);\n",
              "    });\n",
              "    // Wait for the data to be ready.\n",
              "    let fileData = yield {\n",
              "      promise: fileDataPromise,\n",
              "      response: {\n",
              "        action: 'continue',\n",
              "      }\n",
              "    };\n",
              "\n",
              "    // Use a chunked sending to avoid message size limits. See b/62115660.\n",
              "    let position = 0;\n",
              "    do {\n",
              "      const length = Math.min(fileData.byteLength - position, MAX_PAYLOAD_SIZE);\n",
              "      const chunk = new Uint8Array(fileData, position, length);\n",
              "      position += length;\n",
              "\n",
              "      const base64 = btoa(String.fromCharCode.apply(null, chunk));\n",
              "      yield {\n",
              "        response: {\n",
              "          action: 'append',\n",
              "          file: file.name,\n",
              "          data: base64,\n",
              "        },\n",
              "      };\n",
              "\n",
              "      let percentDone = fileData.byteLength === 0 ?\n",
              "          100 :\n",
              "          Math.round((position / fileData.byteLength) * 100);\n",
              "      percent.textContent = `${percentDone}% done`;\n",
              "\n",
              "    } while (position < fileData.byteLength);\n",
              "  }\n",
              "\n",
              "  // All done.\n",
              "  yield {\n",
              "    response: {\n",
              "      action: 'complete',\n",
              "    }\n",
              "  };\n",
              "}\n",
              "\n",
              "scope.google = scope.google || {};\n",
              "scope.google.colab = scope.google.colab || {};\n",
              "scope.google.colab._files = {\n",
              "  _uploadFiles,\n",
              "  _uploadFilesContinue,\n",
              "};\n",
              "})(self);\n",
              "</script> "
            ]
          },
          "metadata": {}
        },
        {
          "output_type": "stream",
          "name": "stdout",
          "text": [
            "Saving Anexo ET_demo_round_traces_2023.csv to Anexo ET_demo_round_traces_2023.csv\n"
          ]
        }
      ],
      "source": [
        "import pandas as pd\n",
        "import numpy as np\n",
        "import seaborn as sb\n",
        "import matplotlib.pyplot as plt\n",
        "import category_encoders as ce\n",
        "\n",
        "from google.colab import files\n",
        "uploaded = files.upload()\n",
        "for fn in uploaded.keys():\n",
        "  name=fn\n",
        "df = pd.read_csv(name, sep=\";\", low_memory=False)"
      ]
    },
    {
      "cell_type": "markdown",
      "source": [
        "* Función para ignorar los warning que pueda producir el codigo"
      ],
      "metadata": {
        "id": "yprv4IE5APIa"
      }
    },
    {
      "cell_type": "code",
      "execution_count": 7,
      "metadata": {
        "id": "b66ZqfZdJiNQ"
      },
      "outputs": [],
      "source": [
        "import warnings \n",
        "warnings.filterwarnings(\"ignore\") \n",
        "pd.set_option('display.max_columns', None)"
      ]
    },
    {
      "cell_type": "markdown",
      "metadata": {
        "id": "7AI4y1SMVfxW"
      },
      "source": [
        "Se crea un respaldo del dataframe original y se omiten posibles warning que genere el proyecto\n"
      ]
    },
    {
      "cell_type": "code",
      "execution_count": 8,
      "metadata": {
        "id": "O-58_A1TVbTt"
      },
      "outputs": [],
      "source": [
        "respaldo_df = df # se almacena en una variable llamada respaldo_df"
      ]
    },
    {
      "cell_type": "code",
      "execution_count": 9,
      "metadata": {
        "id": "q8iOlNWAWsil"
      },
      "outputs": [],
      "source": [
        "df = respaldo_df # para cargar el dataframe cargado en el respaldo"
      ]
    },
    {
      "cell_type": "markdown",
      "source": [
        "--------------------------------------------------------------"
      ],
      "metadata": {
        "id": "BFqTU9DAC5fF"
      }
    },
    {
      "cell_type": "markdown",
      "source": [
        "* Se elimina la columna \"unnamed:0\" que es generada por pandas para indexar las filas"
      ],
      "metadata": {
        "id": "yUGuMaDB_QJt"
      }
    },
    {
      "cell_type": "code",
      "execution_count": 10,
      "metadata": {
        "id": "H0f6VC2_aL7q"
      },
      "outputs": [],
      "source": [
        "df.drop(['Unnamed: 0'],axis=1,inplace=True)"
      ]
    },
    {
      "cell_type": "markdown",
      "source": [
        "--------------------------------------------------------------"
      ],
      "metadata": {
        "id": "NR1c9NTUC-R8"
      }
    },
    {
      "cell_type": "markdown",
      "source": [
        "* matriz de correlación de Pearson ,\n",
        "con estos datos sacados podemos decir lo siguiente:\n",
        "\n",
        "\n",
        "1.   Las variables \"Survived\" y \"RoundKills\" tienen una corr (0.331619), lo que quiere decir es que, mientras mas muertes realice un jugador mas posibilidades tiene de sobrevivir.\n",
        "2.   Las variables \"RoundHeadshots\" y \"RoundKills\" tienen una corr (0.205279), lo que quiere decir es que, mientras mas muertes en la cabeza realice un jugador mas posibilidades tiene de sobrevivir.\n",
        "3.   Las variables \"RoundAssists\" y \"Survived\" tienen una corr (-0.063264), lo que quiere decir es que, mientras mas asistencias existen en el round tiene menos probabilidades de sobrevivir, ejemplo: en una ronda un jugador no alcanza a ejecutar la muerte y muere, pero un compañero lo acaba eliminando y completando la asistencia.\n"
      ],
      "metadata": {
        "id": "SsHZij8GAEA7"
      }
    },
    {
      "cell_type": "code",
      "execution_count": 11,
      "metadata": {
        "colab": {
          "base_uri": "https://localhost:8080/"
        },
        "id": "B8gIk9EJO_ID",
        "outputId": "ebb1ac04-da53-47bf-9f74-9cccf6dd148b"
      },
      "outputs": [
        {
          "output_type": "stream",
          "name": "stdout",
          "text": [
            "                             InternalTeamId   MatchId   RoundId  Survived  \\\n",
            "InternalTeamId                     1.000000  0.000027 -0.000008  0.044872   \n",
            "MatchId                            0.000027  1.000000  0.001476 -0.003239   \n",
            "RoundId                           -0.000008  0.001476  1.000000 -0.015361   \n",
            "Survived                           0.044872 -0.003239 -0.015361  1.000000   \n",
            "AbnormalMatch                           NaN       NaN       NaN       NaN   \n",
            "RLethalGrenadesThrown              0.039136  0.003009  0.065327  0.171732   \n",
            "RNonLethalGrenadesThrown          -0.005408 -0.009234  0.073314  0.125064   \n",
            "PrimaryAssaultRifle                0.001750 -0.027313  0.085892  0.110008   \n",
            "PrimarySniperRifle                 0.042205  0.043119  0.026291  0.067100   \n",
            "PrimaryHeavy                       0.006337  0.003769 -0.003975  0.002006   \n",
            "PrimarySMG                         0.004186  0.017847 -0.029860  0.026469   \n",
            "PrimaryPistol                     -0.032361 -0.002753 -0.107013 -0.173705   \n",
            "RoundKills                         0.033085  0.003271  0.009134  0.331619   \n",
            "RoundAssists                       0.019489  0.003197 -0.002503 -0.063264   \n",
            "RoundHeadshots                     0.006104 -0.023296 -0.003344  0.205279   \n",
            "RoundFlankKills                    0.020169  0.005110  0.010332  0.139673   \n",
            "RoundStartingEquipmentValue        0.067674  0.013234  0.117606  0.170578   \n",
            "TeamStartingEquipmentValue         0.073339  0.014364  0.127420  0.173237   \n",
            "MatchKills                         0.109532  0.008026  0.807501  0.059445   \n",
            "MatchFlankKills                    0.169996  0.017832  0.509277  0.041533   \n",
            "MatchAssists                       0.112188  0.012419  0.588535 -0.008001   \n",
            "MatchHeadshots                     0.008841 -0.052360  0.688221  0.047407   \n",
            "\n",
            "                             AbnormalMatch  RLethalGrenadesThrown  \\\n",
            "InternalTeamId                         NaN               0.039136   \n",
            "MatchId                                NaN               0.003009   \n",
            "RoundId                                NaN               0.065327   \n",
            "Survived                               NaN               0.171732   \n",
            "AbnormalMatch                          NaN                    NaN   \n",
            "RLethalGrenadesThrown                  NaN               1.000000   \n",
            "RNonLethalGrenadesThrown               NaN               0.382635   \n",
            "PrimaryAssaultRifle                    NaN               0.326426   \n",
            "PrimarySniperRifle                     NaN              -0.018635   \n",
            "PrimaryHeavy                           NaN              -0.023267   \n",
            "PrimarySMG                             NaN               0.003408   \n",
            "PrimaryPistol                          NaN              -0.348568   \n",
            "RoundKills                             NaN               0.162721   \n",
            "RoundAssists                           NaN               0.093738   \n",
            "RoundHeadshots                         NaN               0.080361   \n",
            "RoundFlankKills                        NaN               0.073273   \n",
            "RoundStartingEquipmentValue            NaN               0.438817   \n",
            "TeamStartingEquipmentValue             NaN               0.466507   \n",
            "MatchKills                             NaN               0.110577   \n",
            "MatchFlankKills                        NaN               0.086692   \n",
            "MatchAssists                           NaN               0.106277   \n",
            "MatchHeadshots                         NaN               0.092965   \n",
            "\n",
            "                             RNonLethalGrenadesThrown  PrimaryAssaultRifle  \\\n",
            "InternalTeamId                              -0.005408             0.001750   \n",
            "MatchId                                     -0.009234            -0.027313   \n",
            "RoundId                                      0.073314             0.085892   \n",
            "Survived                                     0.125064             0.110008   \n",
            "AbnormalMatch                                     NaN                  NaN   \n",
            "RLethalGrenadesThrown                        0.382635             0.326426   \n",
            "RNonLethalGrenadesThrown                     1.000000             0.339062   \n",
            "PrimaryAssaultRifle                          0.339062             1.000000   \n",
            "PrimarySniperRifle                          -0.023421            -0.440642   \n",
            "PrimaryHeavy                                -0.027057            -0.108901   \n",
            "PrimarySMG                                  -0.026666            -0.119824   \n",
            "PrimaryPistol                               -0.352804            -0.776826   \n",
            "RoundKills                                   0.148663             0.127903   \n",
            "RoundAssists                                 0.021319             0.065941   \n",
            "RoundHeadshots                               0.100812             0.119863   \n",
            "RoundFlankKills                              0.054749             0.063766   \n",
            "RoundStartingEquipmentValue                  0.368180             0.518780   \n",
            "TeamStartingEquipmentValue                   0.403791             0.627534   \n",
            "MatchKills                                   0.099642             0.095224   \n",
            "MatchFlankKills                              0.063542             0.087460   \n",
            "MatchAssists                                 0.073994             0.103451   \n",
            "MatchHeadshots                               0.092548             0.142642   \n",
            "\n",
            "                             PrimarySniperRifle  PrimaryHeavy  PrimarySMG  \\\n",
            "InternalTeamId                         0.042205      0.006337    0.004186   \n",
            "MatchId                                0.043119      0.003769    0.017847   \n",
            "RoundId                                0.026291     -0.003975   -0.029860   \n",
            "Survived                               0.067100      0.002006    0.026469   \n",
            "AbnormalMatch                               NaN           NaN         NaN   \n",
            "RLethalGrenadesThrown                 -0.018635     -0.023267    0.003408   \n",
            "RNonLethalGrenadesThrown              -0.023421     -0.027057   -0.026666   \n",
            "PrimaryAssaultRifle                   -0.440642     -0.108901   -0.119824   \n",
            "PrimarySniperRifle                     1.000000     -0.024840   -0.026602   \n",
            "PrimaryHeavy                          -0.024840      1.000000   -0.005862   \n",
            "PrimarySMG                            -0.026602     -0.005862    1.000000   \n",
            "PrimaryPistol                         -0.171415     -0.042170   -0.045621   \n",
            "RoundKills                             0.072187      0.001692    0.018592   \n",
            "RoundAssists                          -0.030621      0.002628    0.012162   \n",
            "RoundHeadshots                        -0.083883     -0.002897    0.012835   \n",
            "RoundFlankKills                        0.004260      0.008143    0.001398   \n",
            "RoundStartingEquipmentValue            0.334221     -0.037131   -0.025325   \n",
            "TeamStartingEquipmentValue             0.199256     -0.022217   -0.013120   \n",
            "MatchKills                             0.069314     -0.009765   -0.021469   \n",
            "MatchFlankKills                        0.001269     -0.000579   -0.013826   \n",
            "MatchAssists                          -0.016344     -0.002852   -0.010295   \n",
            "MatchHeadshots                        -0.057624     -0.004694   -0.016383   \n",
            "\n",
            "                             PrimaryPistol  RoundKills  RoundAssists  \\\n",
            "InternalTeamId                   -0.032361    0.033085      0.019489   \n",
            "MatchId                          -0.002753    0.003271      0.003197   \n",
            "RoundId                          -0.107013    0.009134     -0.002503   \n",
            "Survived                         -0.173705    0.331619     -0.063264   \n",
            "AbnormalMatch                          NaN         NaN           NaN   \n",
            "RLethalGrenadesThrown            -0.348568    0.162721      0.093738   \n",
            "RNonLethalGrenadesThrown         -0.352804    0.148663      0.021319   \n",
            "PrimaryAssaultRifle              -0.776826    0.127903      0.065941   \n",
            "PrimarySniperRifle               -0.171415    0.072187     -0.030621   \n",
            "PrimaryHeavy                     -0.042170    0.001692      0.002628   \n",
            "PrimarySMG                       -0.045621    0.018592      0.012162   \n",
            "PrimaryPistol                     1.000000   -0.195501     -0.055935   \n",
            "RoundKills                       -0.195501    1.000000     -0.021482   \n",
            "RoundAssists                     -0.055935   -0.021482      1.000000   \n",
            "RoundHeadshots                   -0.079434    0.679179     -0.017335   \n",
            "RoundFlankKills                  -0.075863    0.391406     -0.000058   \n",
            "RoundStartingEquipmentValue      -0.792876    0.172141      0.055227   \n",
            "TeamStartingEquipmentValue       -0.828608    0.168600      0.067011   \n",
            "MatchKills                       -0.147026    0.183402      0.003477   \n",
            "MatchFlankKills                  -0.095713    0.115988      0.008084   \n",
            "MatchAssists                     -0.102003    0.019540      0.227472   \n",
            "MatchHeadshots                   -0.116441    0.152600     -0.000812   \n",
            "\n",
            "                             RoundHeadshots  RoundFlankKills  \\\n",
            "InternalTeamId                     0.006104         0.020169   \n",
            "MatchId                           -0.023296         0.005110   \n",
            "RoundId                           -0.003344         0.010332   \n",
            "Survived                           0.205279         0.139673   \n",
            "AbnormalMatch                           NaN              NaN   \n",
            "RLethalGrenadesThrown              0.080361         0.073273   \n",
            "RNonLethalGrenadesThrown           0.100812         0.054749   \n",
            "PrimaryAssaultRifle                0.119863         0.063766   \n",
            "PrimarySniperRifle                -0.083883         0.004260   \n",
            "PrimaryHeavy                      -0.002897         0.008143   \n",
            "PrimarySMG                         0.012835         0.001398   \n",
            "PrimaryPistol                     -0.079434        -0.075863   \n",
            "RoundKills                         0.679179         0.391406   \n",
            "RoundAssists                      -0.017335        -0.000058   \n",
            "RoundHeadshots                     1.000000         0.233419   \n",
            "RoundFlankKills                    0.233419         1.000000   \n",
            "RoundStartingEquipmentValue        0.035972         0.069842   \n",
            "TeamStartingEquipmentValue         0.047938         0.076407   \n",
            "MatchKills                         0.112018         0.078891   \n",
            "MatchFlankKills                    0.063589         0.248839   \n",
            "MatchAssists                       0.004592         0.010769   \n",
            "MatchHeadshots                     0.213817         0.062925   \n",
            "\n",
            "                             RoundStartingEquipmentValue  \\\n",
            "InternalTeamId                                  0.067674   \n",
            "MatchId                                         0.013234   \n",
            "RoundId                                         0.117606   \n",
            "Survived                                        0.170578   \n",
            "AbnormalMatch                                        NaN   \n",
            "RLethalGrenadesThrown                           0.438817   \n",
            "RNonLethalGrenadesThrown                        0.368180   \n",
            "PrimaryAssaultRifle                             0.518780   \n",
            "PrimarySniperRifle                              0.334221   \n",
            "PrimaryHeavy                                   -0.037131   \n",
            "PrimarySMG                                     -0.025325   \n",
            "PrimaryPistol                                  -0.792876   \n",
            "RoundKills                                      0.172141   \n",
            "RoundAssists                                    0.055227   \n",
            "RoundHeadshots                                  0.035972   \n",
            "RoundFlankKills                                 0.069842   \n",
            "RoundStartingEquipmentValue                     1.000000   \n",
            "TeamStartingEquipmentValue                      0.922943   \n",
            "MatchKills                                      0.179080   \n",
            "MatchFlankKills                                 0.115976   \n",
            "MatchAssists                                    0.112696   \n",
            "MatchHeadshots                                  0.116417   \n",
            "\n",
            "                             TeamStartingEquipmentValue  MatchKills  \\\n",
            "InternalTeamId                                 0.073339    0.109532   \n",
            "MatchId                                        0.014364    0.008026   \n",
            "RoundId                                        0.127420    0.807501   \n",
            "Survived                                       0.173237    0.059445   \n",
            "AbnormalMatch                                       NaN         NaN   \n",
            "RLethalGrenadesThrown                          0.466507    0.110577   \n",
            "RNonLethalGrenadesThrown                       0.403791    0.099642   \n",
            "PrimaryAssaultRifle                            0.627534    0.095224   \n",
            "PrimarySniperRifle                             0.199256    0.069314   \n",
            "PrimaryHeavy                                  -0.022217   -0.009765   \n",
            "PrimarySMG                                    -0.013120   -0.021469   \n",
            "PrimaryPistol                                 -0.828608   -0.147026   \n",
            "RoundKills                                     0.168600    0.183402   \n",
            "RoundAssists                                   0.067011    0.003477   \n",
            "RoundHeadshots                                 0.047938    0.112018   \n",
            "RoundFlankKills                                0.076407    0.078891   \n",
            "RoundStartingEquipmentValue                    0.922943    0.179080   \n",
            "TeamStartingEquipmentValue                     1.000000    0.178526   \n",
            "MatchKills                                     0.178526    1.000000   \n",
            "MatchFlankKills                                0.122455    0.641599   \n",
            "MatchAssists                                   0.135532    0.510016   \n",
            "MatchHeadshots                                 0.132275    0.831450   \n",
            "\n",
            "                             MatchFlankKills  MatchAssists  MatchHeadshots  \n",
            "InternalTeamId                      0.169996      0.112188        0.008841  \n",
            "MatchId                             0.017832      0.012419       -0.052360  \n",
            "RoundId                             0.509277      0.588535        0.688221  \n",
            "Survived                            0.041533     -0.008001        0.047407  \n",
            "AbnormalMatch                            NaN           NaN             NaN  \n",
            "RLethalGrenadesThrown               0.086692      0.106277        0.092965  \n",
            "RNonLethalGrenadesThrown            0.063542      0.073994        0.092548  \n",
            "PrimaryAssaultRifle                 0.087460      0.103451        0.142642  \n",
            "PrimarySniperRifle                  0.001269     -0.016344       -0.057624  \n",
            "PrimaryHeavy                       -0.000579     -0.002852       -0.004694  \n",
            "PrimarySMG                         -0.013826     -0.010295       -0.016383  \n",
            "PrimaryPistol                      -0.095713     -0.102003       -0.116441  \n",
            "RoundKills                          0.115988      0.019540        0.152600  \n",
            "RoundAssists                        0.008084      0.227472       -0.000812  \n",
            "RoundHeadshots                      0.063589      0.004592        0.213817  \n",
            "RoundFlankKills                     0.248839      0.010769        0.062925  \n",
            "RoundStartingEquipmentValue         0.115976      0.112696        0.116417  \n",
            "TeamStartingEquipmentValue          0.122455      0.135532        0.132275  \n",
            "MatchKills                          0.641599      0.510016        0.831450  \n",
            "MatchFlankKills                     1.000000      0.337655        0.516180  \n",
            "MatchAssists                        0.337655      1.000000        0.415551  \n",
            "MatchHeadshots                      0.516180      0.415551        1.000000  \n"
          ]
        }
      ],
      "source": [
        "corr = df.corr()\n",
        "print(corr)"
      ]
    },
    {
      "cell_type": "markdown",
      "source": [
        "El coeficiente de correlación de Pearson es de 0.4155511970347211 en estas 2 variables, lo que indica una relación positiva moderada entre las dos variables."
      ],
      "metadata": {
        "id": "LWp6wlag_-zi"
      }
    },
    {
      "cell_type": "code",
      "source": [
        "corr_test = pearsonr(x = df['MatchAssists'], y =  df['MatchHeadshots'])\n",
        "print(\"Coeficiente de correlación de Pearson: \", corr_test[0])\n",
        "print(\"P-value: \", corr_test[1])"
      ],
      "metadata": {
        "colab": {
          "base_uri": "https://localhost:8080/"
        },
        "id": "TxFJgiAXAdso",
        "outputId": "4cb79049-7710-412c-9446-13e977e5bcb9"
      },
      "execution_count": 12,
      "outputs": [
        {
          "output_type": "stream",
          "name": "stdout",
          "text": [
            "Coeficiente de correlación de Pearson:  0.4155511970347211\n",
            "P-value:  0.0\n"
          ]
        }
      ]
    },
    {
      "cell_type": "markdown",
      "source": [
        "--------------------------------------------------------------"
      ],
      "metadata": {
        "id": "5Kb-9Z3nDA7d"
      }
    },
    {
      "cell_type": "markdown",
      "source": [
        " * Averiguamos información basica del conjunto de datos: Cuartiles, distribución estandar, media aritmetica, cantidad de registros.\n",
        "* Con estos datos pudimos ver que \"MatchKills\",    \"MatchFlankKills\",    \"MatchAssists\",    \"MatchHeadshots\"  tiene un ultimo cuartil bastante separado, comparado con los otros\n",
        "* por lo que podemos deducir que tienen outliers.\n",
        "\n",
        "* Con toda esta información podemos deducir que en un match promedio las kills promedio son de 8.511578, asistencias 1.874831 y headshoots de 3.858484\n",
        "* La mayoria de veces no ocurren dentro de los match \"FlankKills\", \"Headshots\"\n",
        "* Existen 4 mapas unicos, 2 equipos, la mayoria de las veces los equipos pierden (MatchWinner top false)"
      ],
      "metadata": {
        "id": "mUhIimUQCID2"
      }
    },
    {
      "cell_type": "code",
      "execution_count": 13,
      "metadata": {
        "colab": {
          "base_uri": "https://localhost:8080/",
          "height": 458
        },
        "id": "VghqTgMHOMDI",
        "outputId": "95365202-c396-4295-e712-6bdcf50d00ea"
      },
      "outputs": [
        {
          "output_type": "execute_result",
          "data": {
            "text/plain": [
              "               Map       Team  InternalTeamId       MatchId       RoundId  \\\n",
              "count        79157      79155    79157.000000  79157.000000  79157.000000   \n",
              "unique           4          2             NaN           NaN           NaN   \n",
              "top     de_inferno  Terrorist             NaN           NaN           NaN   \n",
              "freq         28869      39591             NaN           NaN           NaN   \n",
              "mean           NaN        NaN        1.500006    250.525033     12.765517   \n",
              "std            NaN        NaN        0.500003    149.557804      7.432837   \n",
              "min            NaN        NaN        1.000000      4.000000      1.000000   \n",
              "25%            NaN        NaN        1.000000    128.000000      6.000000   \n",
              "50%            NaN        NaN        2.000000    236.000000     12.000000   \n",
              "75%            NaN        NaN        2.000000    373.000000     19.000000   \n",
              "max            NaN        NaN        2.000000    511.000000     36.000000   \n",
              "\n",
              "       RoundWinner MatchWinner Survived AbnormalMatch TimeAlive  \\\n",
              "count        79157       79156    79157         79157     79157   \n",
              "unique           3           2        2             1     51627   \n",
              "top          False       False    False         False       0.0   \n",
              "freq         39588       42017    47214         79157        68   \n",
              "mean           NaN         NaN      NaN           NaN       NaN   \n",
              "std            NaN         NaN      NaN           NaN       NaN   \n",
              "min            NaN         NaN      NaN           NaN       NaN   \n",
              "25%            NaN         NaN      NaN           NaN       NaN   \n",
              "50%            NaN         NaN      NaN           NaN       NaN   \n",
              "75%            NaN         NaN      NaN           NaN       NaN   \n",
              "max            NaN         NaN      NaN           NaN       NaN   \n",
              "\n",
              "       TravelledDistance  RLethalGrenadesThrown  RNonLethalGrenadesThrown  \\\n",
              "count              79157           79157.000000              79157.000000   \n",
              "unique             78001                    NaN                       NaN   \n",
              "top                  0.0                    NaN                       NaN   \n",
              "freq                 272                    NaN                       NaN   \n",
              "mean                 NaN               0.498667                  1.258057   \n",
              "std                  NaN               0.597985                  1.184909   \n",
              "min                  NaN               0.000000                  0.000000   \n",
              "25%                  NaN               0.000000                  0.000000   \n",
              "50%                  NaN               0.000000                  1.000000   \n",
              "75%                  NaN               1.000000                  2.000000   \n",
              "max                  NaN               4.000000                  6.000000   \n",
              "\n",
              "        PrimaryAssaultRifle  PrimarySniperRifle  PrimaryHeavy    PrimarySMG  \\\n",
              "count          79157.000000        79157.000000  79157.000000  79157.000000   \n",
              "unique                  NaN                 NaN           NaN           NaN   \n",
              "top                     NaN                 NaN           NaN           NaN   \n",
              "freq                    NaN                 NaN           NaN           NaN   \n",
              "mean               0.675363            0.089840      0.005964      0.007046   \n",
              "std                0.464125            0.279797      0.075497      0.082453   \n",
              "min                0.000000            0.000000      0.000000      0.000000   \n",
              "25%                0.000000            0.000000      0.000000      0.000000   \n",
              "50%                1.000000            0.000000      0.000000      0.000000   \n",
              "75%                1.000000            0.000000      0.000000      0.000000   \n",
              "max                1.000000            1.000000      1.000000      1.000000   \n",
              "\n",
              "        PrimaryPistol FirstKillTime    RoundKills  RoundAssists  \\\n",
              "count    79157.000000         79157  79157.000000  79157.000000   \n",
              "unique            NaN         33855           NaN           NaN   \n",
              "top               NaN           0.0           NaN           NaN   \n",
              "freq              NaN          5305           NaN           NaN   \n",
              "mean         0.221787           NaN      0.671349      0.146178   \n",
              "std          0.415451           NaN      0.881798      0.385601   \n",
              "min          0.000000           NaN      0.000000      0.000000   \n",
              "25%          0.000000           NaN      0.000000      0.000000   \n",
              "50%          0.000000           NaN      0.000000      0.000000   \n",
              "75%          0.000000           NaN      1.000000      0.000000   \n",
              "max          1.000000           NaN      5.000000      4.000000   \n",
              "\n",
              "        RoundHeadshots  RoundFlankKills  RoundStartingEquipmentValue  \\\n",
              "count     79157.000000     79157.000000                 79157.000000   \n",
              "unique             NaN              NaN                          NaN   \n",
              "top                NaN              NaN                          NaN   \n",
              "freq               NaN              NaN                          NaN   \n",
              "mean          0.301553         0.095633                  3778.108695   \n",
              "std           0.578843         0.320641                  2111.285406   \n",
              "min           0.000000         0.000000                     0.000000   \n",
              "25%           0.000000         0.000000                  1600.000000   \n",
              "50%           0.000000         0.000000                  4700.000000   \n",
              "75%           0.000000         0.000000                  5200.000000   \n",
              "max           5.000000         5.000000                  8850.000000   \n",
              "\n",
              "        TeamStartingEquipmentValue    MatchKills  MatchFlankKills  \\\n",
              "count                 79157.000000  79157.000000     79157.000000   \n",
              "unique                         NaN           NaN              NaN   \n",
              "top                            NaN           NaN              NaN   \n",
              "freq                           NaN           NaN              NaN   \n",
              "mean                  18890.133532      8.511578         1.209912   \n",
              "std                    9743.203024      6.195079         1.435150   \n",
              "min                       0.000000      0.000000         0.000000   \n",
              "25%                   10900.000000      3.000000         0.000000   \n",
              "50%                   22550.000000      8.000000         1.000000   \n",
              "75%                   26050.000000     13.000000         2.000000   \n",
              "max                   36150.000000     41.000000        11.000000   \n",
              "\n",
              "        MatchAssists  MatchHeadshots  \n",
              "count   79157.000000    79157.000000  \n",
              "unique           NaN             NaN  \n",
              "top              NaN             NaN  \n",
              "freq             NaN             NaN  \n",
              "mean        1.874831        3.858484  \n",
              "std         1.824027        3.246752  \n",
              "min         0.000000        0.000000  \n",
              "25%         0.000000        1.000000  \n",
              "50%         1.000000        3.000000  \n",
              "75%         3.000000        6.000000  \n",
              "max        14.000000       22.000000  "
            ],
            "text/html": [
              "\n",
              "  <div id=\"df-d9611366-e8b0-4e33-9ae6-b640808d082b\">\n",
              "    <div class=\"colab-df-container\">\n",
              "      <div>\n",
              "<style scoped>\n",
              "    .dataframe tbody tr th:only-of-type {\n",
              "        vertical-align: middle;\n",
              "    }\n",
              "\n",
              "    .dataframe tbody tr th {\n",
              "        vertical-align: top;\n",
              "    }\n",
              "\n",
              "    .dataframe thead th {\n",
              "        text-align: right;\n",
              "    }\n",
              "</style>\n",
              "<table border=\"1\" class=\"dataframe\">\n",
              "  <thead>\n",
              "    <tr style=\"text-align: right;\">\n",
              "      <th></th>\n",
              "      <th>Map</th>\n",
              "      <th>Team</th>\n",
              "      <th>InternalTeamId</th>\n",
              "      <th>MatchId</th>\n",
              "      <th>RoundId</th>\n",
              "      <th>RoundWinner</th>\n",
              "      <th>MatchWinner</th>\n",
              "      <th>Survived</th>\n",
              "      <th>AbnormalMatch</th>\n",
              "      <th>TimeAlive</th>\n",
              "      <th>TravelledDistance</th>\n",
              "      <th>RLethalGrenadesThrown</th>\n",
              "      <th>RNonLethalGrenadesThrown</th>\n",
              "      <th>PrimaryAssaultRifle</th>\n",
              "      <th>PrimarySniperRifle</th>\n",
              "      <th>PrimaryHeavy</th>\n",
              "      <th>PrimarySMG</th>\n",
              "      <th>PrimaryPistol</th>\n",
              "      <th>FirstKillTime</th>\n",
              "      <th>RoundKills</th>\n",
              "      <th>RoundAssists</th>\n",
              "      <th>RoundHeadshots</th>\n",
              "      <th>RoundFlankKills</th>\n",
              "      <th>RoundStartingEquipmentValue</th>\n",
              "      <th>TeamStartingEquipmentValue</th>\n",
              "      <th>MatchKills</th>\n",
              "      <th>MatchFlankKills</th>\n",
              "      <th>MatchAssists</th>\n",
              "      <th>MatchHeadshots</th>\n",
              "    </tr>\n",
              "  </thead>\n",
              "  <tbody>\n",
              "    <tr>\n",
              "      <th>count</th>\n",
              "      <td>79157</td>\n",
              "      <td>79155</td>\n",
              "      <td>79157.000000</td>\n",
              "      <td>79157.000000</td>\n",
              "      <td>79157.000000</td>\n",
              "      <td>79157</td>\n",
              "      <td>79156</td>\n",
              "      <td>79157</td>\n",
              "      <td>79157</td>\n",
              "      <td>79157</td>\n",
              "      <td>79157</td>\n",
              "      <td>79157.000000</td>\n",
              "      <td>79157.000000</td>\n",
              "      <td>79157.000000</td>\n",
              "      <td>79157.000000</td>\n",
              "      <td>79157.000000</td>\n",
              "      <td>79157.000000</td>\n",
              "      <td>79157.000000</td>\n",
              "      <td>79157</td>\n",
              "      <td>79157.000000</td>\n",
              "      <td>79157.000000</td>\n",
              "      <td>79157.000000</td>\n",
              "      <td>79157.000000</td>\n",
              "      <td>79157.000000</td>\n",
              "      <td>79157.000000</td>\n",
              "      <td>79157.000000</td>\n",
              "      <td>79157.000000</td>\n",
              "      <td>79157.000000</td>\n",
              "      <td>79157.000000</td>\n",
              "    </tr>\n",
              "    <tr>\n",
              "      <th>unique</th>\n",
              "      <td>4</td>\n",
              "      <td>2</td>\n",
              "      <td>NaN</td>\n",
              "      <td>NaN</td>\n",
              "      <td>NaN</td>\n",
              "      <td>3</td>\n",
              "      <td>2</td>\n",
              "      <td>2</td>\n",
              "      <td>1</td>\n",
              "      <td>51627</td>\n",
              "      <td>78001</td>\n",
              "      <td>NaN</td>\n",
              "      <td>NaN</td>\n",
              "      <td>NaN</td>\n",
              "      <td>NaN</td>\n",
              "      <td>NaN</td>\n",
              "      <td>NaN</td>\n",
              "      <td>NaN</td>\n",
              "      <td>33855</td>\n",
              "      <td>NaN</td>\n",
              "      <td>NaN</td>\n",
              "      <td>NaN</td>\n",
              "      <td>NaN</td>\n",
              "      <td>NaN</td>\n",
              "      <td>NaN</td>\n",
              "      <td>NaN</td>\n",
              "      <td>NaN</td>\n",
              "      <td>NaN</td>\n",
              "      <td>NaN</td>\n",
              "    </tr>\n",
              "    <tr>\n",
              "      <th>top</th>\n",
              "      <td>de_inferno</td>\n",
              "      <td>Terrorist</td>\n",
              "      <td>NaN</td>\n",
              "      <td>NaN</td>\n",
              "      <td>NaN</td>\n",
              "      <td>False</td>\n",
              "      <td>False</td>\n",
              "      <td>False</td>\n",
              "      <td>False</td>\n",
              "      <td>0.0</td>\n",
              "      <td>0.0</td>\n",
              "      <td>NaN</td>\n",
              "      <td>NaN</td>\n",
              "      <td>NaN</td>\n",
              "      <td>NaN</td>\n",
              "      <td>NaN</td>\n",
              "      <td>NaN</td>\n",
              "      <td>NaN</td>\n",
              "      <td>0.0</td>\n",
              "      <td>NaN</td>\n",
              "      <td>NaN</td>\n",
              "      <td>NaN</td>\n",
              "      <td>NaN</td>\n",
              "      <td>NaN</td>\n",
              "      <td>NaN</td>\n",
              "      <td>NaN</td>\n",
              "      <td>NaN</td>\n",
              "      <td>NaN</td>\n",
              "      <td>NaN</td>\n",
              "    </tr>\n",
              "    <tr>\n",
              "      <th>freq</th>\n",
              "      <td>28869</td>\n",
              "      <td>39591</td>\n",
              "      <td>NaN</td>\n",
              "      <td>NaN</td>\n",
              "      <td>NaN</td>\n",
              "      <td>39588</td>\n",
              "      <td>42017</td>\n",
              "      <td>47214</td>\n",
              "      <td>79157</td>\n",
              "      <td>68</td>\n",
              "      <td>272</td>\n",
              "      <td>NaN</td>\n",
              "      <td>NaN</td>\n",
              "      <td>NaN</td>\n",
              "      <td>NaN</td>\n",
              "      <td>NaN</td>\n",
              "      <td>NaN</td>\n",
              "      <td>NaN</td>\n",
              "      <td>5305</td>\n",
              "      <td>NaN</td>\n",
              "      <td>NaN</td>\n",
              "      <td>NaN</td>\n",
              "      <td>NaN</td>\n",
              "      <td>NaN</td>\n",
              "      <td>NaN</td>\n",
              "      <td>NaN</td>\n",
              "      <td>NaN</td>\n",
              "      <td>NaN</td>\n",
              "      <td>NaN</td>\n",
              "    </tr>\n",
              "    <tr>\n",
              "      <th>mean</th>\n",
              "      <td>NaN</td>\n",
              "      <td>NaN</td>\n",
              "      <td>1.500006</td>\n",
              "      <td>250.525033</td>\n",
              "      <td>12.765517</td>\n",
              "      <td>NaN</td>\n",
              "      <td>NaN</td>\n",
              "      <td>NaN</td>\n",
              "      <td>NaN</td>\n",
              "      <td>NaN</td>\n",
              "      <td>NaN</td>\n",
              "      <td>0.498667</td>\n",
              "      <td>1.258057</td>\n",
              "      <td>0.675363</td>\n",
              "      <td>0.089840</td>\n",
              "      <td>0.005964</td>\n",
              "      <td>0.007046</td>\n",
              "      <td>0.221787</td>\n",
              "      <td>NaN</td>\n",
              "      <td>0.671349</td>\n",
              "      <td>0.146178</td>\n",
              "      <td>0.301553</td>\n",
              "      <td>0.095633</td>\n",
              "      <td>3778.108695</td>\n",
              "      <td>18890.133532</td>\n",
              "      <td>8.511578</td>\n",
              "      <td>1.209912</td>\n",
              "      <td>1.874831</td>\n",
              "      <td>3.858484</td>\n",
              "    </tr>\n",
              "    <tr>\n",
              "      <th>std</th>\n",
              "      <td>NaN</td>\n",
              "      <td>NaN</td>\n",
              "      <td>0.500003</td>\n",
              "      <td>149.557804</td>\n",
              "      <td>7.432837</td>\n",
              "      <td>NaN</td>\n",
              "      <td>NaN</td>\n",
              "      <td>NaN</td>\n",
              "      <td>NaN</td>\n",
              "      <td>NaN</td>\n",
              "      <td>NaN</td>\n",
              "      <td>0.597985</td>\n",
              "      <td>1.184909</td>\n",
              "      <td>0.464125</td>\n",
              "      <td>0.279797</td>\n",
              "      <td>0.075497</td>\n",
              "      <td>0.082453</td>\n",
              "      <td>0.415451</td>\n",
              "      <td>NaN</td>\n",
              "      <td>0.881798</td>\n",
              "      <td>0.385601</td>\n",
              "      <td>0.578843</td>\n",
              "      <td>0.320641</td>\n",
              "      <td>2111.285406</td>\n",
              "      <td>9743.203024</td>\n",
              "      <td>6.195079</td>\n",
              "      <td>1.435150</td>\n",
              "      <td>1.824027</td>\n",
              "      <td>3.246752</td>\n",
              "    </tr>\n",
              "    <tr>\n",
              "      <th>min</th>\n",
              "      <td>NaN</td>\n",
              "      <td>NaN</td>\n",
              "      <td>1.000000</td>\n",
              "      <td>4.000000</td>\n",
              "      <td>1.000000</td>\n",
              "      <td>NaN</td>\n",
              "      <td>NaN</td>\n",
              "      <td>NaN</td>\n",
              "      <td>NaN</td>\n",
              "      <td>NaN</td>\n",
              "      <td>NaN</td>\n",
              "      <td>0.000000</td>\n",
              "      <td>0.000000</td>\n",
              "      <td>0.000000</td>\n",
              "      <td>0.000000</td>\n",
              "      <td>0.000000</td>\n",
              "      <td>0.000000</td>\n",
              "      <td>0.000000</td>\n",
              "      <td>NaN</td>\n",
              "      <td>0.000000</td>\n",
              "      <td>0.000000</td>\n",
              "      <td>0.000000</td>\n",
              "      <td>0.000000</td>\n",
              "      <td>0.000000</td>\n",
              "      <td>0.000000</td>\n",
              "      <td>0.000000</td>\n",
              "      <td>0.000000</td>\n",
              "      <td>0.000000</td>\n",
              "      <td>0.000000</td>\n",
              "    </tr>\n",
              "    <tr>\n",
              "      <th>25%</th>\n",
              "      <td>NaN</td>\n",
              "      <td>NaN</td>\n",
              "      <td>1.000000</td>\n",
              "      <td>128.000000</td>\n",
              "      <td>6.000000</td>\n",
              "      <td>NaN</td>\n",
              "      <td>NaN</td>\n",
              "      <td>NaN</td>\n",
              "      <td>NaN</td>\n",
              "      <td>NaN</td>\n",
              "      <td>NaN</td>\n",
              "      <td>0.000000</td>\n",
              "      <td>0.000000</td>\n",
              "      <td>0.000000</td>\n",
              "      <td>0.000000</td>\n",
              "      <td>0.000000</td>\n",
              "      <td>0.000000</td>\n",
              "      <td>0.000000</td>\n",
              "      <td>NaN</td>\n",
              "      <td>0.000000</td>\n",
              "      <td>0.000000</td>\n",
              "      <td>0.000000</td>\n",
              "      <td>0.000000</td>\n",
              "      <td>1600.000000</td>\n",
              "      <td>10900.000000</td>\n",
              "      <td>3.000000</td>\n",
              "      <td>0.000000</td>\n",
              "      <td>0.000000</td>\n",
              "      <td>1.000000</td>\n",
              "    </tr>\n",
              "    <tr>\n",
              "      <th>50%</th>\n",
              "      <td>NaN</td>\n",
              "      <td>NaN</td>\n",
              "      <td>2.000000</td>\n",
              "      <td>236.000000</td>\n",
              "      <td>12.000000</td>\n",
              "      <td>NaN</td>\n",
              "      <td>NaN</td>\n",
              "      <td>NaN</td>\n",
              "      <td>NaN</td>\n",
              "      <td>NaN</td>\n",
              "      <td>NaN</td>\n",
              "      <td>0.000000</td>\n",
              "      <td>1.000000</td>\n",
              "      <td>1.000000</td>\n",
              "      <td>0.000000</td>\n",
              "      <td>0.000000</td>\n",
              "      <td>0.000000</td>\n",
              "      <td>0.000000</td>\n",
              "      <td>NaN</td>\n",
              "      <td>0.000000</td>\n",
              "      <td>0.000000</td>\n",
              "      <td>0.000000</td>\n",
              "      <td>0.000000</td>\n",
              "      <td>4700.000000</td>\n",
              "      <td>22550.000000</td>\n",
              "      <td>8.000000</td>\n",
              "      <td>1.000000</td>\n",
              "      <td>1.000000</td>\n",
              "      <td>3.000000</td>\n",
              "    </tr>\n",
              "    <tr>\n",
              "      <th>75%</th>\n",
              "      <td>NaN</td>\n",
              "      <td>NaN</td>\n",
              "      <td>2.000000</td>\n",
              "      <td>373.000000</td>\n",
              "      <td>19.000000</td>\n",
              "      <td>NaN</td>\n",
              "      <td>NaN</td>\n",
              "      <td>NaN</td>\n",
              "      <td>NaN</td>\n",
              "      <td>NaN</td>\n",
              "      <td>NaN</td>\n",
              "      <td>1.000000</td>\n",
              "      <td>2.000000</td>\n",
              "      <td>1.000000</td>\n",
              "      <td>0.000000</td>\n",
              "      <td>0.000000</td>\n",
              "      <td>0.000000</td>\n",
              "      <td>0.000000</td>\n",
              "      <td>NaN</td>\n",
              "      <td>1.000000</td>\n",
              "      <td>0.000000</td>\n",
              "      <td>0.000000</td>\n",
              "      <td>0.000000</td>\n",
              "      <td>5200.000000</td>\n",
              "      <td>26050.000000</td>\n",
              "      <td>13.000000</td>\n",
              "      <td>2.000000</td>\n",
              "      <td>3.000000</td>\n",
              "      <td>6.000000</td>\n",
              "    </tr>\n",
              "    <tr>\n",
              "      <th>max</th>\n",
              "      <td>NaN</td>\n",
              "      <td>NaN</td>\n",
              "      <td>2.000000</td>\n",
              "      <td>511.000000</td>\n",
              "      <td>36.000000</td>\n",
              "      <td>NaN</td>\n",
              "      <td>NaN</td>\n",
              "      <td>NaN</td>\n",
              "      <td>NaN</td>\n",
              "      <td>NaN</td>\n",
              "      <td>NaN</td>\n",
              "      <td>4.000000</td>\n",
              "      <td>6.000000</td>\n",
              "      <td>1.000000</td>\n",
              "      <td>1.000000</td>\n",
              "      <td>1.000000</td>\n",
              "      <td>1.000000</td>\n",
              "      <td>1.000000</td>\n",
              "      <td>NaN</td>\n",
              "      <td>5.000000</td>\n",
              "      <td>4.000000</td>\n",
              "      <td>5.000000</td>\n",
              "      <td>5.000000</td>\n",
              "      <td>8850.000000</td>\n",
              "      <td>36150.000000</td>\n",
              "      <td>41.000000</td>\n",
              "      <td>11.000000</td>\n",
              "      <td>14.000000</td>\n",
              "      <td>22.000000</td>\n",
              "    </tr>\n",
              "  </tbody>\n",
              "</table>\n",
              "</div>\n",
              "      <button class=\"colab-df-convert\" onclick=\"convertToInteractive('df-d9611366-e8b0-4e33-9ae6-b640808d082b')\"\n",
              "              title=\"Convert this dataframe to an interactive table.\"\n",
              "              style=\"display:none;\">\n",
              "        \n",
              "  <svg xmlns=\"http://www.w3.org/2000/svg\" height=\"24px\"viewBox=\"0 0 24 24\"\n",
              "       width=\"24px\">\n",
              "    <path d=\"M0 0h24v24H0V0z\" fill=\"none\"/>\n",
              "    <path d=\"M18.56 5.44l.94 2.06.94-2.06 2.06-.94-2.06-.94-.94-2.06-.94 2.06-2.06.94zm-11 1L8.5 8.5l.94-2.06 2.06-.94-2.06-.94L8.5 2.5l-.94 2.06-2.06.94zm10 10l.94 2.06.94-2.06 2.06-.94-2.06-.94-.94-2.06-.94 2.06-2.06.94z\"/><path d=\"M17.41 7.96l-1.37-1.37c-.4-.4-.92-.59-1.43-.59-.52 0-1.04.2-1.43.59L10.3 9.45l-7.72 7.72c-.78.78-.78 2.05 0 2.83L4 21.41c.39.39.9.59 1.41.59.51 0 1.02-.2 1.41-.59l7.78-7.78 2.81-2.81c.8-.78.8-2.07 0-2.86zM5.41 20L4 18.59l7.72-7.72 1.47 1.35L5.41 20z\"/>\n",
              "  </svg>\n",
              "      </button>\n",
              "      \n",
              "  <style>\n",
              "    .colab-df-container {\n",
              "      display:flex;\n",
              "      flex-wrap:wrap;\n",
              "      gap: 12px;\n",
              "    }\n",
              "\n",
              "    .colab-df-convert {\n",
              "      background-color: #E8F0FE;\n",
              "      border: none;\n",
              "      border-radius: 50%;\n",
              "      cursor: pointer;\n",
              "      display: none;\n",
              "      fill: #1967D2;\n",
              "      height: 32px;\n",
              "      padding: 0 0 0 0;\n",
              "      width: 32px;\n",
              "    }\n",
              "\n",
              "    .colab-df-convert:hover {\n",
              "      background-color: #E2EBFA;\n",
              "      box-shadow: 0px 1px 2px rgba(60, 64, 67, 0.3), 0px 1px 3px 1px rgba(60, 64, 67, 0.15);\n",
              "      fill: #174EA6;\n",
              "    }\n",
              "\n",
              "    [theme=dark] .colab-df-convert {\n",
              "      background-color: #3B4455;\n",
              "      fill: #D2E3FC;\n",
              "    }\n",
              "\n",
              "    [theme=dark] .colab-df-convert:hover {\n",
              "      background-color: #434B5C;\n",
              "      box-shadow: 0px 1px 3px 1px rgba(0, 0, 0, 0.15);\n",
              "      filter: drop-shadow(0px 1px 2px rgba(0, 0, 0, 0.3));\n",
              "      fill: #FFFFFF;\n",
              "    }\n",
              "  </style>\n",
              "\n",
              "      <script>\n",
              "        const buttonEl =\n",
              "          document.querySelector('#df-d9611366-e8b0-4e33-9ae6-b640808d082b button.colab-df-convert');\n",
              "        buttonEl.style.display =\n",
              "          google.colab.kernel.accessAllowed ? 'block' : 'none';\n",
              "\n",
              "        async function convertToInteractive(key) {\n",
              "          const element = document.querySelector('#df-d9611366-e8b0-4e33-9ae6-b640808d082b');\n",
              "          const dataTable =\n",
              "            await google.colab.kernel.invokeFunction('convertToInteractive',\n",
              "                                                     [key], {});\n",
              "          if (!dataTable) return;\n",
              "\n",
              "          const docLinkHtml = 'Like what you see? Visit the ' +\n",
              "            '<a target=\"_blank\" href=https://colab.research.google.com/notebooks/data_table.ipynb>data table notebook</a>'\n",
              "            + ' to learn more about interactive tables.';\n",
              "          element.innerHTML = '';\n",
              "          dataTable['output_type'] = 'display_data';\n",
              "          await google.colab.output.renderOutput(dataTable, element);\n",
              "          const docLink = document.createElement('div');\n",
              "          docLink.innerHTML = docLinkHtml;\n",
              "          element.appendChild(docLink);\n",
              "        }\n",
              "      </script>\n",
              "    </div>\n",
              "  </div>\n",
              "  "
            ]
          },
          "metadata": {},
          "execution_count": 13
        }
      ],
      "source": [
        "df.describe(include='all')"
      ]
    },
    {
      "cell_type": "markdown",
      "source": [
        "--------------------------------------------------------------"
      ],
      "metadata": {
        "id": "dZqmzkHGDD_8"
      }
    },
    {
      "cell_type": "markdown",
      "source": [
        "Con los datos obtenidos anteriormente se pudo ver que hay outliers dentro de \"MatchHeadshots\",\"MatchAssists\",\"MatchFlankKills\",\"MatchKills\". por lo cual decidimos realizar graficos de caja para comprobar dicha información."
      ],
      "metadata": {
        "id": "dE0oITEHGvMv"
      }
    },
    {
      "cell_type": "code",
      "source": [
        "plt.figure(figsize=(10,6))\n",
        "df.boxplot(column=[\"MatchHeadshots\",\"MatchAssists\",\"MatchFlankKills\",\"MatchKills\",\"RoundKills\"])\n",
        "plt.show()"
      ],
      "metadata": {
        "colab": {
          "base_uri": "https://localhost:8080/",
          "height": 374
        },
        "id": "0vL-1wviFJRT",
        "outputId": "8880151d-8fa7-4b56-9048-86adbe79c55d"
      },
      "execution_count": 14,
      "outputs": [
        {
          "output_type": "display_data",
          "data": {
            "text/plain": [
              "<Figure size 720x432 with 1 Axes>"
            ],
            "image/png": "[encoded data removed]"
          },
          "metadata": {
            "needs_background": "light"
          }
        }
      ]
    },
    {
      "cell_type": "markdown",
      "source": [
        "--------------------------------------------------------------"
      ],
      "metadata": {
        "id": "1YcuO8iA1rcb"
      }
    },
    {
      "cell_type": "markdown",
      "source": [
        "* Se calcula la moda\n",
        "* Con esto podemos decir que el mapa que mas se repite es \"de_inferno\" y el equipo mas comun dentro del set de datos es \"Terrorist\"\n",
        "* Adicionalmente las derrotas(MatchWinner) son mas comunes dentro del set de datos, asistencias, kills, headshots, flanks practamente son 0 de cada match.\n",
        "* La mayoria de los equipos no realiza headshots durante los partidos"
      ],
      "metadata": {
        "id": "DuAvvA5TCZmI"
      }
    },
    {
      "cell_type": "code",
      "execution_count": 15,
      "metadata": {
        "colab": {
          "base_uri": "https://localhost:8080/",
          "height": 270
        },
        "id": "lGL0YHoIOL4H",
        "outputId": "01bb86a1-9216-420c-c939-b6e7f86e34ad"
      },
      "outputs": [
        {
          "output_type": "execute_result",
          "data": {
            "text/plain": [
              "          Map       Team  InternalTeamId  MatchId  RoundId RoundWinner  \\\n",
              "0  de_inferno  Terrorist             2.0     29.0        1       False   \n",
              "1         NaN        NaN             NaN      NaN        2         NaN   \n",
              "2         NaN        NaN             NaN      NaN        3         NaN   \n",
              "3         NaN        NaN             NaN      NaN        4         NaN   \n",
              "4         NaN        NaN             NaN      NaN        5         NaN   \n",
              "\n",
              "  MatchWinner Survived AbnormalMatch TimeAlive TravelledDistance  \\\n",
              "0       False    False         False       0.0               0.0   \n",
              "1         NaN      NaN           NaN       NaN               NaN   \n",
              "2         NaN      NaN           NaN       NaN               NaN   \n",
              "3         NaN      NaN           NaN       NaN               NaN   \n",
              "4         NaN      NaN           NaN       NaN               NaN   \n",
              "\n",
              "   RLethalGrenadesThrown  RNonLethalGrenadesThrown  PrimaryAssaultRifle  \\\n",
              "0                    0.0                       0.0                  1.0   \n",
              "1                    NaN                       NaN                  NaN   \n",
              "2                    NaN                       NaN                  NaN   \n",
              "3                    NaN                       NaN                  NaN   \n",
              "4                    NaN                       NaN                  NaN   \n",
              "\n",
              "   PrimarySniperRifle  PrimaryHeavy  PrimarySMG  PrimaryPistol FirstKillTime  \\\n",
              "0                 0.0           0.0         0.0            0.0           0.0   \n",
              "1                 NaN           NaN         NaN            NaN           NaN   \n",
              "2                 NaN           NaN         NaN            NaN           NaN   \n",
              "3                 NaN           NaN         NaN            NaN           NaN   \n",
              "4                 NaN           NaN         NaN            NaN           NaN   \n",
              "\n",
              "   RoundKills  RoundAssists  RoundHeadshots  RoundFlankKills  \\\n",
              "0         0.0           0.0             0.0              0.0   \n",
              "1         NaN           NaN             NaN              NaN   \n",
              "2         NaN           NaN             NaN              NaN   \n",
              "3         NaN           NaN             NaN              NaN   \n",
              "4         NaN           NaN             NaN              NaN   \n",
              "\n",
              "   RoundStartingEquipmentValue  TeamStartingEquipmentValue  MatchKills  \\\n",
              "0                       4700.0                     23500.0         2.0   \n",
              "1                          NaN                         NaN         NaN   \n",
              "2                          NaN                         NaN         NaN   \n",
              "3                          NaN                         NaN         NaN   \n",
              "4                          NaN                         NaN         NaN   \n",
              "\n",
              "   MatchFlankKills  MatchAssists  MatchHeadshots  \n",
              "0              0.0           0.0             1.0  \n",
              "1              NaN           NaN             NaN  \n",
              "2              NaN           NaN             NaN  \n",
              "3              NaN           NaN             NaN  \n",
              "4              NaN           NaN             NaN  "
            ],
            "text/html": [
              "\n",
              "  <div id=\"df-658677f7-0aa9-4d47-873e-025ae4de01f8\">\n",
              "    <div class=\"colab-df-container\">\n",
              "      <div>\n",
              "<style scoped>\n",
              "    .dataframe tbody tr th:only-of-type {\n",
              "        vertical-align: middle;\n",
              "    }\n",
              "\n",
              "    .dataframe tbody tr th {\n",
              "        vertical-align: top;\n",
              "    }\n",
              "\n",
              "    .dataframe thead th {\n",
              "        text-align: right;\n",
              "    }\n",
              "</style>\n",
              "<table border=\"1\" class=\"dataframe\">\n",
              "  <thead>\n",
              "    <tr style=\"text-align: right;\">\n",
              "      <th></th>\n",
              "      <th>Map</th>\n",
              "      <th>Team</th>\n",
              "      <th>InternalTeamId</th>\n",
              "      <th>MatchId</th>\n",
              "      <th>RoundId</th>\n",
              "      <th>RoundWinner</th>\n",
              "      <th>MatchWinner</th>\n",
              "      <th>Survived</th>\n",
              "      <th>AbnormalMatch</th>\n",
              "      <th>TimeAlive</th>\n",
              "      <th>TravelledDistance</th>\n",
              "      <th>RLethalGrenadesThrown</th>\n",
              "      <th>RNonLethalGrenadesThrown</th>\n",
              "      <th>PrimaryAssaultRifle</th>\n",
              "      <th>PrimarySniperRifle</th>\n",
              "      <th>PrimaryHeavy</th>\n",
              "      <th>PrimarySMG</th>\n",
              "      <th>PrimaryPistol</th>\n",
              "      <th>FirstKillTime</th>\n",
              "      <th>RoundKills</th>\n",
              "      <th>RoundAssists</th>\n",
              "      <th>RoundHeadshots</th>\n",
              "      <th>RoundFlankKills</th>\n",
              "      <th>RoundStartingEquipmentValue</th>\n",
              "      <th>TeamStartingEquipmentValue</th>\n",
              "      <th>MatchKills</th>\n",
              "      <th>MatchFlankKills</th>\n",
              "      <th>MatchAssists</th>\n",
              "      <th>MatchHeadshots</th>\n",
              "    </tr>\n",
              "  </thead>\n",
              "  <tbody>\n",
              "    <tr>\n",
              "      <th>0</th>\n",
              "      <td>de_inferno</td>\n",
              "      <td>Terrorist</td>\n",
              "      <td>2.0</td>\n",
              "      <td>29.0</td>\n",
              "      <td>1</td>\n",
              "      <td>False</td>\n",
              "      <td>False</td>\n",
              "      <td>False</td>\n",
              "      <td>False</td>\n",
              "      <td>0.0</td>\n",
              "      <td>0.0</td>\n",
              "      <td>0.0</td>\n",
              "      <td>0.0</td>\n",
              "      <td>1.0</td>\n",
              "      <td>0.0</td>\n",
              "      <td>0.0</td>\n",
              "      <td>0.0</td>\n",
              "      <td>0.0</td>\n",
              "      <td>0.0</td>\n",
              "      <td>0.0</td>\n",
              "      <td>0.0</td>\n",
              "      <td>0.0</td>\n",
              "      <td>0.0</td>\n",
              "      <td>4700.0</td>\n",
              "      <td>23500.0</td>\n",
              "      <td>2.0</td>\n",
              "      <td>0.0</td>\n",
              "      <td>0.0</td>\n",
              "      <td>1.0</td>\n",
              "    </tr>\n",
              "    <tr>\n",
              "      <th>1</th>\n",
              "      <td>NaN</td>\n",
              "      <td>NaN</td>\n",
              "      <td>NaN</td>\n",
              "      <td>NaN</td>\n",
              "      <td>2</td>\n",
              "      <td>NaN</td>\n",
              "      <td>NaN</td>\n",
              "      <td>NaN</td>\n",
              "      <td>NaN</td>\n",
              "      <td>NaN</td>\n",
              "      <td>NaN</td>\n",
              "      <td>NaN</td>\n",
              "      <td>NaN</td>\n",
              "      <td>NaN</td>\n",
              "      <td>NaN</td>\n",
              "      <td>NaN</td>\n",
              "      <td>NaN</td>\n",
              "      <td>NaN</td>\n",
              "      <td>NaN</td>\n",
              "      <td>NaN</td>\n",
              "      <td>NaN</td>\n",
              "      <td>NaN</td>\n",
              "      <td>NaN</td>\n",
              "      <td>NaN</td>\n",
              "      <td>NaN</td>\n",
              "      <td>NaN</td>\n",
              "      <td>NaN</td>\n",
              "      <td>NaN</td>\n",
              "      <td>NaN</td>\n",
              "    </tr>\n",
              "    <tr>\n",
              "      <th>2</th>\n",
              "      <td>NaN</td>\n",
              "      <td>NaN</td>\n",
              "      <td>NaN</td>\n",
              "      <td>NaN</td>\n",
              "      <td>3</td>\n",
              "      <td>NaN</td>\n",
              "      <td>NaN</td>\n",
              "      <td>NaN</td>\n",
              "      <td>NaN</td>\n",
              "      <td>NaN</td>\n",
              "      <td>NaN</td>\n",
              "      <td>NaN</td>\n",
              "      <td>NaN</td>\n",
              "      <td>NaN</td>\n",
              "      <td>NaN</td>\n",
              "      <td>NaN</td>\n",
              "      <td>NaN</td>\n",
              "      <td>NaN</td>\n",
              "      <td>NaN</td>\n",
              "      <td>NaN</td>\n",
              "      <td>NaN</td>\n",
              "      <td>NaN</td>\n",
              "      <td>NaN</td>\n",
              "      <td>NaN</td>\n",
              "      <td>NaN</td>\n",
              "      <td>NaN</td>\n",
              "      <td>NaN</td>\n",
              "      <td>NaN</td>\n",
              "      <td>NaN</td>\n",
              "    </tr>\n",
              "    <tr>\n",
              "      <th>3</th>\n",
              "      <td>NaN</td>\n",
              "      <td>NaN</td>\n",
              "      <td>NaN</td>\n",
              "      <td>NaN</td>\n",
              "      <td>4</td>\n",
              "      <td>NaN</td>\n",
              "      <td>NaN</td>\n",
              "      <td>NaN</td>\n",
              "      <td>NaN</td>\n",
              "      <td>NaN</td>\n",
              "      <td>NaN</td>\n",
              "      <td>NaN</td>\n",
              "      <td>NaN</td>\n",
              "      <td>NaN</td>\n",
              "      <td>NaN</td>\n",
              "      <td>NaN</td>\n",
              "      <td>NaN</td>\n",
              "      <td>NaN</td>\n",
              "      <td>NaN</td>\n",
              "      <td>NaN</td>\n",
              "      <td>NaN</td>\n",
              "      <td>NaN</td>\n",
              "      <td>NaN</td>\n",
              "      <td>NaN</td>\n",
              "      <td>NaN</td>\n",
              "      <td>NaN</td>\n",
              "      <td>NaN</td>\n",
              "      <td>NaN</td>\n",
              "      <td>NaN</td>\n",
              "    </tr>\n",
              "    <tr>\n",
              "      <th>4</th>\n",
              "      <td>NaN</td>\n",
              "      <td>NaN</td>\n",
              "      <td>NaN</td>\n",
              "      <td>NaN</td>\n",
              "      <td>5</td>\n",
              "      <td>NaN</td>\n",
              "      <td>NaN</td>\n",
              "      <td>NaN</td>\n",
              "      <td>NaN</td>\n",
              "      <td>NaN</td>\n",
              "      <td>NaN</td>\n",
              "      <td>NaN</td>\n",
              "      <td>NaN</td>\n",
              "      <td>NaN</td>\n",
              "      <td>NaN</td>\n",
              "      <td>NaN</td>\n",
              "      <td>NaN</td>\n",
              "      <td>NaN</td>\n",
              "      <td>NaN</td>\n",
              "      <td>NaN</td>\n",
              "      <td>NaN</td>\n",
              "      <td>NaN</td>\n",
              "      <td>NaN</td>\n",
              "      <td>NaN</td>\n",
              "      <td>NaN</td>\n",
              "      <td>NaN</td>\n",
              "      <td>NaN</td>\n",
              "      <td>NaN</td>\n",
              "      <td>NaN</td>\n",
              "    </tr>\n",
              "  </tbody>\n",
              "</table>\n",
              "</div>\n",
              "      <button class=\"colab-df-convert\" onclick=\"convertToInteractive('df-658677f7-0aa9-4d47-873e-025ae4de01f8')\"\n",
              "              title=\"Convert this dataframe to an interactive table.\"\n",
              "              style=\"display:none;\">\n",
              "        \n",
              "  <svg xmlns=\"http://www.w3.org/2000/svg\" height=\"24px\"viewBox=\"0 0 24 24\"\n",
              "       width=\"24px\">\n",
              "    <path d=\"M0 0h24v24H0V0z\" fill=\"none\"/>\n",
              "    <path d=\"M18.56 5.44l.94 2.06.94-2.06 2.06-.94-2.06-.94-.94-2.06-.94 2.06-2.06.94zm-11 1L8.5 8.5l.94-2.06 2.06-.94-2.06-.94L8.5 2.5l-.94 2.06-2.06.94zm10 10l.94 2.06.94-2.06 2.06-.94-2.06-.94-.94-2.06-.94 2.06-2.06.94z\"/><path d=\"M17.41 7.96l-1.37-1.37c-.4-.4-.92-.59-1.43-.59-.52 0-1.04.2-1.43.59L10.3 9.45l-7.72 7.72c-.78.78-.78 2.05 0 2.83L4 21.41c.39.39.9.59 1.41.59.51 0 1.02-.2 1.41-.59l7.78-7.78 2.81-2.81c.8-.78.8-2.07 0-2.86zM5.41 20L4 18.59l7.72-7.72 1.47 1.35L5.41 20z\"/>\n",
              "  </svg>\n",
              "      </button>\n",
              "      \n",
              "  <style>\n",
              "    .colab-df-container {\n",
              "      display:flex;\n",
              "      flex-wrap:wrap;\n",
              "      gap: 12px;\n",
              "    }\n",
              "\n",
              "    .colab-df-convert {\n",
              "      background-color: #E8F0FE;\n",
              "      border: none;\n",
              "      border-radius: 50%;\n",
              "      cursor: pointer;\n",
              "      display: none;\n",
              "      fill: #1967D2;\n",
              "      height: 32px;\n",
              "      padding: 0 0 0 0;\n",
              "      width: 32px;\n",
              "    }\n",
              "\n",
              "    .colab-df-convert:hover {\n",
              "      background-color: #E2EBFA;\n",
              "      box-shadow: 0px 1px 2px rgba(60, 64, 67, 0.3), 0px 1px 3px 1px rgba(60, 64, 67, 0.15);\n",
              "      fill: #174EA6;\n",
              "    }\n",
              "\n",
              "    [theme=dark] .colab-df-convert {\n",
              "      background-color: #3B4455;\n",
              "      fill: #D2E3FC;\n",
              "    }\n",
              "\n",
              "    [theme=dark] .colab-df-convert:hover {\n",
              "      background-color: #434B5C;\n",
              "      box-shadow: 0px 1px 3px 1px rgba(0, 0, 0, 0.15);\n",
              "      filter: drop-shadow(0px 1px 2px rgba(0, 0, 0, 0.3));\n",
              "      fill: #FFFFFF;\n",
              "    }\n",
              "  </style>\n",
              "\n",
              "      <script>\n",
              "        const buttonEl =\n",
              "          document.querySelector('#df-658677f7-0aa9-4d47-873e-025ae4de01f8 button.colab-df-convert');\n",
              "        buttonEl.style.display =\n",
              "          google.colab.kernel.accessAllowed ? 'block' : 'none';\n",
              "\n",
              "        async function convertToInteractive(key) {\n",
              "          const element = document.querySelector('#df-658677f7-0aa9-4d47-873e-025ae4de01f8');\n",
              "          const dataTable =\n",
              "            await google.colab.kernel.invokeFunction('convertToInteractive',\n",
              "                                                     [key], {});\n",
              "          if (!dataTable) return;\n",
              "\n",
              "          const docLinkHtml = 'Like what you see? Visit the ' +\n",
              "            '<a target=\"_blank\" href=https://colab.research.google.com/notebooks/data_table.ipynb>data table notebook</a>'\n",
              "            + ' to learn more about interactive tables.';\n",
              "          element.innerHTML = '';\n",
              "          dataTable['output_type'] = 'display_data';\n",
              "          await google.colab.output.renderOutput(dataTable, element);\n",
              "          const docLink = document.createElement('div');\n",
              "          docLink.innerHTML = docLinkHtml;\n",
              "          element.appendChild(docLink);\n",
              "        }\n",
              "      </script>\n",
              "    </div>\n",
              "  </div>\n",
              "  "
            ]
          },
          "metadata": {},
          "execution_count": 15
        }
      ],
      "source": [
        "df.mode()"
      ]
    },
    {
      "cell_type": "markdown",
      "source": [
        "--------------------------------------------------------------"
      ],
      "metadata": {
        "id": "SUz02tKYDF99"
      }
    },
    {
      "cell_type": "markdown",
      "source": [
        "* Calcular la varianza, pero por lo que modemos ver no hay mucho que extraer, \"RLethalGrenadesThrown\" es alta, por lo que se puede decir que varia mucho la cantidad(3.575864e) de granadas lanzadas por partido, tambien podemos decir que la cantidad de kills por ronda varia mucho o tambien que la cantidad de headshot es mas o menos parecida por match(1.054140e)\n",
        "* Tambien podemos decir que  \"AbnormalMatch\" es  igual en todos los match (0)"
      ],
      "metadata": {
        "id": "YvPnKJUiCvQ5"
      }
    },
    {
      "cell_type": "code",
      "execution_count": 16,
      "metadata": {
        "colab": {
          "base_uri": "https://localhost:8080/"
        },
        "id": "9ZZC4DArPF9M",
        "outputId": "8ab954f7-9531-4334-9f56-bcd5b561dacc"
      },
      "outputs": [
        {
          "output_type": "execute_result",
          "data": {
            "text/plain": [
              "InternalTeamId                 2.500032e-01\n",
              "MatchId                        2.236754e+04\n",
              "RoundId                        5.524707e+01\n",
              "MatchWinner                    2.490537e-01\n",
              "Survived                       2.406985e-01\n",
              "AbnormalMatch                  0.000000e+00\n",
              "RLethalGrenadesThrown          3.575864e-01\n",
              "RNonLethalGrenadesThrown       1.404008e+00\n",
              "PrimaryAssaultRifle            2.154121e-01\n",
              "PrimarySniperRifle             7.828613e-02\n",
              "PrimaryHeavy                   5.699764e-03\n",
              "PrimarySMG                     6.798427e-03\n",
              "PrimaryPistol                  1.725998e-01\n",
              "RoundKills                     7.775678e-01\n",
              "RoundAssists                   1.486884e-01\n",
              "RoundHeadshots                 3.350591e-01\n",
              "RoundFlankKills                1.028104e-01\n",
              "RoundStartingEquipmentValue    4.457526e+06\n",
              "TeamStartingEquipmentValue     9.493001e+07\n",
              "MatchKills                     3.837901e+01\n",
              "MatchFlankKills                2.059656e+00\n",
              "MatchAssists                   3.327073e+00\n",
              "MatchHeadshots                 1.054140e+01\n",
              "dtype: float64"
            ]
          },
          "metadata": {},
          "execution_count": 16
        }
      ],
      "source": [
        "df.var()"
      ]
    },
    {
      "cell_type": "markdown",
      "source": [
        "--------------------------------------------------------------"
      ],
      "metadata": {
        "id": "6dAivi_KDLVn"
      }
    },
    {
      "cell_type": "markdown",
      "source": [
        "* Con los datos de la media podemos inferir varias cosas como por ejemplo:\n",
        "* Hay 2 equipos (1 o 2) (InternalTeamId)\n",
        "* La mayoria de los jugadores no sobrevive en las rondas (0.403540)\n",
        "* La mayoria de los jugadores no mata por la espalda o laterales (0.095633)\n",
        "* La mayoria de los jugadores mata aproximadamente 8 jugadores por partida (8.511578)"
      ],
      "metadata": {
        "id": "E98LImzvDPn2"
      }
    },
    {
      "cell_type": "code",
      "execution_count": 17,
      "metadata": {
        "colab": {
          "base_uri": "https://localhost:8080/"
        },
        "id": "GdRiwhtKPKMP",
        "outputId": "c0d40814-6ab5-497d-d9ef-919658d6bb83"
      },
      "outputs": [
        {
          "output_type": "execute_result",
          "data": {
            "text/plain": [
              "InternalTeamId                     1.500006\n",
              "MatchId                          250.525033\n",
              "RoundId                           12.765517\n",
              "MatchWinner                        0.469187\n",
              "Survived                           0.403540\n",
              "AbnormalMatch                      0.000000\n",
              "RLethalGrenadesThrown              0.498667\n",
              "RNonLethalGrenadesThrown           1.258057\n",
              "PrimaryAssaultRifle                0.675363\n",
              "PrimarySniperRifle                 0.089840\n",
              "PrimaryHeavy                       0.005964\n",
              "PrimarySMG                         0.007046\n",
              "PrimaryPistol                      0.221787\n",
              "RoundKills                         0.671349\n",
              "RoundAssists                       0.146178\n",
              "RoundHeadshots                     0.301553\n",
              "RoundFlankKills                    0.095633\n",
              "RoundStartingEquipmentValue     3778.108695\n",
              "TeamStartingEquipmentValue     18890.133532\n",
              "MatchKills                         8.511578\n",
              "MatchFlankKills                    1.209912\n",
              "MatchAssists                       1.874831\n",
              "MatchHeadshots                     3.858484\n",
              "dtype: float64"
            ]
          },
          "metadata": {},
          "execution_count": 17
        }
      ],
      "source": [
        "df.mean() "
      ]
    },
    {
      "cell_type": "markdown",
      "source": [
        "--------------------------------------------------------------\n",
        "\n"
      ],
      "metadata": {
        "id": "Ouzwdj9yDXyH"
      }
    },
    {
      "cell_type": "markdown",
      "source": [
        "* Viendo los datos de manera detallada, nos pudimos percatar que cada fila es un jugador dentro de una ronda, con esto en mente podemos seguir obteniendo mas información con respecto a los match"
      ],
      "metadata": {
        "id": "ilP5OJIWDpfK"
      }
    },
    {
      "cell_type": "code",
      "execution_count": 18,
      "metadata": {
        "colab": {
          "base_uri": "https://localhost:8080/",
          "height": 488
        },
        "id": "rxXe_owSa_eY",
        "outputId": "9d3b866a-0a59-4fb1-ea9a-791a4593e8dc"
      },
      "outputs": [
        {
          "output_type": "execute_result",
          "data": {
            "text/plain": [
              "              Map              Team  InternalTeamId  MatchId  RoundId  \\\n",
              "0      de_inferno         Terrorist               1        4        1   \n",
              "1      de_inferno         Terrorist               1        4        1   \n",
              "2      de_inferno         Terrorist               1        4        1   \n",
              "3      de_inferno         Terrorist               1        4        1   \n",
              "4      de_inferno         Terrorist               1        4        1   \n",
              "...           ...               ...             ...      ...      ...   \n",
              "79152   de_mirage  CounterTerrorist               2      511        5   \n",
              "79153   de_mirage  CounterTerrorist               2      511        5   \n",
              "79154   de_mirage  CounterTerrorist               2      511        5   \n",
              "79155   de_mirage  CounterTerrorist               2      511        5   \n",
              "79156   de_mirage  CounterTerrorist               2      511        5   \n",
              "\n",
              "      RoundWinner MatchWinner  Survived  AbnormalMatch  \\\n",
              "0           False        True     False          False   \n",
              "1           False        True     False          False   \n",
              "2           False        True     False          False   \n",
              "3           False        True     False          False   \n",
              "4           False        True      True          False   \n",
              "...           ...         ...       ...            ...   \n",
              "79152       False       False     False          False   \n",
              "79153       False       False     False          False   \n",
              "79154       False       False     False          False   \n",
              "79155       False       False     False          False   \n",
              "79156       False       False      True          False   \n",
              "\n",
              "                    TimeAlive       TravelledDistance  RLethalGrenadesThrown  \\\n",
              "0      51.120.248.995.704.500  10.083.140.737.457.000                      0   \n",
              "1       4.348.662.552.266.170  60.960.883.184.688.400                      0   \n",
              "2       3.735.469.847.054.540   5.642.252.383.582.750                      0   \n",
              "3       4.767.886.136.441.470   8.963.473.313.229.970                      0   \n",
              "4       5.312.251.089.027.310  10.865.649.734.393.100                      1   \n",
              "...                       ...                     ...                    ...   \n",
              "79152     340.272.074.099.723   4.048.177.852.924.460                      1   \n",
              "79153   2.926.105.436.288.080   3.213.477.612.567.870                      0   \n",
              "79154   5.914.717.797.783.930   6.005.168.938.274.500                      1   \n",
              "79155  42.582.842.797.783.900  27.987.628.542.398.100                      0   \n",
              "79156   8.004.793.109.418.280   9.867.724.708.696.010                      2   \n",
              "\n",
              "       RNonLethalGrenadesThrown  PrimaryAssaultRifle  PrimarySniperRifle  \\\n",
              "0                             4                  0.0                 0.0   \n",
              "1                             0                  0.0                 0.0   \n",
              "2                             0                  0.0                 0.0   \n",
              "3                             0                  0.0                 0.0   \n",
              "4                             1                  0.0                 0.0   \n",
              "...                         ...                  ...                 ...   \n",
              "79152                         1                  1.0                 0.0   \n",
              "79153                         0                  1.0                 0.0   \n",
              "79154                         1                  1.0                 0.0   \n",
              "79155                         2                  0.0                 1.0   \n",
              "79156                         1                  1.0                 0.0   \n",
              "\n",
              "       PrimaryHeavy  PrimarySMG  PrimaryPistol FirstKillTime  RoundKills  \\\n",
              "0               0.0         0.0              1           0.0           0   \n",
              "1               0.0         0.0              1           0.0           0   \n",
              "2               0.0         0.0              1           0.0           0   \n",
              "3               0.0         0.0              1           0.0           0   \n",
              "4               0.0         0.0              1           0.0           0   \n",
              "...             ...         ...            ...           ...         ...   \n",
              "79152           0.0         0.0              0     2.277.596           0   \n",
              "79153           0.0         0.0              0    28.714.119           1   \n",
              "79154           0.0         0.0              0   297.689.228           0   \n",
              "79155           0.0         0.0              0     7.528.178           0   \n",
              "79156           0.0         0.0              0   438.720.474           4   \n",
              "\n",
              "       RoundAssists  RoundHeadshots  RoundFlankKills  \\\n",
              "0                 0               0                0   \n",
              "1                 0               0                0   \n",
              "2                 0               0                0   \n",
              "3                 0               0                0   \n",
              "4                 0               0                0   \n",
              "...             ...             ...              ...   \n",
              "79152             0               0                0   \n",
              "79153             0               1                0   \n",
              "79154             0               0                0   \n",
              "79155             0               0                0   \n",
              "79156             0               2                0   \n",
              "\n",
              "       RoundStartingEquipmentValue  TeamStartingEquipmentValue  MatchKills  \\\n",
              "0                              750                        4400           0   \n",
              "1                              800                        4400           0   \n",
              "2                             1000                        4400           0   \n",
              "3                              850                        4400           0   \n",
              "4                             1000                        4400           0   \n",
              "...                            ...                         ...         ...   \n",
              "79152                         5600                       27100           4   \n",
              "79153                         5500                       27100           8   \n",
              "79154                         4950                       27100           5   \n",
              "79155                         4950                       27100           1   \n",
              "79156                         6100                       27100           5   \n",
              "\n",
              "       MatchFlankKills  MatchAssists  MatchHeadshots  \n",
              "0                    0             0               0  \n",
              "1                    0             0               0  \n",
              "2                    0             0               0  \n",
              "3                    0             0               0  \n",
              "4                    0             0               0  \n",
              "...                ...           ...             ...  \n",
              "79152                0             2               2  \n",
              "79153                5             1               3  \n",
              "79154                0             2               3  \n",
              "79155                0             1               0  \n",
              "79156                1             1               2  \n",
              "\n",
              "[79157 rows x 29 columns]"
            ],
            "text/html": [
              "\n",
              "  <div id=\"df-f2e22e6a-71e7-432c-b27f-856eaeeb1467\">\n",
              "    <div class=\"colab-df-container\">\n",
              "      <div>\n",
              "<style scoped>\n",
              "    .dataframe tbody tr th:only-of-type {\n",
              "        vertical-align: middle;\n",
              "    }\n",
              "\n",
              "    .dataframe tbody tr th {\n",
              "        vertical-align: top;\n",
              "    }\n",
              "\n",
              "    .dataframe thead th {\n",
              "        text-align: right;\n",
              "    }\n",
              "</style>\n",
              "<table border=\"1\" class=\"dataframe\">\n",
              "  <thead>\n",
              "    <tr style=\"text-align: right;\">\n",
              "      <th></th>\n",
              "      <th>Map</th>\n",
              "      <th>Team</th>\n",
              "      <th>InternalTeamId</th>\n",
              "      <th>MatchId</th>\n",
              "      <th>RoundId</th>\n",
              "      <th>RoundWinner</th>\n",
              "      <th>MatchWinner</th>\n",
              "      <th>Survived</th>\n",
              "      <th>AbnormalMatch</th>\n",
              "      <th>TimeAlive</th>\n",
              "      <th>TravelledDistance</th>\n",
              "      <th>RLethalGrenadesThrown</th>\n",
              "      <th>RNonLethalGrenadesThrown</th>\n",
              "      <th>PrimaryAssaultRifle</th>\n",
              "      <th>PrimarySniperRifle</th>\n",
              "      <th>PrimaryHeavy</th>\n",
              "      <th>PrimarySMG</th>\n",
              "      <th>PrimaryPistol</th>\n",
              "      <th>FirstKillTime</th>\n",
              "      <th>RoundKills</th>\n",
              "      <th>RoundAssists</th>\n",
              "      <th>RoundHeadshots</th>\n",
              "      <th>RoundFlankKills</th>\n",
              "      <th>RoundStartingEquipmentValue</th>\n",
              "      <th>TeamStartingEquipmentValue</th>\n",
              "      <th>MatchKills</th>\n",
              "      <th>MatchFlankKills</th>\n",
              "      <th>MatchAssists</th>\n",
              "      <th>MatchHeadshots</th>\n",
              "    </tr>\n",
              "  </thead>\n",
              "  <tbody>\n",
              "    <tr>\n",
              "      <th>0</th>\n",
              "      <td>de_inferno</td>\n",
              "      <td>Terrorist</td>\n",
              "      <td>1</td>\n",
              "      <td>4</td>\n",
              "      <td>1</td>\n",
              "      <td>False</td>\n",
              "      <td>True</td>\n",
              "      <td>False</td>\n",
              "      <td>False</td>\n",
              "      <td>51.120.248.995.704.500</td>\n",
              "      <td>10.083.140.737.457.000</td>\n",
              "      <td>0</td>\n",
              "      <td>4</td>\n",
              "      <td>0.0</td>\n",
              "      <td>0.0</td>\n",
              "      <td>0.0</td>\n",
              "      <td>0.0</td>\n",
              "      <td>1</td>\n",
              "      <td>0.0</td>\n",
              "      <td>0</td>\n",
              "      <td>0</td>\n",
              "      <td>0</td>\n",
              "      <td>0</td>\n",
              "      <td>750</td>\n",
              "      <td>4400</td>\n",
              "      <td>0</td>\n",
              "      <td>0</td>\n",
              "      <td>0</td>\n",
              "      <td>0</td>\n",
              "    </tr>\n",
              "    <tr>\n",
              "      <th>1</th>\n",
              "      <td>de_inferno</td>\n",
              "      <td>Terrorist</td>\n",
              "      <td>1</td>\n",
              "      <td>4</td>\n",
              "      <td>1</td>\n",
              "      <td>False</td>\n",
              "      <td>True</td>\n",
              "      <td>False</td>\n",
              "      <td>False</td>\n",
              "      <td>4.348.662.552.266.170</td>\n",
              "      <td>60.960.883.184.688.400</td>\n",
              "      <td>0</td>\n",
              "      <td>0</td>\n",
              "      <td>0.0</td>\n",
              "      <td>0.0</td>\n",
              "      <td>0.0</td>\n",
              "      <td>0.0</td>\n",
              "      <td>1</td>\n",
              "      <td>0.0</td>\n",
              "      <td>0</td>\n",
              "      <td>0</td>\n",
              "      <td>0</td>\n",
              "      <td>0</td>\n",
              "      <td>800</td>\n",
              "      <td>4400</td>\n",
              "      <td>0</td>\n",
              "      <td>0</td>\n",
              "      <td>0</td>\n",
              "      <td>0</td>\n",
              "    </tr>\n",
              "    <tr>\n",
              "      <th>2</th>\n",
              "      <td>de_inferno</td>\n",
              "      <td>Terrorist</td>\n",
              "      <td>1</td>\n",
              "      <td>4</td>\n",
              "      <td>1</td>\n",
              "      <td>False</td>\n",
              "      <td>True</td>\n",
              "      <td>False</td>\n",
              "      <td>False</td>\n",
              "      <td>3.735.469.847.054.540</td>\n",
              "      <td>5.642.252.383.582.750</td>\n",
              "      <td>0</td>\n",
              "      <td>0</td>\n",
              "      <td>0.0</td>\n",
              "      <td>0.0</td>\n",
              "      <td>0.0</td>\n",
              "      <td>0.0</td>\n",
              "      <td>1</td>\n",
              "      <td>0.0</td>\n",
              "      <td>0</td>\n",
              "      <td>0</td>\n",
              "      <td>0</td>\n",
              "      <td>0</td>\n",
              "      <td>1000</td>\n",
              "      <td>4400</td>\n",
              "      <td>0</td>\n",
              "      <td>0</td>\n",
              "      <td>0</td>\n",
              "      <td>0</td>\n",
              "    </tr>\n",
              "    <tr>\n",
              "      <th>3</th>\n",
              "      <td>de_inferno</td>\n",
              "      <td>Terrorist</td>\n",
              "      <td>1</td>\n",
              "      <td>4</td>\n",
              "      <td>1</td>\n",
              "      <td>False</td>\n",
              "      <td>True</td>\n",
              "      <td>False</td>\n",
              "      <td>False</td>\n",
              "      <td>4.767.886.136.441.470</td>\n",
              "      <td>8.963.473.313.229.970</td>\n",
              "      <td>0</td>\n",
              "      <td>0</td>\n",
              "      <td>0.0</td>\n",
              "      <td>0.0</td>\n",
              "      <td>0.0</td>\n",
              "      <td>0.0</td>\n",
              "      <td>1</td>\n",
              "      <td>0.0</td>\n",
              "      <td>0</td>\n",
              "      <td>0</td>\n",
              "      <td>0</td>\n",
              "      <td>0</td>\n",
              "      <td>850</td>\n",
              "      <td>4400</td>\n",
              "      <td>0</td>\n",
              "      <td>0</td>\n",
              "      <td>0</td>\n",
              "      <td>0</td>\n",
              "    </tr>\n",
              "    <tr>\n",
              "      <th>4</th>\n",
              "      <td>de_inferno</td>\n",
              "      <td>Terrorist</td>\n",
              "      <td>1</td>\n",
              "      <td>4</td>\n",
              "      <td>1</td>\n",
              "      <td>False</td>\n",
              "      <td>True</td>\n",
              "      <td>True</td>\n",
              "      <td>False</td>\n",
              "      <td>5.312.251.089.027.310</td>\n",
              "      <td>10.865.649.734.393.100</td>\n",
              "      <td>1</td>\n",
              "      <td>1</td>\n",
              "      <td>0.0</td>\n",
              "      <td>0.0</td>\n",
              "      <td>0.0</td>\n",
              "      <td>0.0</td>\n",
              "      <td>1</td>\n",
              "      <td>0.0</td>\n",
              "      <td>0</td>\n",
              "      <td>0</td>\n",
              "      <td>0</td>\n",
              "      <td>0</td>\n",
              "      <td>1000</td>\n",
              "      <td>4400</td>\n",
              "      <td>0</td>\n",
              "      <td>0</td>\n",
              "      <td>0</td>\n",
              "      <td>0</td>\n",
              "    </tr>\n",
              "    <tr>\n",
              "      <th>...</th>\n",
              "      <td>...</td>\n",
              "      <td>...</td>\n",
              "      <td>...</td>\n",
              "      <td>...</td>\n",
              "      <td>...</td>\n",
              "      <td>...</td>\n",
              "      <td>...</td>\n",
              "      <td>...</td>\n",
              "      <td>...</td>\n",
              "      <td>...</td>\n",
              "      <td>...</td>\n",
              "      <td>...</td>\n",
              "      <td>...</td>\n",
              "      <td>...</td>\n",
              "      <td>...</td>\n",
              "      <td>...</td>\n",
              "      <td>...</td>\n",
              "      <td>...</td>\n",
              "      <td>...</td>\n",
              "      <td>...</td>\n",
              "      <td>...</td>\n",
              "      <td>...</td>\n",
              "      <td>...</td>\n",
              "      <td>...</td>\n",
              "      <td>...</td>\n",
              "      <td>...</td>\n",
              "      <td>...</td>\n",
              "      <td>...</td>\n",
              "      <td>...</td>\n",
              "    </tr>\n",
              "    <tr>\n",
              "      <th>79152</th>\n",
              "      <td>de_mirage</td>\n",
              "      <td>CounterTerrorist</td>\n",
              "      <td>2</td>\n",
              "      <td>511</td>\n",
              "      <td>5</td>\n",
              "      <td>False</td>\n",
              "      <td>False</td>\n",
              "      <td>False</td>\n",
              "      <td>False</td>\n",
              "      <td>340.272.074.099.723</td>\n",
              "      <td>4.048.177.852.924.460</td>\n",
              "      <td>1</td>\n",
              "      <td>1</td>\n",
              "      <td>1.0</td>\n",
              "      <td>0.0</td>\n",
              "      <td>0.0</td>\n",
              "      <td>0.0</td>\n",
              "      <td>0</td>\n",
              "      <td>2.277.596</td>\n",
              "      <td>0</td>\n",
              "      <td>0</td>\n",
              "      <td>0</td>\n",
              "      <td>0</td>\n",
              "      <td>5600</td>\n",
              "      <td>27100</td>\n",
              "      <td>4</td>\n",
              "      <td>0</td>\n",
              "      <td>2</td>\n",
              "      <td>2</td>\n",
              "    </tr>\n",
              "    <tr>\n",
              "      <th>79153</th>\n",
              "      <td>de_mirage</td>\n",
              "      <td>CounterTerrorist</td>\n",
              "      <td>2</td>\n",
              "      <td>511</td>\n",
              "      <td>5</td>\n",
              "      <td>False</td>\n",
              "      <td>False</td>\n",
              "      <td>False</td>\n",
              "      <td>False</td>\n",
              "      <td>2.926.105.436.288.080</td>\n",
              "      <td>3.213.477.612.567.870</td>\n",
              "      <td>0</td>\n",
              "      <td>0</td>\n",
              "      <td>1.0</td>\n",
              "      <td>0.0</td>\n",
              "      <td>0.0</td>\n",
              "      <td>0.0</td>\n",
              "      <td>0</td>\n",
              "      <td>28.714.119</td>\n",
              "      <td>1</td>\n",
              "      <td>0</td>\n",
              "      <td>1</td>\n",
              "      <td>0</td>\n",
              "      <td>5500</td>\n",
              "      <td>27100</td>\n",
              "      <td>8</td>\n",
              "      <td>5</td>\n",
              "      <td>1</td>\n",
              "      <td>3</td>\n",
              "    </tr>\n",
              "    <tr>\n",
              "      <th>79154</th>\n",
              "      <td>de_mirage</td>\n",
              "      <td>CounterTerrorist</td>\n",
              "      <td>2</td>\n",
              "      <td>511</td>\n",
              "      <td>5</td>\n",
              "      <td>False</td>\n",
              "      <td>False</td>\n",
              "      <td>False</td>\n",
              "      <td>False</td>\n",
              "      <td>5.914.717.797.783.930</td>\n",
              "      <td>6.005.168.938.274.500</td>\n",
              "      <td>1</td>\n",
              "      <td>1</td>\n",
              "      <td>1.0</td>\n",
              "      <td>0.0</td>\n",
              "      <td>0.0</td>\n",
              "      <td>0.0</td>\n",
              "      <td>0</td>\n",
              "      <td>297.689.228</td>\n",
              "      <td>0</td>\n",
              "      <td>0</td>\n",
              "      <td>0</td>\n",
              "      <td>0</td>\n",
              "      <td>4950</td>\n",
              "      <td>27100</td>\n",
              "      <td>5</td>\n",
              "      <td>0</td>\n",
              "      <td>2</td>\n",
              "      <td>3</td>\n",
              "    </tr>\n",
              "    <tr>\n",
              "      <th>79155</th>\n",
              "      <td>de_mirage</td>\n",
              "      <td>CounterTerrorist</td>\n",
              "      <td>2</td>\n",
              "      <td>511</td>\n",
              "      <td>5</td>\n",
              "      <td>False</td>\n",
              "      <td>False</td>\n",
              "      <td>False</td>\n",
              "      <td>False</td>\n",
              "      <td>42.582.842.797.783.900</td>\n",
              "      <td>27.987.628.542.398.100</td>\n",
              "      <td>0</td>\n",
              "      <td>2</td>\n",
              "      <td>0.0</td>\n",
              "      <td>1.0</td>\n",
              "      <td>0.0</td>\n",
              "      <td>0.0</td>\n",
              "      <td>0</td>\n",
              "      <td>7.528.178</td>\n",
              "      <td>0</td>\n",
              "      <td>0</td>\n",
              "      <td>0</td>\n",
              "      <td>0</td>\n",
              "      <td>4950</td>\n",
              "      <td>27100</td>\n",
              "      <td>1</td>\n",
              "      <td>0</td>\n",
              "      <td>1</td>\n",
              "      <td>0</td>\n",
              "    </tr>\n",
              "    <tr>\n",
              "      <th>79156</th>\n",
              "      <td>de_mirage</td>\n",
              "      <td>CounterTerrorist</td>\n",
              "      <td>2</td>\n",
              "      <td>511</td>\n",
              "      <td>5</td>\n",
              "      <td>False</td>\n",
              "      <td>False</td>\n",
              "      <td>True</td>\n",
              "      <td>False</td>\n",
              "      <td>8.004.793.109.418.280</td>\n",
              "      <td>9.867.724.708.696.010</td>\n",
              "      <td>2</td>\n",
              "      <td>1</td>\n",
              "      <td>1.0</td>\n",
              "      <td>0.0</td>\n",
              "      <td>0.0</td>\n",
              "      <td>0.0</td>\n",
              "      <td>0</td>\n",
              "      <td>438.720.474</td>\n",
              "      <td>4</td>\n",
              "      <td>0</td>\n",
              "      <td>2</td>\n",
              "      <td>0</td>\n",
              "      <td>6100</td>\n",
              "      <td>27100</td>\n",
              "      <td>5</td>\n",
              "      <td>1</td>\n",
              "      <td>1</td>\n",
              "      <td>2</td>\n",
              "    </tr>\n",
              "  </tbody>\n",
              "</table>\n",
              "<p>79157 rows × 29 columns</p>\n",
              "</div>\n",
              "      <button class=\"colab-df-convert\" onclick=\"convertToInteractive('df-f2e22e6a-71e7-432c-b27f-856eaeeb1467')\"\n",
              "              title=\"Convert this dataframe to an interactive table.\"\n",
              "              style=\"display:none;\">\n",
              "        \n",
              "  <svg xmlns=\"http://www.w3.org/2000/svg\" height=\"24px\"viewBox=\"0 0 24 24\"\n",
              "       width=\"24px\">\n",
              "    <path d=\"M0 0h24v24H0V0z\" fill=\"none\"/>\n",
              "    <path d=\"M18.56 5.44l.94 2.06.94-2.06 2.06-.94-2.06-.94-.94-2.06-.94 2.06-2.06.94zm-11 1L8.5 8.5l.94-2.06 2.06-.94-2.06-.94L8.5 2.5l-.94 2.06-2.06.94zm10 10l.94 2.06.94-2.06 2.06-.94-2.06-.94-.94-2.06-.94 2.06-2.06.94z\"/><path d=\"M17.41 7.96l-1.37-1.37c-.4-.4-.92-.59-1.43-.59-.52 0-1.04.2-1.43.59L10.3 9.45l-7.72 7.72c-.78.78-.78 2.05 0 2.83L4 21.41c.39.39.9.59 1.41.59.51 0 1.02-.2 1.41-.59l7.78-7.78 2.81-2.81c.8-.78.8-2.07 0-2.86zM5.41 20L4 18.59l7.72-7.72 1.47 1.35L5.41 20z\"/>\n",
              "  </svg>\n",
              "      </button>\n",
              "      \n",
              "  <style>\n",
              "    .colab-df-container {\n",
              "      display:flex;\n",
              "      flex-wrap:wrap;\n",
              "      gap: 12px;\n",
              "    }\n",
              "\n",
              "    .colab-df-convert {\n",
              "      background-color: #E8F0FE;\n",
              "      border: none;\n",
              "      border-radius: 50%;\n",
              "      cursor: pointer;\n",
              "      display: none;\n",
              "      fill: #1967D2;\n",
              "      height: 32px;\n",
              "      padding: 0 0 0 0;\n",
              "      width: 32px;\n",
              "    }\n",
              "\n",
              "    .colab-df-convert:hover {\n",
              "      background-color: #E2EBFA;\n",
              "      box-shadow: 0px 1px 2px rgba(60, 64, 67, 0.3), 0px 1px 3px 1px rgba(60, 64, 67, 0.15);\n",
              "      fill: #174EA6;\n",
              "    }\n",
              "\n",
              "    [theme=dark] .colab-df-convert {\n",
              "      background-color: #3B4455;\n",
              "      fill: #D2E3FC;\n",
              "    }\n",
              "\n",
              "    [theme=dark] .colab-df-convert:hover {\n",
              "      background-color: #434B5C;\n",
              "      box-shadow: 0px 1px 3px 1px rgba(0, 0, 0, 0.15);\n",
              "      filter: drop-shadow(0px 1px 2px rgba(0, 0, 0, 0.3));\n",
              "      fill: #FFFFFF;\n",
              "    }\n",
              "  </style>\n",
              "\n",
              "      <script>\n",
              "        const buttonEl =\n",
              "          document.querySelector('#df-f2e22e6a-71e7-432c-b27f-856eaeeb1467 button.colab-df-convert');\n",
              "        buttonEl.style.display =\n",
              "          google.colab.kernel.accessAllowed ? 'block' : 'none';\n",
              "\n",
              "        async function convertToInteractive(key) {\n",
              "          const element = document.querySelector('#df-f2e22e6a-71e7-432c-b27f-856eaeeb1467');\n",
              "          const dataTable =\n",
              "            await google.colab.kernel.invokeFunction('convertToInteractive',\n",
              "                                                     [key], {});\n",
              "          if (!dataTable) return;\n",
              "\n",
              "          const docLinkHtml = 'Like what you see? Visit the ' +\n",
              "            '<a target=\"_blank\" href=https://colab.research.google.com/notebooks/data_table.ipynb>data table notebook</a>'\n",
              "            + ' to learn more about interactive tables.';\n",
              "          element.innerHTML = '';\n",
              "          dataTable['output_type'] = 'display_data';\n",
              "          await google.colab.output.renderOutput(dataTable, element);\n",
              "          const docLink = document.createElement('div');\n",
              "          docLink.innerHTML = docLinkHtml;\n",
              "          element.appendChild(docLink);\n",
              "        }\n",
              "      </script>\n",
              "    </div>\n",
              "  </div>\n",
              "  "
            ]
          },
          "metadata": {},
          "execution_count": 18
        }
      ],
      "source": [
        "df "
      ]
    },
    {
      "cell_type": "markdown",
      "source": [
        "--------------------------------------------------------------"
      ],
      "metadata": {
        "id": "mvPPnDkID1aP"
      }
    },
    {
      "cell_type": "markdown",
      "source": [
        "* Calculamos correlación de Pearson\n",
        "* Podemos deducir que por ejemplo: a mayor numero de muertes, mayor mayor es la posibilidad de sobrevivir (0.331619)\n",
        "* Tambien podemos decir que mientras mas asistencias tiene un jugador, menos posibiliaddes tiene de sobrevivir(-0.063264)\n",
        "* Otra correlación que podemos deducir es que los jugadores que eligen \"PrimarySniperRifle\"(0.067100), \"PrimaryHeavy\" (0.002006) y PrimaryPistol (-0.173705) \n",
        "* No suelen sobrevivir al contrario de los que utlizan como los que utilizan \"PrimaryAssaultRifle\" (0.110008)"
      ],
      "metadata": {
        "id": "0VzFML72D3np"
      }
    },
    {
      "cell_type": "code",
      "execution_count": 19,
      "metadata": {
        "colab": {
          "base_uri": "https://localhost:8080/",
          "height": 803
        },
        "id": "O1Eu4eQdQGUK",
        "outputId": "b4644176-907f-4f89-cfd7-0b82ad293f5c"
      },
      "outputs": [
        {
          "output_type": "execute_result",
          "data": {
            "text/plain": [
              "                             InternalTeamId   MatchId   RoundId  Survived  \\\n",
              "InternalTeamId                     1.000000  0.000027 -0.000008  0.044872   \n",
              "MatchId                            0.000027  1.000000  0.001476 -0.003239   \n",
              "RoundId                           -0.000008  0.001476  1.000000 -0.015361   \n",
              "Survived                           0.044872 -0.003239 -0.015361  1.000000   \n",
              "AbnormalMatch                           NaN       NaN       NaN       NaN   \n",
              "RLethalGrenadesThrown              0.039136  0.003009  0.065327  0.171732   \n",
              "RNonLethalGrenadesThrown          -0.005408 -0.009234  0.073314  0.125064   \n",
              "PrimaryAssaultRifle                0.001750 -0.027313  0.085892  0.110008   \n",
              "PrimarySniperRifle                 0.042205  0.043119  0.026291  0.067100   \n",
              "PrimaryHeavy                       0.006337  0.003769 -0.003975  0.002006   \n",
              "PrimarySMG                         0.004186  0.017847 -0.029860  0.026469   \n",
              "PrimaryPistol                     -0.032361 -0.002753 -0.107013 -0.173705   \n",
              "RoundKills                         0.033085  0.003271  0.009134  0.331619   \n",
              "RoundAssists                       0.019489  0.003197 -0.002503 -0.063264   \n",
              "RoundHeadshots                     0.006104 -0.023296 -0.003344  0.205279   \n",
              "RoundFlankKills                    0.020169  0.005110  0.010332  0.139673   \n",
              "RoundStartingEquipmentValue        0.067674  0.013234  0.117606  0.170578   \n",
              "TeamStartingEquipmentValue         0.073339  0.014364  0.127420  0.173237   \n",
              "MatchKills                         0.109532  0.008026  0.807501  0.059445   \n",
              "MatchFlankKills                    0.169996  0.017832  0.509277  0.041533   \n",
              "MatchAssists                       0.112188  0.012419  0.588535 -0.008001   \n",
              "MatchHeadshots                     0.008841 -0.052360  0.688221  0.047407   \n",
              "\n",
              "                             AbnormalMatch  RLethalGrenadesThrown  \\\n",
              "InternalTeamId                         NaN               0.039136   \n",
              "MatchId                                NaN               0.003009   \n",
              "RoundId                                NaN               0.065327   \n",
              "Survived                               NaN               0.171732   \n",
              "AbnormalMatch                          NaN                    NaN   \n",
              "RLethalGrenadesThrown                  NaN               1.000000   \n",
              "RNonLethalGrenadesThrown               NaN               0.382635   \n",
              "PrimaryAssaultRifle                    NaN               0.326426   \n",
              "PrimarySniperRifle                     NaN              -0.018635   \n",
              "PrimaryHeavy                           NaN              -0.023267   \n",
              "PrimarySMG                             NaN               0.003408   \n",
              "PrimaryPistol                          NaN              -0.348568   \n",
              "RoundKills                             NaN               0.162721   \n",
              "RoundAssists                           NaN               0.093738   \n",
              "RoundHeadshots                         NaN               0.080361   \n",
              "RoundFlankKills                        NaN               0.073273   \n",
              "RoundStartingEquipmentValue            NaN               0.438817   \n",
              "TeamStartingEquipmentValue             NaN               0.466507   \n",
              "MatchKills                             NaN               0.110577   \n",
              "MatchFlankKills                        NaN               0.086692   \n",
              "MatchAssists                           NaN               0.106277   \n",
              "MatchHeadshots                         NaN               0.092965   \n",
              "\n",
              "                             RNonLethalGrenadesThrown  PrimaryAssaultRifle  \\\n",
              "InternalTeamId                              -0.005408             0.001750   \n",
              "MatchId                                     -0.009234            -0.027313   \n",
              "RoundId                                      0.073314             0.085892   \n",
              "Survived                                     0.125064             0.110008   \n",
              "AbnormalMatch                                     NaN                  NaN   \n",
              "RLethalGrenadesThrown                        0.382635             0.326426   \n",
              "RNonLethalGrenadesThrown                     1.000000             0.339062   \n",
              "PrimaryAssaultRifle                          0.339062             1.000000   \n",
              "PrimarySniperRifle                          -0.023421            -0.440642   \n",
              "PrimaryHeavy                                -0.027057            -0.108901   \n",
              "PrimarySMG                                  -0.026666            -0.119824   \n",
              "PrimaryPistol                               -0.352804            -0.776826   \n",
              "RoundKills                                   0.148663             0.127903   \n",
              "RoundAssists                                 0.021319             0.065941   \n",
              "RoundHeadshots                               0.100812             0.119863   \n",
              "RoundFlankKills                              0.054749             0.063766   \n",
              "RoundStartingEquipmentValue                  0.368180             0.518780   \n",
              "TeamStartingEquipmentValue                   0.403791             0.627534   \n",
              "MatchKills                                   0.099642             0.095224   \n",
              "MatchFlankKills                              0.063542             0.087460   \n",
              "MatchAssists                                 0.073994             0.103451   \n",
              "MatchHeadshots                               0.092548             0.142642   \n",
              "\n",
              "                             PrimarySniperRifle  PrimaryHeavy  PrimarySMG  \\\n",
              "InternalTeamId                         0.042205      0.006337    0.004186   \n",
              "MatchId                                0.043119      0.003769    0.017847   \n",
              "RoundId                                0.026291     -0.003975   -0.029860   \n",
              "Survived                               0.067100      0.002006    0.026469   \n",
              "AbnormalMatch                               NaN           NaN         NaN   \n",
              "RLethalGrenadesThrown                 -0.018635     -0.023267    0.003408   \n",
              "RNonLethalGrenadesThrown              -0.023421     -0.027057   -0.026666   \n",
              "PrimaryAssaultRifle                   -0.440642     -0.108901   -0.119824   \n",
              "PrimarySniperRifle                     1.000000     -0.024840   -0.026602   \n",
              "PrimaryHeavy                          -0.024840      1.000000   -0.005862   \n",
              "PrimarySMG                            -0.026602     -0.005862    1.000000   \n",
              "PrimaryPistol                         -0.171415     -0.042170   -0.045621   \n",
              "RoundKills                             0.072187      0.001692    0.018592   \n",
              "RoundAssists                          -0.030621      0.002628    0.012162   \n",
              "RoundHeadshots                        -0.083883     -0.002897    0.012835   \n",
              "RoundFlankKills                        0.004260      0.008143    0.001398   \n",
              "RoundStartingEquipmentValue            0.334221     -0.037131   -0.025325   \n",
              "TeamStartingEquipmentValue             0.199256     -0.022217   -0.013120   \n",
              "MatchKills                             0.069314     -0.009765   -0.021469   \n",
              "MatchFlankKills                        0.001269     -0.000579   -0.013826   \n",
              "MatchAssists                          -0.016344     -0.002852   -0.010295   \n",
              "MatchHeadshots                        -0.057624     -0.004694   -0.016383   \n",
              "\n",
              "                             PrimaryPistol  RoundKills  RoundAssists  \\\n",
              "InternalTeamId                   -0.032361    0.033085      0.019489   \n",
              "MatchId                          -0.002753    0.003271      0.003197   \n",
              "RoundId                          -0.107013    0.009134     -0.002503   \n",
              "Survived                         -0.173705    0.331619     -0.063264   \n",
              "AbnormalMatch                          NaN         NaN           NaN   \n",
              "RLethalGrenadesThrown            -0.348568    0.162721      0.093738   \n",
              "RNonLethalGrenadesThrown         -0.352804    0.148663      0.021319   \n",
              "PrimaryAssaultRifle              -0.776826    0.127903      0.065941   \n",
              "PrimarySniperRifle               -0.171415    0.072187     -0.030621   \n",
              "PrimaryHeavy                     -0.042170    0.001692      0.002628   \n",
              "PrimarySMG                       -0.045621    0.018592      0.012162   \n",
              "PrimaryPistol                     1.000000   -0.195501     -0.055935   \n",
              "RoundKills                       -0.195501    1.000000     -0.021482   \n",
              "RoundAssists                     -0.055935   -0.021482      1.000000   \n",
              "RoundHeadshots                   -0.079434    0.679179     -0.017335   \n",
              "RoundFlankKills                  -0.075863    0.391406     -0.000058   \n",
              "RoundStartingEquipmentValue      -0.792876    0.172141      0.055227   \n",
              "TeamStartingEquipmentValue       -0.828608    0.168600      0.067011   \n",
              "MatchKills                       -0.147026    0.183402      0.003477   \n",
              "MatchFlankKills                  -0.095713    0.115988      0.008084   \n",
              "MatchAssists                     -0.102003    0.019540      0.227472   \n",
              "MatchHeadshots                   -0.116441    0.152600     -0.000812   \n",
              "\n",
              "                             RoundHeadshots  RoundFlankKills  \\\n",
              "InternalTeamId                     0.006104         0.020169   \n",
              "MatchId                           -0.023296         0.005110   \n",
              "RoundId                           -0.003344         0.010332   \n",
              "Survived                           0.205279         0.139673   \n",
              "AbnormalMatch                           NaN              NaN   \n",
              "RLethalGrenadesThrown              0.080361         0.073273   \n",
              "RNonLethalGrenadesThrown           0.100812         0.054749   \n",
              "PrimaryAssaultRifle                0.119863         0.063766   \n",
              "PrimarySniperRifle                -0.083883         0.004260   \n",
              "PrimaryHeavy                      -0.002897         0.008143   \n",
              "PrimarySMG                         0.012835         0.001398   \n",
              "PrimaryPistol                     -0.079434        -0.075863   \n",
              "RoundKills                         0.679179         0.391406   \n",
              "RoundAssists                      -0.017335        -0.000058   \n",
              "RoundHeadshots                     1.000000         0.233419   \n",
              "RoundFlankKills                    0.233419         1.000000   \n",
              "RoundStartingEquipmentValue        0.035972         0.069842   \n",
              "TeamStartingEquipmentValue         0.047938         0.076407   \n",
              "MatchKills                         0.112018         0.078891   \n",
              "MatchFlankKills                    0.063589         0.248839   \n",
              "MatchAssists                       0.004592         0.010769   \n",
              "MatchHeadshots                     0.213817         0.062925   \n",
              "\n",
              "                             RoundStartingEquipmentValue  \\\n",
              "InternalTeamId                                  0.067674   \n",
              "MatchId                                         0.013234   \n",
              "RoundId                                         0.117606   \n",
              "Survived                                        0.170578   \n",
              "AbnormalMatch                                        NaN   \n",
              "RLethalGrenadesThrown                           0.438817   \n",
              "RNonLethalGrenadesThrown                        0.368180   \n",
              "PrimaryAssaultRifle                             0.518780   \n",
              "PrimarySniperRifle                              0.334221   \n",
              "PrimaryHeavy                                   -0.037131   \n",
              "PrimarySMG                                     -0.025325   \n",
              "PrimaryPistol                                  -0.792876   \n",
              "RoundKills                                      0.172141   \n",
              "RoundAssists                                    0.055227   \n",
              "RoundHeadshots                                  0.035972   \n",
              "RoundFlankKills                                 0.069842   \n",
              "RoundStartingEquipmentValue                     1.000000   \n",
              "TeamStartingEquipmentValue                      0.922943   \n",
              "MatchKills                                      0.179080   \n",
              "MatchFlankKills                                 0.115976   \n",
              "MatchAssists                                    0.112696   \n",
              "MatchHeadshots                                  0.116417   \n",
              "\n",
              "                             TeamStartingEquipmentValue  MatchKills  \\\n",
              "InternalTeamId                                 0.073339    0.109532   \n",
              "MatchId                                        0.014364    0.008026   \n",
              "RoundId                                        0.127420    0.807501   \n",
              "Survived                                       0.173237    0.059445   \n",
              "AbnormalMatch                                       NaN         NaN   \n",
              "RLethalGrenadesThrown                          0.466507    0.110577   \n",
              "RNonLethalGrenadesThrown                       0.403791    0.099642   \n",
              "PrimaryAssaultRifle                            0.627534    0.095224   \n",
              "PrimarySniperRifle                             0.199256    0.069314   \n",
              "PrimaryHeavy                                  -0.022217   -0.009765   \n",
              "PrimarySMG                                    -0.013120   -0.021469   \n",
              "PrimaryPistol                                 -0.828608   -0.147026   \n",
              "RoundKills                                     0.168600    0.183402   \n",
              "RoundAssists                                   0.067011    0.003477   \n",
              "RoundHeadshots                                 0.047938    0.112018   \n",
              "RoundFlankKills                                0.076407    0.078891   \n",
              "RoundStartingEquipmentValue                    0.922943    0.179080   \n",
              "TeamStartingEquipmentValue                     1.000000    0.178526   \n",
              "MatchKills                                     0.178526    1.000000   \n",
              "MatchFlankKills                                0.122455    0.641599   \n",
              "MatchAssists                                   0.135532    0.510016   \n",
              "MatchHeadshots                                 0.132275    0.831450   \n",
              "\n",
              "                             MatchFlankKills  MatchAssists  MatchHeadshots  \n",
              "InternalTeamId                      0.169996      0.112188        0.008841  \n",
              "MatchId                             0.017832      0.012419       -0.052360  \n",
              "RoundId                             0.509277      0.588535        0.688221  \n",
              "Survived                            0.041533     -0.008001        0.047407  \n",
              "AbnormalMatch                            NaN           NaN             NaN  \n",
              "RLethalGrenadesThrown               0.086692      0.106277        0.092965  \n",
              "RNonLethalGrenadesThrown            0.063542      0.073994        0.092548  \n",
              "PrimaryAssaultRifle                 0.087460      0.103451        0.142642  \n",
              "PrimarySniperRifle                  0.001269     -0.016344       -0.057624  \n",
              "PrimaryHeavy                       -0.000579     -0.002852       -0.004694  \n",
              "PrimarySMG                         -0.013826     -0.010295       -0.016383  \n",
              "PrimaryPistol                      -0.095713     -0.102003       -0.116441  \n",
              "RoundKills                          0.115988      0.019540        0.152600  \n",
              "RoundAssists                        0.008084      0.227472       -0.000812  \n",
              "RoundHeadshots                      0.063589      0.004592        0.213817  \n",
              "RoundFlankKills                     0.248839      0.010769        0.062925  \n",
              "RoundStartingEquipmentValue         0.115976      0.112696        0.116417  \n",
              "TeamStartingEquipmentValue          0.122455      0.135532        0.132275  \n",
              "MatchKills                          0.641599      0.510016        0.831450  \n",
              "MatchFlankKills                     1.000000      0.337655        0.516180  \n",
              "MatchAssists                        0.337655      1.000000        0.415551  \n",
              "MatchHeadshots                      0.516180      0.415551        1.000000  "
            ],
            "text/html": [
              "\n",
              "  <div id=\"df-d63f9351-c9f0-4b98-a924-5e0139f40bec\">\n",
              "    <div class=\"colab-df-container\">\n",
              "      <div>\n",
              "<style scoped>\n",
              "    .dataframe tbody tr th:only-of-type {\n",
              "        vertical-align: middle;\n",
              "    }\n",
              "\n",
              "    .dataframe tbody tr th {\n",
              "        vertical-align: top;\n",
              "    }\n",
              "\n",
              "    .dataframe thead th {\n",
              "        text-align: right;\n",
              "    }\n",
              "</style>\n",
              "<table border=\"1\" class=\"dataframe\">\n",
              "  <thead>\n",
              "    <tr style=\"text-align: right;\">\n",
              "      <th></th>\n",
              "      <th>InternalTeamId</th>\n",
              "      <th>MatchId</th>\n",
              "      <th>RoundId</th>\n",
              "      <th>Survived</th>\n",
              "      <th>AbnormalMatch</th>\n",
              "      <th>RLethalGrenadesThrown</th>\n",
              "      <th>RNonLethalGrenadesThrown</th>\n",
              "      <th>PrimaryAssaultRifle</th>\n",
              "      <th>PrimarySniperRifle</th>\n",
              "      <th>PrimaryHeavy</th>\n",
              "      <th>PrimarySMG</th>\n",
              "      <th>PrimaryPistol</th>\n",
              "      <th>RoundKills</th>\n",
              "      <th>RoundAssists</th>\n",
              "      <th>RoundHeadshots</th>\n",
              "      <th>RoundFlankKills</th>\n",
              "      <th>RoundStartingEquipmentValue</th>\n",
              "      <th>TeamStartingEquipmentValue</th>\n",
              "      <th>MatchKills</th>\n",
              "      <th>MatchFlankKills</th>\n",
              "      <th>MatchAssists</th>\n",
              "      <th>MatchHeadshots</th>\n",
              "    </tr>\n",
              "  </thead>\n",
              "  <tbody>\n",
              "    <tr>\n",
              "      <th>InternalTeamId</th>\n",
              "      <td>1.000000</td>\n",
              "      <td>0.000027</td>\n",
              "      <td>-0.000008</td>\n",
              "      <td>0.044872</td>\n",
              "      <td>NaN</td>\n",
              "      <td>0.039136</td>\n",
              "      <td>-0.005408</td>\n",
              "      <td>0.001750</td>\n",
              "      <td>0.042205</td>\n",
              "      <td>0.006337</td>\n",
              "      <td>0.004186</td>\n",
              "      <td>-0.032361</td>\n",
              "      <td>0.033085</td>\n",
              "      <td>0.019489</td>\n",
              "      <td>0.006104</td>\n",
              "      <td>0.020169</td>\n",
              "      <td>0.067674</td>\n",
              "      <td>0.073339</td>\n",
              "      <td>0.109532</td>\n",
              "      <td>0.169996</td>\n",
              "      <td>0.112188</td>\n",
              "      <td>0.008841</td>\n",
              "    </tr>\n",
              "    <tr>\n",
              "      <th>MatchId</th>\n",
              "      <td>0.000027</td>\n",
              "      <td>1.000000</td>\n",
              "      <td>0.001476</td>\n",
              "      <td>-0.003239</td>\n",
              "      <td>NaN</td>\n",
              "      <td>0.003009</td>\n",
              "      <td>-0.009234</td>\n",
              "      <td>-0.027313</td>\n",
              "      <td>0.043119</td>\n",
              "      <td>0.003769</td>\n",
              "      <td>0.017847</td>\n",
              "      <td>-0.002753</td>\n",
              "      <td>0.003271</td>\n",
              "      <td>0.003197</td>\n",
              "      <td>-0.023296</td>\n",
              "      <td>0.005110</td>\n",
              "      <td>0.013234</td>\n",
              "      <td>0.014364</td>\n",
              "      <td>0.008026</td>\n",
              "      <td>0.017832</td>\n",
              "      <td>0.012419</td>\n",
              "      <td>-0.052360</td>\n",
              "    </tr>\n",
              "    <tr>\n",
              "      <th>RoundId</th>\n",
              "      <td>-0.000008</td>\n",
              "      <td>0.001476</td>\n",
              "      <td>1.000000</td>\n",
              "      <td>-0.015361</td>\n",
              "      <td>NaN</td>\n",
              "      <td>0.065327</td>\n",
              "      <td>0.073314</td>\n",
              "      <td>0.085892</td>\n",
              "      <td>0.026291</td>\n",
              "      <td>-0.003975</td>\n",
              "      <td>-0.029860</td>\n",
              "      <td>-0.107013</td>\n",
              "      <td>0.009134</td>\n",
              "      <td>-0.002503</td>\n",
              "      <td>-0.003344</td>\n",
              "      <td>0.010332</td>\n",
              "      <td>0.117606</td>\n",
              "      <td>0.127420</td>\n",
              "      <td>0.807501</td>\n",
              "      <td>0.509277</td>\n",
              "      <td>0.588535</td>\n",
              "      <td>0.688221</td>\n",
              "    </tr>\n",
              "    <tr>\n",
              "      <th>Survived</th>\n",
              "      <td>0.044872</td>\n",
              "      <td>-0.003239</td>\n",
              "      <td>-0.015361</td>\n",
              "      <td>1.000000</td>\n",
              "      <td>NaN</td>\n",
              "      <td>0.171732</td>\n",
              "      <td>0.125064</td>\n",
              "      <td>0.110008</td>\n",
              "      <td>0.067100</td>\n",
              "      <td>0.002006</td>\n",
              "      <td>0.026469</td>\n",
              "      <td>-0.173705</td>\n",
              "      <td>0.331619</td>\n",
              "      <td>-0.063264</td>\n",
              "      <td>0.205279</td>\n",
              "      <td>0.139673</td>\n",
              "      <td>0.170578</td>\n",
              "      <td>0.173237</td>\n",
              "      <td>0.059445</td>\n",
              "      <td>0.041533</td>\n",
              "      <td>-0.008001</td>\n",
              "      <td>0.047407</td>\n",
              "    </tr>\n",
              "    <tr>\n",
              "      <th>AbnormalMatch</th>\n",
              "      <td>NaN</td>\n",
              "      <td>NaN</td>\n",
              "      <td>NaN</td>\n",
              "      <td>NaN</td>\n",
              "      <td>NaN</td>\n",
              "      <td>NaN</td>\n",
              "      <td>NaN</td>\n",
              "      <td>NaN</td>\n",
              "      <td>NaN</td>\n",
              "      <td>NaN</td>\n",
              "      <td>NaN</td>\n",
              "      <td>NaN</td>\n",
              "      <td>NaN</td>\n",
              "      <td>NaN</td>\n",
              "      <td>NaN</td>\n",
              "      <td>NaN</td>\n",
              "      <td>NaN</td>\n",
              "      <td>NaN</td>\n",
              "      <td>NaN</td>\n",
              "      <td>NaN</td>\n",
              "      <td>NaN</td>\n",
              "      <td>NaN</td>\n",
              "    </tr>\n",
              "    <tr>\n",
              "      <th>RLethalGrenadesThrown</th>\n",
              "      <td>0.039136</td>\n",
              "      <td>0.003009</td>\n",
              "      <td>0.065327</td>\n",
              "      <td>0.171732</td>\n",
              "      <td>NaN</td>\n",
              "      <td>1.000000</td>\n",
              "      <td>0.382635</td>\n",
              "      <td>0.326426</td>\n",
              "      <td>-0.018635</td>\n",
              "      <td>-0.023267</td>\n",
              "      <td>0.003408</td>\n",
              "      <td>-0.348568</td>\n",
              "      <td>0.162721</td>\n",
              "      <td>0.093738</td>\n",
              "      <td>0.080361</td>\n",
              "      <td>0.073273</td>\n",
              "      <td>0.438817</td>\n",
              "      <td>0.466507</td>\n",
              "      <td>0.110577</td>\n",
              "      <td>0.086692</td>\n",
              "      <td>0.106277</td>\n",
              "      <td>0.092965</td>\n",
              "    </tr>\n",
              "    <tr>\n",
              "      <th>RNonLethalGrenadesThrown</th>\n",
              "      <td>-0.005408</td>\n",
              "      <td>-0.009234</td>\n",
              "      <td>0.073314</td>\n",
              "      <td>0.125064</td>\n",
              "      <td>NaN</td>\n",
              "      <td>0.382635</td>\n",
              "      <td>1.000000</td>\n",
              "      <td>0.339062</td>\n",
              "      <td>-0.023421</td>\n",
              "      <td>-0.027057</td>\n",
              "      <td>-0.026666</td>\n",
              "      <td>-0.352804</td>\n",
              "      <td>0.148663</td>\n",
              "      <td>0.021319</td>\n",
              "      <td>0.100812</td>\n",
              "      <td>0.054749</td>\n",
              "      <td>0.368180</td>\n",
              "      <td>0.403791</td>\n",
              "      <td>0.099642</td>\n",
              "      <td>0.063542</td>\n",
              "      <td>0.073994</td>\n",
              "      <td>0.092548</td>\n",
              "    </tr>\n",
              "    <tr>\n",
              "      <th>PrimaryAssaultRifle</th>\n",
              "      <td>0.001750</td>\n",
              "      <td>-0.027313</td>\n",
              "      <td>0.085892</td>\n",
              "      <td>0.110008</td>\n",
              "      <td>NaN</td>\n",
              "      <td>0.326426</td>\n",
              "      <td>0.339062</td>\n",
              "      <td>1.000000</td>\n",
              "      <td>-0.440642</td>\n",
              "      <td>-0.108901</td>\n",
              "      <td>-0.119824</td>\n",
              "      <td>-0.776826</td>\n",
              "      <td>0.127903</td>\n",
              "      <td>0.065941</td>\n",
              "      <td>0.119863</td>\n",
              "      <td>0.063766</td>\n",
              "      <td>0.518780</td>\n",
              "      <td>0.627534</td>\n",
              "      <td>0.095224</td>\n",
              "      <td>0.087460</td>\n",
              "      <td>0.103451</td>\n",
              "      <td>0.142642</td>\n",
              "    </tr>\n",
              "    <tr>\n",
              "      <th>PrimarySniperRifle</th>\n",
              "      <td>0.042205</td>\n",
              "      <td>0.043119</td>\n",
              "      <td>0.026291</td>\n",
              "      <td>0.067100</td>\n",
              "      <td>NaN</td>\n",
              "      <td>-0.018635</td>\n",
              "      <td>-0.023421</td>\n",
              "      <td>-0.440642</td>\n",
              "      <td>1.000000</td>\n",
              "      <td>-0.024840</td>\n",
              "      <td>-0.026602</td>\n",
              "      <td>-0.171415</td>\n",
              "      <td>0.072187</td>\n",
              "      <td>-0.030621</td>\n",
              "      <td>-0.083883</td>\n",
              "      <td>0.004260</td>\n",
              "      <td>0.334221</td>\n",
              "      <td>0.199256</td>\n",
              "      <td>0.069314</td>\n",
              "      <td>0.001269</td>\n",
              "      <td>-0.016344</td>\n",
              "      <td>-0.057624</td>\n",
              "    </tr>\n",
              "    <tr>\n",
              "      <th>PrimaryHeavy</th>\n",
              "      <td>0.006337</td>\n",
              "      <td>0.003769</td>\n",
              "      <td>-0.003975</td>\n",
              "      <td>0.002006</td>\n",
              "      <td>NaN</td>\n",
              "      <td>-0.023267</td>\n",
              "      <td>-0.027057</td>\n",
              "      <td>-0.108901</td>\n",
              "      <td>-0.024840</td>\n",
              "      <td>1.000000</td>\n",
              "      <td>-0.005862</td>\n",
              "      <td>-0.042170</td>\n",
              "      <td>0.001692</td>\n",
              "      <td>0.002628</td>\n",
              "      <td>-0.002897</td>\n",
              "      <td>0.008143</td>\n",
              "      <td>-0.037131</td>\n",
              "      <td>-0.022217</td>\n",
              "      <td>-0.009765</td>\n",
              "      <td>-0.000579</td>\n",
              "      <td>-0.002852</td>\n",
              "      <td>-0.004694</td>\n",
              "    </tr>\n",
              "    <tr>\n",
              "      <th>PrimarySMG</th>\n",
              "      <td>0.004186</td>\n",
              "      <td>0.017847</td>\n",
              "      <td>-0.029860</td>\n",
              "      <td>0.026469</td>\n",
              "      <td>NaN</td>\n",
              "      <td>0.003408</td>\n",
              "      <td>-0.026666</td>\n",
              "      <td>-0.119824</td>\n",
              "      <td>-0.026602</td>\n",
              "      <td>-0.005862</td>\n",
              "      <td>1.000000</td>\n",
              "      <td>-0.045621</td>\n",
              "      <td>0.018592</td>\n",
              "      <td>0.012162</td>\n",
              "      <td>0.012835</td>\n",
              "      <td>0.001398</td>\n",
              "      <td>-0.025325</td>\n",
              "      <td>-0.013120</td>\n",
              "      <td>-0.021469</td>\n",
              "      <td>-0.013826</td>\n",
              "      <td>-0.010295</td>\n",
              "      <td>-0.016383</td>\n",
              "    </tr>\n",
              "    <tr>\n",
              "      <th>PrimaryPistol</th>\n",
              "      <td>-0.032361</td>\n",
              "      <td>-0.002753</td>\n",
              "      <td>-0.107013</td>\n",
              "      <td>-0.173705</td>\n",
              "      <td>NaN</td>\n",
              "      <td>-0.348568</td>\n",
              "      <td>-0.352804</td>\n",
              "      <td>-0.776826</td>\n",
              "      <td>-0.171415</td>\n",
              "      <td>-0.042170</td>\n",
              "      <td>-0.045621</td>\n",
              "      <td>1.000000</td>\n",
              "      <td>-0.195501</td>\n",
              "      <td>-0.055935</td>\n",
              "      <td>-0.079434</td>\n",
              "      <td>-0.075863</td>\n",
              "      <td>-0.792876</td>\n",
              "      <td>-0.828608</td>\n",
              "      <td>-0.147026</td>\n",
              "      <td>-0.095713</td>\n",
              "      <td>-0.102003</td>\n",
              "      <td>-0.116441</td>\n",
              "    </tr>\n",
              "    <tr>\n",
              "      <th>RoundKills</th>\n",
              "      <td>0.033085</td>\n",
              "      <td>0.003271</td>\n",
              "      <td>0.009134</td>\n",
              "      <td>0.331619</td>\n",
              "      <td>NaN</td>\n",
              "      <td>0.162721</td>\n",
              "      <td>0.148663</td>\n",
              "      <td>0.127903</td>\n",
              "      <td>0.072187</td>\n",
              "      <td>0.001692</td>\n",
              "      <td>0.018592</td>\n",
              "      <td>-0.195501</td>\n",
              "      <td>1.000000</td>\n",
              "      <td>-0.021482</td>\n",
              "      <td>0.679179</td>\n",
              "      <td>0.391406</td>\n",
              "      <td>0.172141</td>\n",
              "      <td>0.168600</td>\n",
              "      <td>0.183402</td>\n",
              "      <td>0.115988</td>\n",
              "      <td>0.019540</td>\n",
              "      <td>0.152600</td>\n",
              "    </tr>\n",
              "    <tr>\n",
              "      <th>RoundAssists</th>\n",
              "      <td>0.019489</td>\n",
              "      <td>0.003197</td>\n",
              "      <td>-0.002503</td>\n",
              "      <td>-0.063264</td>\n",
              "      <td>NaN</td>\n",
              "      <td>0.093738</td>\n",
              "      <td>0.021319</td>\n",
              "      <td>0.065941</td>\n",
              "      <td>-0.030621</td>\n",
              "      <td>0.002628</td>\n",
              "      <td>0.012162</td>\n",
              "      <td>-0.055935</td>\n",
              "      <td>-0.021482</td>\n",
              "      <td>1.000000</td>\n",
              "      <td>-0.017335</td>\n",
              "      <td>-0.000058</td>\n",
              "      <td>0.055227</td>\n",
              "      <td>0.067011</td>\n",
              "      <td>0.003477</td>\n",
              "      <td>0.008084</td>\n",
              "      <td>0.227472</td>\n",
              "      <td>-0.000812</td>\n",
              "    </tr>\n",
              "    <tr>\n",
              "      <th>RoundHeadshots</th>\n",
              "      <td>0.006104</td>\n",
              "      <td>-0.023296</td>\n",
              "      <td>-0.003344</td>\n",
              "      <td>0.205279</td>\n",
              "      <td>NaN</td>\n",
              "      <td>0.080361</td>\n",
              "      <td>0.100812</td>\n",
              "      <td>0.119863</td>\n",
              "      <td>-0.083883</td>\n",
              "      <td>-0.002897</td>\n",
              "      <td>0.012835</td>\n",
              "      <td>-0.079434</td>\n",
              "      <td>0.679179</td>\n",
              "      <td>-0.017335</td>\n",
              "      <td>1.000000</td>\n",
              "      <td>0.233419</td>\n",
              "      <td>0.035972</td>\n",
              "      <td>0.047938</td>\n",
              "      <td>0.112018</td>\n",
              "      <td>0.063589</td>\n",
              "      <td>0.004592</td>\n",
              "      <td>0.213817</td>\n",
              "    </tr>\n",
              "    <tr>\n",
              "      <th>RoundFlankKills</th>\n",
              "      <td>0.020169</td>\n",
              "      <td>0.005110</td>\n",
              "      <td>0.010332</td>\n",
              "      <td>0.139673</td>\n",
              "      <td>NaN</td>\n",
              "      <td>0.073273</td>\n",
              "      <td>0.054749</td>\n",
              "      <td>0.063766</td>\n",
              "      <td>0.004260</td>\n",
              "      <td>0.008143</td>\n",
              "      <td>0.001398</td>\n",
              "      <td>-0.075863</td>\n",
              "      <td>0.391406</td>\n",
              "      <td>-0.000058</td>\n",
              "      <td>0.233419</td>\n",
              "      <td>1.000000</td>\n",
              "      <td>0.069842</td>\n",
              "      <td>0.076407</td>\n",
              "      <td>0.078891</td>\n",
              "      <td>0.248839</td>\n",
              "      <td>0.010769</td>\n",
              "      <td>0.062925</td>\n",
              "    </tr>\n",
              "    <tr>\n",
              "      <th>RoundStartingEquipmentValue</th>\n",
              "      <td>0.067674</td>\n",
              "      <td>0.013234</td>\n",
              "      <td>0.117606</td>\n",
              "      <td>0.170578</td>\n",
              "      <td>NaN</td>\n",
              "      <td>0.438817</td>\n",
              "      <td>0.368180</td>\n",
              "      <td>0.518780</td>\n",
              "      <td>0.334221</td>\n",
              "      <td>-0.037131</td>\n",
              "      <td>-0.025325</td>\n",
              "      <td>-0.792876</td>\n",
              "      <td>0.172141</td>\n",
              "      <td>0.055227</td>\n",
              "      <td>0.035972</td>\n",
              "      <td>0.069842</td>\n",
              "      <td>1.000000</td>\n",
              "      <td>0.922943</td>\n",
              "      <td>0.179080</td>\n",
              "      <td>0.115976</td>\n",
              "      <td>0.112696</td>\n",
              "      <td>0.116417</td>\n",
              "    </tr>\n",
              "    <tr>\n",
              "      <th>TeamStartingEquipmentValue</th>\n",
              "      <td>0.073339</td>\n",
              "      <td>0.014364</td>\n",
              "      <td>0.127420</td>\n",
              "      <td>0.173237</td>\n",
              "      <td>NaN</td>\n",
              "      <td>0.466507</td>\n",
              "      <td>0.403791</td>\n",
              "      <td>0.627534</td>\n",
              "      <td>0.199256</td>\n",
              "      <td>-0.022217</td>\n",
              "      <td>-0.013120</td>\n",
              "      <td>-0.828608</td>\n",
              "      <td>0.168600</td>\n",
              "      <td>0.067011</td>\n",
              "      <td>0.047938</td>\n",
              "      <td>0.076407</td>\n",
              "      <td>0.922943</td>\n",
              "      <td>1.000000</td>\n",
              "      <td>0.178526</td>\n",
              "      <td>0.122455</td>\n",
              "      <td>0.135532</td>\n",
              "      <td>0.132275</td>\n",
              "    </tr>\n",
              "    <tr>\n",
              "      <th>MatchKills</th>\n",
              "      <td>0.109532</td>\n",
              "      <td>0.008026</td>\n",
              "      <td>0.807501</td>\n",
              "      <td>0.059445</td>\n",
              "      <td>NaN</td>\n",
              "      <td>0.110577</td>\n",
              "      <td>0.099642</td>\n",
              "      <td>0.095224</td>\n",
              "      <td>0.069314</td>\n",
              "      <td>-0.009765</td>\n",
              "      <td>-0.021469</td>\n",
              "      <td>-0.147026</td>\n",
              "      <td>0.183402</td>\n",
              "      <td>0.003477</td>\n",
              "      <td>0.112018</td>\n",
              "      <td>0.078891</td>\n",
              "      <td>0.179080</td>\n",
              "      <td>0.178526</td>\n",
              "      <td>1.000000</td>\n",
              "      <td>0.641599</td>\n",
              "      <td>0.510016</td>\n",
              "      <td>0.831450</td>\n",
              "    </tr>\n",
              "    <tr>\n",
              "      <th>MatchFlankKills</th>\n",
              "      <td>0.169996</td>\n",
              "      <td>0.017832</td>\n",
              "      <td>0.509277</td>\n",
              "      <td>0.041533</td>\n",
              "      <td>NaN</td>\n",
              "      <td>0.086692</td>\n",
              "      <td>0.063542</td>\n",
              "      <td>0.087460</td>\n",
              "      <td>0.001269</td>\n",
              "      <td>-0.000579</td>\n",
              "      <td>-0.013826</td>\n",
              "      <td>-0.095713</td>\n",
              "      <td>0.115988</td>\n",
              "      <td>0.008084</td>\n",
              "      <td>0.063589</td>\n",
              "      <td>0.248839</td>\n",
              "      <td>0.115976</td>\n",
              "      <td>0.122455</td>\n",
              "      <td>0.641599</td>\n",
              "      <td>1.000000</td>\n",
              "      <td>0.337655</td>\n",
              "      <td>0.516180</td>\n",
              "    </tr>\n",
              "    <tr>\n",
              "      <th>MatchAssists</th>\n",
              "      <td>0.112188</td>\n",
              "      <td>0.012419</td>\n",
              "      <td>0.588535</td>\n",
              "      <td>-0.008001</td>\n",
              "      <td>NaN</td>\n",
              "      <td>0.106277</td>\n",
              "      <td>0.073994</td>\n",
              "      <td>0.103451</td>\n",
              "      <td>-0.016344</td>\n",
              "      <td>-0.002852</td>\n",
              "      <td>-0.010295</td>\n",
              "      <td>-0.102003</td>\n",
              "      <td>0.019540</td>\n",
              "      <td>0.227472</td>\n",
              "      <td>0.004592</td>\n",
              "      <td>0.010769</td>\n",
              "      <td>0.112696</td>\n",
              "      <td>0.135532</td>\n",
              "      <td>0.510016</td>\n",
              "      <td>0.337655</td>\n",
              "      <td>1.000000</td>\n",
              "      <td>0.415551</td>\n",
              "    </tr>\n",
              "    <tr>\n",
              "      <th>MatchHeadshots</th>\n",
              "      <td>0.008841</td>\n",
              "      <td>-0.052360</td>\n",
              "      <td>0.688221</td>\n",
              "      <td>0.047407</td>\n",
              "      <td>NaN</td>\n",
              "      <td>0.092965</td>\n",
              "      <td>0.092548</td>\n",
              "      <td>0.142642</td>\n",
              "      <td>-0.057624</td>\n",
              "      <td>-0.004694</td>\n",
              "      <td>-0.016383</td>\n",
              "      <td>-0.116441</td>\n",
              "      <td>0.152600</td>\n",
              "      <td>-0.000812</td>\n",
              "      <td>0.213817</td>\n",
              "      <td>0.062925</td>\n",
              "      <td>0.116417</td>\n",
              "      <td>0.132275</td>\n",
              "      <td>0.831450</td>\n",
              "      <td>0.516180</td>\n",
              "      <td>0.415551</td>\n",
              "      <td>1.000000</td>\n",
              "    </tr>\n",
              "  </tbody>\n",
              "</table>\n",
              "</div>\n",
              "      <button class=\"colab-df-convert\" onclick=\"convertToInteractive('df-d63f9351-c9f0-4b98-a924-5e0139f40bec')\"\n",
              "              title=\"Convert this dataframe to an interactive table.\"\n",
              "              style=\"display:none;\">\n",
              "        \n",
              "  <svg xmlns=\"http://www.w3.org/2000/svg\" height=\"24px\"viewBox=\"0 0 24 24\"\n",
              "       width=\"24px\">\n",
              "    <path d=\"M0 0h24v24H0V0z\" fill=\"none\"/>\n",
              "    <path d=\"M18.56 5.44l.94 2.06.94-2.06 2.06-.94-2.06-.94-.94-2.06-.94 2.06-2.06.94zm-11 1L8.5 8.5l.94-2.06 2.06-.94-2.06-.94L8.5 2.5l-.94 2.06-2.06.94zm10 10l.94 2.06.94-2.06 2.06-.94-2.06-.94-.94-2.06-.94 2.06-2.06.94z\"/><path d=\"M17.41 7.96l-1.37-1.37c-.4-.4-.92-.59-1.43-.59-.52 0-1.04.2-1.43.59L10.3 9.45l-7.72 7.72c-.78.78-.78 2.05 0 2.83L4 21.41c.39.39.9.59 1.41.59.51 0 1.02-.2 1.41-.59l7.78-7.78 2.81-2.81c.8-.78.8-2.07 0-2.86zM5.41 20L4 18.59l7.72-7.72 1.47 1.35L5.41 20z\"/>\n",
              "  </svg>\n",
              "      </button>\n",
              "      \n",
              "  <style>\n",
              "    .colab-df-container {\n",
              "      display:flex;\n",
              "      flex-wrap:wrap;\n",
              "      gap: 12px;\n",
              "    }\n",
              "\n",
              "    .colab-df-convert {\n",
              "      background-color: #E8F0FE;\n",
              "      border: none;\n",
              "      border-radius: 50%;\n",
              "      cursor: pointer;\n",
              "      display: none;\n",
              "      fill: #1967D2;\n",
              "      height: 32px;\n",
              "      padding: 0 0 0 0;\n",
              "      width: 32px;\n",
              "    }\n",
              "\n",
              "    .colab-df-convert:hover {\n",
              "      background-color: #E2EBFA;\n",
              "      box-shadow: 0px 1px 2px rgba(60, 64, 67, 0.3), 0px 1px 3px 1px rgba(60, 64, 67, 0.15);\n",
              "      fill: #174EA6;\n",
              "    }\n",
              "\n",
              "    [theme=dark] .colab-df-convert {\n",
              "      background-color: #3B4455;\n",
              "      fill: #D2E3FC;\n",
              "    }\n",
              "\n",
              "    [theme=dark] .colab-df-convert:hover {\n",
              "      background-color: #434B5C;\n",
              "      box-shadow: 0px 1px 3px 1px rgba(0, 0, 0, 0.15);\n",
              "      filter: drop-shadow(0px 1px 2px rgba(0, 0, 0, 0.3));\n",
              "      fill: #FFFFFF;\n",
              "    }\n",
              "  </style>\n",
              "\n",
              "      <script>\n",
              "        const buttonEl =\n",
              "          document.querySelector('#df-d63f9351-c9f0-4b98-a924-5e0139f40bec button.colab-df-convert');\n",
              "        buttonEl.style.display =\n",
              "          google.colab.kernel.accessAllowed ? 'block' : 'none';\n",
              "\n",
              "        async function convertToInteractive(key) {\n",
              "          const element = document.querySelector('#df-d63f9351-c9f0-4b98-a924-5e0139f40bec');\n",
              "          const dataTable =\n",
              "            await google.colab.kernel.invokeFunction('convertToInteractive',\n",
              "                                                     [key], {});\n",
              "          if (!dataTable) return;\n",
              "\n",
              "          const docLinkHtml = 'Like what you see? Visit the ' +\n",
              "            '<a target=\"_blank\" href=https://colab.research.google.com/notebooks/data_table.ipynb>data table notebook</a>'\n",
              "            + ' to learn more about interactive tables.';\n",
              "          element.innerHTML = '';\n",
              "          dataTable['output_type'] = 'display_data';\n",
              "          await google.colab.output.renderOutput(dataTable, element);\n",
              "          const docLink = document.createElement('div');\n",
              "          docLink.innerHTML = docLinkHtml;\n",
              "          element.appendChild(docLink);\n",
              "        }\n",
              "      </script>\n",
              "    </div>\n",
              "  </div>\n",
              "  "
            ]
          },
          "metadata": {},
          "execution_count": 19
        }
      ],
      "source": [
        "df_corr = df.corr()\n",
        "df_corr"
      ]
    },
    {
      "cell_type": "markdown",
      "source": [
        "--------------------------------------------------------------"
      ],
      "metadata": {
        "id": "57zQQYsvEqN-"
      }
    },
    {
      "cell_type": "markdown",
      "source": [
        "Se coloca el grafico nuevamente para realizar un antes y despues de los outliers"
      ],
      "metadata": {
        "id": "nt7QCyngJD9P"
      }
    },
    {
      "cell_type": "code",
      "source": [
        "plt.figure(figsize=(30,6))\n",
        "df.boxplot(column=[\"MatchHeadshots\",\"MatchAssists\",\"MatchFlankKills\",\"MatchKills\",\"RoundKills\"], vert=False, showmeans=True, meanline=True, showfliers=True)\n",
        "#plt.xlim(0, 15) Para ver los outliers en los graficos menores\n",
        "\n",
        "plt.show()"
      ],
      "metadata": {
        "colab": {
          "base_uri": "https://localhost:8080/",
          "height": 189
        },
        "id": "T02OiPXuJDA3",
        "outputId": "6d8edf24-a883-4dc4-81ae-67f63d50e58c"
      },
      "execution_count": 20,
      "outputs": [
        {
          "output_type": "display_data",
          "data": {
            "text/plain": [
              "<Figure size 2160x432 with 1 Axes>"
            ],
            "image/png": "[encoded data removed]"
          },
          "metadata": {
            "needs_background": "light"
          }
        }
      ]
    },
    {
      "cell_type": "markdown",
      "source": [
        "Con el grafico pudimos ver los outliers y asi poder recortarlos de manera correcta como se ve a continuación:"
      ],
      "metadata": {
        "id": "uy07bikiJWVi"
      }
    },
    {
      "cell_type": "code",
      "source": [
        "df[\"MatchHeadshots\"] = df[\"MatchHeadshots\"].clip(lower=0, upper=14)"
      ],
      "metadata": {
        "id": "BCM6iuYqIHsY"
      },
      "execution_count": 21,
      "outputs": []
    },
    {
      "cell_type": "code",
      "source": [
        "df[\"MatchAssists\"] = df[\"MatchAssists\"].clip(lower=0, upper=7)"
      ],
      "metadata": {
        "id": "ZRqTBGsdJ0HA"
      },
      "execution_count": 22,
      "outputs": []
    },
    {
      "cell_type": "code",
      "source": [
        "df[\"RoundKills\"] = df[\"RoundKills\"].clip(lower=0, upper=2)"
      ],
      "metadata": {
        "id": "1BQCEcRDJ7E6"
      },
      "execution_count": 23,
      "outputs": []
    },
    {
      "cell_type": "code",
      "source": [
        "df[\"MatchFlankKills\"] = df[\"MatchFlankKills\"].clip(lower=0, upper=5)"
      ],
      "metadata": {
        "id": "yd1ap2dEJ8ZV"
      },
      "execution_count": 24,
      "outputs": []
    },
    {
      "cell_type": "code",
      "source": [
        "df[\"MatchKills\"] = df[\"MatchKills\"].clip(lower=0, upper=28)"
      ],
      "metadata": {
        "id": "Pg1dQaOdKpFC"
      },
      "execution_count": 25,
      "outputs": []
    },
    {
      "cell_type": "markdown",
      "source": [
        "Una vez realizado, asi quedarian los datos sin los outliers vistos anteriormente"
      ],
      "metadata": {
        "id": "oV9I3HNmU2qf"
      }
    },
    {
      "cell_type": "code",
      "source": [
        "plt.figure(figsize=(30,6))\n",
        "df.boxplot(column=[\"MatchHeadshots\",\"MatchAssists\",\"MatchFlankKills\",\"MatchKills\",\"RoundKills\"], vert=False, showmeans=True, meanline=True, showfliers=True)\n",
        "#plt.xlim(0, 15) Para ver los outliers en los graficos menores\n",
        "\n",
        "plt.show()"
      ],
      "metadata": {
        "colab": {
          "base_uri": "https://localhost:8080/",
          "height": 189
        },
        "id": "xaFoR_LiUbR8",
        "outputId": "88da8a65-f07b-4df7-b599-828c4625e507"
      },
      "execution_count": 26,
      "outputs": [
        {
          "output_type": "display_data",
          "data": {
            "text/plain": [
              "<Figure size 2160x432 with 1 Axes>"
            ],
            "image/png": "[encoded data removed]"
          },
          "metadata": {
            "needs_background": "light"
          }
        }
      ]
    },
    {
      "cell_type": "markdown",
      "source": [
        "* Comenzamos a analizar atributos. En este caso RoundWinner, podemos ver que hay distintos tipos de dato que quieren decirnos lo mismo"
      ],
      "metadata": {
        "id": "MUyFBH2LEs3u"
      }
    },
    {
      "cell_type": "code",
      "execution_count": 27,
      "metadata": {
        "colab": {
          "base_uri": "https://localhost:8080/"
        },
        "id": "RlGTEPR1J_rX",
        "outputId": "bee9d1eb-f716-47fa-b474-6020958a5115"
      },
      "outputs": [
        {
          "output_type": "execute_result",
          "data": {
            "text/plain": [
              "array(['False', 'True', 'False4'], dtype=object)"
            ]
          },
          "metadata": {},
          "execution_count": 27
        }
      ],
      "source": [
        "df.RoundWinner.unique()"
      ]
    },
    {
      "cell_type": "markdown",
      "source": [
        "--------------------------------------------------------------"
      ],
      "metadata": {
        "id": "D8r9B8iVFOmn"
      }
    },
    {
      "cell_type": "markdown",
      "source": [
        "* Conseguimos informacion sobre los tipos de datos en el dataframe y como observamos hay 2 booleanos, 4 float, 16 enteros y 7 tipo object\n",
        "\n",
        "Dentro del set de datos tenemos ejemplos de:\n",
        "\n",
        "*   Variables numéricas continuas:TimeAlive, TravelledDistance\n",
        "*   Variables numéricas discretas: RoundStartingEquipmentValue, MatchId, InternalTeamId, RNonLethalGrenadesThrown\n",
        "*   Variables categóricas nominales: Survived, RoundWinner, MatchWinner, Survived....\n"
      ],
      "metadata": {
        "id": "_rHKW4TvFQ2T"
      }
    },
    {
      "cell_type": "code",
      "execution_count": 28,
      "metadata": {
        "colab": {
          "base_uri": "https://localhost:8080/"
        },
        "id": "lNQYfaGpFhps",
        "outputId": "4c4d8428-b091-4292-b827-96c398316410"
      },
      "outputs": [
        {
          "output_type": "stream",
          "name": "stdout",
          "text": [
            "<class 'pandas.core.frame.DataFrame'>\n",
            "RangeIndex: 79157 entries, 0 to 79156\n",
            "Data columns (total 29 columns):\n",
            " #   Column                       Non-Null Count  Dtype  \n",
            "---  ------                       --------------  -----  \n",
            " 0   Map                          79157 non-null  object \n",
            " 1   Team                         79155 non-null  object \n",
            " 2   InternalTeamId               79157 non-null  int64  \n",
            " 3   MatchId                      79157 non-null  int64  \n",
            " 4   RoundId                      79157 non-null  int64  \n",
            " 5   RoundWinner                  79157 non-null  object \n",
            " 6   MatchWinner                  79156 non-null  object \n",
            " 7   Survived                     79157 non-null  bool   \n",
            " 8   AbnormalMatch                79157 non-null  bool   \n",
            " 9   TimeAlive                    79157 non-null  object \n",
            " 10  TravelledDistance            79157 non-null  object \n",
            " 11  RLethalGrenadesThrown        79157 non-null  int64  \n",
            " 12  RNonLethalGrenadesThrown     79157 non-null  int64  \n",
            " 13  PrimaryAssaultRifle          79157 non-null  float64\n",
            " 14  PrimarySniperRifle           79157 non-null  float64\n",
            " 15  PrimaryHeavy                 79157 non-null  float64\n",
            " 16  PrimarySMG                   79157 non-null  float64\n",
            " 17  PrimaryPistol                79157 non-null  int64  \n",
            " 18  FirstKillTime                79157 non-null  object \n",
            " 19  RoundKills                   79157 non-null  int64  \n",
            " 20  RoundAssists                 79157 non-null  int64  \n",
            " 21  RoundHeadshots               79157 non-null  int64  \n",
            " 22  RoundFlankKills              79157 non-null  int64  \n",
            " 23  RoundStartingEquipmentValue  79157 non-null  int64  \n",
            " 24  TeamStartingEquipmentValue   79157 non-null  int64  \n",
            " 25  MatchKills                   79157 non-null  int64  \n",
            " 26  MatchFlankKills              79157 non-null  int64  \n",
            " 27  MatchAssists                 79157 non-null  int64  \n",
            " 28  MatchHeadshots               79157 non-null  int64  \n",
            "dtypes: bool(2), float64(4), int64(16), object(7)\n",
            "memory usage: 16.5+ MB\n"
          ]
        }
      ],
      "source": [
        "df.info()"
      ]
    },
    {
      "cell_type": "markdown",
      "source": [
        "--------------------------------------------------------------"
      ],
      "metadata": {
        "id": "uVO9tVbSFsNX"
      }
    },
    {
      "cell_type": "markdown",
      "metadata": {
        "id": "LdLL7_feEhhM"
      },
      "source": [
        "#\tPreparación de los datos"
      ]
    },
    {
      "cell_type": "markdown",
      "source": [
        "* Se realiza un respaldo del dataframe"
      ],
      "metadata": {
        "id": "BGR-v3k5HECo"
      }
    },
    {
      "cell_type": "code",
      "execution_count": 29,
      "metadata": {
        "id": "F35hWIvs8aMl"
      },
      "outputs": [],
      "source": [
        "respaldo_df = df"
      ]
    },
    {
      "cell_type": "markdown",
      "source": [
        "--------------------------------------------------------------"
      ],
      "metadata": {
        "id": "BdzmMlLPHJ8s"
      }
    },
    {
      "cell_type": "markdown",
      "source": [
        "* Se carga el dataFrame para poder realizar la limpieza de datos"
      ],
      "metadata": {
        "id": "YdFE3MbcHL29"
      }
    },
    {
      "cell_type": "code",
      "execution_count": 30,
      "metadata": {
        "id": "IVTbGpVy8aMl"
      },
      "outputs": [],
      "source": [
        "new_df = respaldo_df"
      ]
    },
    {
      "cell_type": "markdown",
      "source": [
        "--------------------------------------------------------------"
      ],
      "metadata": {
        "id": "bGhGx_6xHS8r"
      }
    },
    {
      "cell_type": "markdown",
      "source": [
        "* Vemos los datos superficialmente para una primera impresión\n"
      ],
      "metadata": {
        "id": "T6AoVR5mHicG"
      }
    },
    {
      "cell_type": "code",
      "execution_count": 31,
      "metadata": {
        "id": "kuubZjpGF2g6",
        "colab": {
          "base_uri": "https://localhost:8080/",
          "height": 270
        },
        "outputId": "46e60e07-0b06-4c87-fa10-5a332a52b8fc"
      },
      "outputs": [
        {
          "output_type": "execute_result",
          "data": {
            "text/plain": [
              "          Map       Team  InternalTeamId  MatchId  RoundId RoundWinner  \\\n",
              "0  de_inferno  Terrorist               1        4        1       False   \n",
              "1  de_inferno  Terrorist               1        4        1       False   \n",
              "2  de_inferno  Terrorist               1        4        1       False   \n",
              "3  de_inferno  Terrorist               1        4        1       False   \n",
              "4  de_inferno  Terrorist               1        4        1       False   \n",
              "\n",
              "  MatchWinner  Survived  AbnormalMatch               TimeAlive  \\\n",
              "0        True     False          False  51.120.248.995.704.500   \n",
              "1        True     False          False   4.348.662.552.266.170   \n",
              "2        True     False          False   3.735.469.847.054.540   \n",
              "3        True     False          False   4.767.886.136.441.470   \n",
              "4        True      True          False   5.312.251.089.027.310   \n",
              "\n",
              "        TravelledDistance  RLethalGrenadesThrown  RNonLethalGrenadesThrown  \\\n",
              "0  10.083.140.737.457.000                      0                         4   \n",
              "1  60.960.883.184.688.400                      0                         0   \n",
              "2   5.642.252.383.582.750                      0                         0   \n",
              "3   8.963.473.313.229.970                      0                         0   \n",
              "4  10.865.649.734.393.100                      1                         1   \n",
              "\n",
              "   PrimaryAssaultRifle  PrimarySniperRifle  PrimaryHeavy  PrimarySMG  \\\n",
              "0                  0.0                 0.0           0.0         0.0   \n",
              "1                  0.0                 0.0           0.0         0.0   \n",
              "2                  0.0                 0.0           0.0         0.0   \n",
              "3                  0.0                 0.0           0.0         0.0   \n",
              "4                  0.0                 0.0           0.0         0.0   \n",
              "\n",
              "   PrimaryPistol FirstKillTime  RoundKills  RoundAssists  RoundHeadshots  \\\n",
              "0              1           0.0           0             0               0   \n",
              "1              1           0.0           0             0               0   \n",
              "2              1           0.0           0             0               0   \n",
              "3              1           0.0           0             0               0   \n",
              "4              1           0.0           0             0               0   \n",
              "\n",
              "   RoundFlankKills  RoundStartingEquipmentValue  TeamStartingEquipmentValue  \\\n",
              "0                0                          750                        4400   \n",
              "1                0                          800                        4400   \n",
              "2                0                         1000                        4400   \n",
              "3                0                          850                        4400   \n",
              "4                0                         1000                        4400   \n",
              "\n",
              "   MatchKills  MatchFlankKills  MatchAssists  MatchHeadshots  \n",
              "0           0                0             0               0  \n",
              "1           0                0             0               0  \n",
              "2           0                0             0               0  \n",
              "3           0                0             0               0  \n",
              "4           0                0             0               0  "
            ],
            "text/html": [
              "\n",
              "  <div id=\"df-8d307611-0e83-4085-b7bc-59f914d4cfd0\">\n",
              "    <div class=\"colab-df-container\">\n",
              "      <div>\n",
              "<style scoped>\n",
              "    .dataframe tbody tr th:only-of-type {\n",
              "        vertical-align: middle;\n",
              "    }\n",
              "\n",
              "    .dataframe tbody tr th {\n",
              "        vertical-align: top;\n",
              "    }\n",
              "\n",
              "    .dataframe thead th {\n",
              "        text-align: right;\n",
              "    }\n",
              "</style>\n",
              "<table border=\"1\" class=\"dataframe\">\n",
              "  <thead>\n",
              "    <tr style=\"text-align: right;\">\n",
              "      <th></th>\n",
              "      <th>Map</th>\n",
              "      <th>Team</th>\n",
              "      <th>InternalTeamId</th>\n",
              "      <th>MatchId</th>\n",
              "      <th>RoundId</th>\n",
              "      <th>RoundWinner</th>\n",
              "      <th>MatchWinner</th>\n",
              "      <th>Survived</th>\n",
              "      <th>AbnormalMatch</th>\n",
              "      <th>TimeAlive</th>\n",
              "      <th>TravelledDistance</th>\n",
              "      <th>RLethalGrenadesThrown</th>\n",
              "      <th>RNonLethalGrenadesThrown</th>\n",
              "      <th>PrimaryAssaultRifle</th>\n",
              "      <th>PrimarySniperRifle</th>\n",
              "      <th>PrimaryHeavy</th>\n",
              "      <th>PrimarySMG</th>\n",
              "      <th>PrimaryPistol</th>\n",
              "      <th>FirstKillTime</th>\n",
              "      <th>RoundKills</th>\n",
              "      <th>RoundAssists</th>\n",
              "      <th>RoundHeadshots</th>\n",
              "      <th>RoundFlankKills</th>\n",
              "      <th>RoundStartingEquipmentValue</th>\n",
              "      <th>TeamStartingEquipmentValue</th>\n",
              "      <th>MatchKills</th>\n",
              "      <th>MatchFlankKills</th>\n",
              "      <th>MatchAssists</th>\n",
              "      <th>MatchHeadshots</th>\n",
              "    </tr>\n",
              "  </thead>\n",
              "  <tbody>\n",
              "    <tr>\n",
              "      <th>0</th>\n",
              "      <td>de_inferno</td>\n",
              "      <td>Terrorist</td>\n",
              "      <td>1</td>\n",
              "      <td>4</td>\n",
              "      <td>1</td>\n",
              "      <td>False</td>\n",
              "      <td>True</td>\n",
              "      <td>False</td>\n",
              "      <td>False</td>\n",
              "      <td>51.120.248.995.704.500</td>\n",
              "      <td>10.083.140.737.457.000</td>\n",
              "      <td>0</td>\n",
              "      <td>4</td>\n",
              "      <td>0.0</td>\n",
              "      <td>0.0</td>\n",
              "      <td>0.0</td>\n",
              "      <td>0.0</td>\n",
              "      <td>1</td>\n",
              "      <td>0.0</td>\n",
              "      <td>0</td>\n",
              "      <td>0</td>\n",
              "      <td>0</td>\n",
              "      <td>0</td>\n",
              "      <td>750</td>\n",
              "      <td>4400</td>\n",
              "      <td>0</td>\n",
              "      <td>0</td>\n",
              "      <td>0</td>\n",
              "      <td>0</td>\n",
              "    </tr>\n",
              "    <tr>\n",
              "      <th>1</th>\n",
              "      <td>de_inferno</td>\n",
              "      <td>Terrorist</td>\n",
              "      <td>1</td>\n",
              "      <td>4</td>\n",
              "      <td>1</td>\n",
              "      <td>False</td>\n",
              "      <td>True</td>\n",
              "      <td>False</td>\n",
              "      <td>False</td>\n",
              "      <td>4.348.662.552.266.170</td>\n",
              "      <td>60.960.883.184.688.400</td>\n",
              "      <td>0</td>\n",
              "      <td>0</td>\n",
              "      <td>0.0</td>\n",
              "      <td>0.0</td>\n",
              "      <td>0.0</td>\n",
              "      <td>0.0</td>\n",
              "      <td>1</td>\n",
              "      <td>0.0</td>\n",
              "      <td>0</td>\n",
              "      <td>0</td>\n",
              "      <td>0</td>\n",
              "      <td>0</td>\n",
              "      <td>800</td>\n",
              "      <td>4400</td>\n",
              "      <td>0</td>\n",
              "      <td>0</td>\n",
              "      <td>0</td>\n",
              "      <td>0</td>\n",
              "    </tr>\n",
              "    <tr>\n",
              "      <th>2</th>\n",
              "      <td>de_inferno</td>\n",
              "      <td>Terrorist</td>\n",
              "      <td>1</td>\n",
              "      <td>4</td>\n",
              "      <td>1</td>\n",
              "      <td>False</td>\n",
              "      <td>True</td>\n",
              "      <td>False</td>\n",
              "      <td>False</td>\n",
              "      <td>3.735.469.847.054.540</td>\n",
              "      <td>5.642.252.383.582.750</td>\n",
              "      <td>0</td>\n",
              "      <td>0</td>\n",
              "      <td>0.0</td>\n",
              "      <td>0.0</td>\n",
              "      <td>0.0</td>\n",
              "      <td>0.0</td>\n",
              "      <td>1</td>\n",
              "      <td>0.0</td>\n",
              "      <td>0</td>\n",
              "      <td>0</td>\n",
              "      <td>0</td>\n",
              "      <td>0</td>\n",
              "      <td>1000</td>\n",
              "      <td>4400</td>\n",
              "      <td>0</td>\n",
              "      <td>0</td>\n",
              "      <td>0</td>\n",
              "      <td>0</td>\n",
              "    </tr>\n",
              "    <tr>\n",
              "      <th>3</th>\n",
              "      <td>de_inferno</td>\n",
              "      <td>Terrorist</td>\n",
              "      <td>1</td>\n",
              "      <td>4</td>\n",
              "      <td>1</td>\n",
              "      <td>False</td>\n",
              "      <td>True</td>\n",
              "      <td>False</td>\n",
              "      <td>False</td>\n",
              "      <td>4.767.886.136.441.470</td>\n",
              "      <td>8.963.473.313.229.970</td>\n",
              "      <td>0</td>\n",
              "      <td>0</td>\n",
              "      <td>0.0</td>\n",
              "      <td>0.0</td>\n",
              "      <td>0.0</td>\n",
              "      <td>0.0</td>\n",
              "      <td>1</td>\n",
              "      <td>0.0</td>\n",
              "      <td>0</td>\n",
              "      <td>0</td>\n",
              "      <td>0</td>\n",
              "      <td>0</td>\n",
              "      <td>850</td>\n",
              "      <td>4400</td>\n",
              "      <td>0</td>\n",
              "      <td>0</td>\n",
              "      <td>0</td>\n",
              "      <td>0</td>\n",
              "    </tr>\n",
              "    <tr>\n",
              "      <th>4</th>\n",
              "      <td>de_inferno</td>\n",
              "      <td>Terrorist</td>\n",
              "      <td>1</td>\n",
              "      <td>4</td>\n",
              "      <td>1</td>\n",
              "      <td>False</td>\n",
              "      <td>True</td>\n",
              "      <td>True</td>\n",
              "      <td>False</td>\n",
              "      <td>5.312.251.089.027.310</td>\n",
              "      <td>10.865.649.734.393.100</td>\n",
              "      <td>1</td>\n",
              "      <td>1</td>\n",
              "      <td>0.0</td>\n",
              "      <td>0.0</td>\n",
              "      <td>0.0</td>\n",
              "      <td>0.0</td>\n",
              "      <td>1</td>\n",
              "      <td>0.0</td>\n",
              "      <td>0</td>\n",
              "      <td>0</td>\n",
              "      <td>0</td>\n",
              "      <td>0</td>\n",
              "      <td>1000</td>\n",
              "      <td>4400</td>\n",
              "      <td>0</td>\n",
              "      <td>0</td>\n",
              "      <td>0</td>\n",
              "      <td>0</td>\n",
              "    </tr>\n",
              "  </tbody>\n",
              "</table>\n",
              "</div>\n",
              "      <button class=\"colab-df-convert\" onclick=\"convertToInteractive('df-8d307611-0e83-4085-b7bc-59f914d4cfd0')\"\n",
              "              title=\"Convert this dataframe to an interactive table.\"\n",
              "              style=\"display:none;\">\n",
              "        \n",
              "  <svg xmlns=\"http://www.w3.org/2000/svg\" height=\"24px\"viewBox=\"0 0 24 24\"\n",
              "       width=\"24px\">\n",
              "    <path d=\"M0 0h24v24H0V0z\" fill=\"none\"/>\n",
              "    <path d=\"M18.56 5.44l.94 2.06.94-2.06 2.06-.94-2.06-.94-.94-2.06-.94 2.06-2.06.94zm-11 1L8.5 8.5l.94-2.06 2.06-.94-2.06-.94L8.5 2.5l-.94 2.06-2.06.94zm10 10l.94 2.06.94-2.06 2.06-.94-2.06-.94-.94-2.06-.94 2.06-2.06.94z\"/><path d=\"M17.41 7.96l-1.37-1.37c-.4-.4-.92-.59-1.43-.59-.52 0-1.04.2-1.43.59L10.3 9.45l-7.72 7.72c-.78.78-.78 2.05 0 2.83L4 21.41c.39.39.9.59 1.41.59.51 0 1.02-.2 1.41-.59l7.78-7.78 2.81-2.81c.8-.78.8-2.07 0-2.86zM5.41 20L4 18.59l7.72-7.72 1.47 1.35L5.41 20z\"/>\n",
              "  </svg>\n",
              "      </button>\n",
              "      \n",
              "  <style>\n",
              "    .colab-df-container {\n",
              "      display:flex;\n",
              "      flex-wrap:wrap;\n",
              "      gap: 12px;\n",
              "    }\n",
              "\n",
              "    .colab-df-convert {\n",
              "      background-color: #E8F0FE;\n",
              "      border: none;\n",
              "      border-radius: 50%;\n",
              "      cursor: pointer;\n",
              "      display: none;\n",
              "      fill: #1967D2;\n",
              "      height: 32px;\n",
              "      padding: 0 0 0 0;\n",
              "      width: 32px;\n",
              "    }\n",
              "\n",
              "    .colab-df-convert:hover {\n",
              "      background-color: #E2EBFA;\n",
              "      box-shadow: 0px 1px 2px rgba(60, 64, 67, 0.3), 0px 1px 3px 1px rgba(60, 64, 67, 0.15);\n",
              "      fill: #174EA6;\n",
              "    }\n",
              "\n",
              "    [theme=dark] .colab-df-convert {\n",
              "      background-color: #3B4455;\n",
              "      fill: #D2E3FC;\n",
              "    }\n",
              "\n",
              "    [theme=dark] .colab-df-convert:hover {\n",
              "      background-color: #434B5C;\n",
              "      box-shadow: 0px 1px 3px 1px rgba(0, 0, 0, 0.15);\n",
              "      filter: drop-shadow(0px 1px 2px rgba(0, 0, 0, 0.3));\n",
              "      fill: #FFFFFF;\n",
              "    }\n",
              "  </style>\n",
              "\n",
              "      <script>\n",
              "        const buttonEl =\n",
              "          document.querySelector('#df-8d307611-0e83-4085-b7bc-59f914d4cfd0 button.colab-df-convert');\n",
              "        buttonEl.style.display =\n",
              "          google.colab.kernel.accessAllowed ? 'block' : 'none';\n",
              "\n",
              "        async function convertToInteractive(key) {\n",
              "          const element = document.querySelector('#df-8d307611-0e83-4085-b7bc-59f914d4cfd0');\n",
              "          const dataTable =\n",
              "            await google.colab.kernel.invokeFunction('convertToInteractive',\n",
              "                                                     [key], {});\n",
              "          if (!dataTable) return;\n",
              "\n",
              "          const docLinkHtml = 'Like what you see? Visit the ' +\n",
              "            '<a target=\"_blank\" href=https://colab.research.google.com/notebooks/data_table.ipynb>data table notebook</a>'\n",
              "            + ' to learn more about interactive tables.';\n",
              "          element.innerHTML = '';\n",
              "          dataTable['output_type'] = 'display_data';\n",
              "          await google.colab.output.renderOutput(dataTable, element);\n",
              "          const docLink = document.createElement('div');\n",
              "          docLink.innerHTML = docLinkHtml;\n",
              "          element.appendChild(docLink);\n",
              "        }\n",
              "      </script>\n",
              "    </div>\n",
              "  </div>\n",
              "  "
            ]
          },
          "metadata": {},
          "execution_count": 31
        }
      ],
      "source": [
        "new_df.head()"
      ]
    },
    {
      "cell_type": "markdown",
      "source": [
        "--------------------------------------------------------------"
      ],
      "metadata": {
        "id": "i_M3kkjHHmqd"
      }
    },
    {
      "cell_type": "markdown",
      "source": [
        "* Vemos los tipos de datos de cada columna para ver que podriamos encontrar dentro de ellas, por lo que se ve \"Map, Team, RoundWinner, MatchWinner, TimeAlive, TravelledDistance, FirstKillTime\" tienen tipo object (string)\n",
        "* Dentro de los datos de tipo object, podrian encontrar multiples datos no correspondientes por lo cual son prioridad revisar"
      ],
      "metadata": {
        "id": "Kj-qQiIRHqjk"
      }
    },
    {
      "cell_type": "code",
      "execution_count": 32,
      "metadata": {
        "id": "lEVVipbNGeLK",
        "colab": {
          "base_uri": "https://localhost:8080/"
        },
        "outputId": "ec1b2ea9-a44a-4b78-9fdc-aed9c43c15ac"
      },
      "outputs": [
        {
          "output_type": "stream",
          "name": "stdout",
          "text": [
            "<class 'pandas.core.frame.DataFrame'>\n",
            "RangeIndex: 79157 entries, 0 to 79156\n",
            "Data columns (total 29 columns):\n",
            " #   Column                       Non-Null Count  Dtype  \n",
            "---  ------                       --------------  -----  \n",
            " 0   Map                          79157 non-null  object \n",
            " 1   Team                         79155 non-null  object \n",
            " 2   InternalTeamId               79157 non-null  int64  \n",
            " 3   MatchId                      79157 non-null  int64  \n",
            " 4   RoundId                      79157 non-null  int64  \n",
            " 5   RoundWinner                  79157 non-null  object \n",
            " 6   MatchWinner                  79156 non-null  object \n",
            " 7   Survived                     79157 non-null  bool   \n",
            " 8   AbnormalMatch                79157 non-null  bool   \n",
            " 9   TimeAlive                    79157 non-null  object \n",
            " 10  TravelledDistance            79157 non-null  object \n",
            " 11  RLethalGrenadesThrown        79157 non-null  int64  \n",
            " 12  RNonLethalGrenadesThrown     79157 non-null  int64  \n",
            " 13  PrimaryAssaultRifle          79157 non-null  float64\n",
            " 14  PrimarySniperRifle           79157 non-null  float64\n",
            " 15  PrimaryHeavy                 79157 non-null  float64\n",
            " 16  PrimarySMG                   79157 non-null  float64\n",
            " 17  PrimaryPistol                79157 non-null  int64  \n",
            " 18  FirstKillTime                79157 non-null  object \n",
            " 19  RoundKills                   79157 non-null  int64  \n",
            " 20  RoundAssists                 79157 non-null  int64  \n",
            " 21  RoundHeadshots               79157 non-null  int64  \n",
            " 22  RoundFlankKills              79157 non-null  int64  \n",
            " 23  RoundStartingEquipmentValue  79157 non-null  int64  \n",
            " 24  TeamStartingEquipmentValue   79157 non-null  int64  \n",
            " 25  MatchKills                   79157 non-null  int64  \n",
            " 26  MatchFlankKills              79157 non-null  int64  \n",
            " 27  MatchAssists                 79157 non-null  int64  \n",
            " 28  MatchHeadshots               79157 non-null  int64  \n",
            "dtypes: bool(2), float64(4), int64(16), object(7)\n",
            "memory usage: 16.5+ MB\n"
          ]
        }
      ],
      "source": [
        "new_df.info() "
      ]
    },
    {
      "cell_type": "markdown",
      "source": [
        "--------------------------------------------------------------"
      ],
      "metadata": {
        "id": "hPZhgZUVKFx6"
      }
    },
    {
      "cell_type": "markdown",
      "source": [
        "* Averiguamos si existen registros con datos NaN (datos faltantes). Como podemos ver existen 3"
      ],
      "metadata": {
        "id": "yp6PbV2EKL6D"
      }
    },
    {
      "cell_type": "code",
      "execution_count": 33,
      "metadata": {
        "id": "tq8Sh-zUJIHb",
        "colab": {
          "base_uri": "https://localhost:8080/"
        },
        "outputId": "1c3208d5-0700-47dc-c906-d28b0b666512"
      },
      "outputs": [
        {
          "output_type": "execute_result",
          "data": {
            "text/plain": [
              "Map                            0\n",
              "Team                           2\n",
              "InternalTeamId                 0\n",
              "MatchId                        0\n",
              "RoundId                        0\n",
              "RoundWinner                    0\n",
              "MatchWinner                    1\n",
              "Survived                       0\n",
              "AbnormalMatch                  0\n",
              "TimeAlive                      0\n",
              "TravelledDistance              0\n",
              "RLethalGrenadesThrown          0\n",
              "RNonLethalGrenadesThrown       0\n",
              "PrimaryAssaultRifle            0\n",
              "PrimarySniperRifle             0\n",
              "PrimaryHeavy                   0\n",
              "PrimarySMG                     0\n",
              "PrimaryPistol                  0\n",
              "FirstKillTime                  0\n",
              "RoundKills                     0\n",
              "RoundAssists                   0\n",
              "RoundHeadshots                 0\n",
              "RoundFlankKills                0\n",
              "RoundStartingEquipmentValue    0\n",
              "TeamStartingEquipmentValue     0\n",
              "MatchKills                     0\n",
              "MatchFlankKills                0\n",
              "MatchAssists                   0\n",
              "MatchHeadshots                 0\n",
              "dtype: int64"
            ]
          },
          "metadata": {},
          "execution_count": 33
        }
      ],
      "source": [
        "new_df.isna().sum()"
      ]
    },
    {
      "cell_type": "markdown",
      "source": [
        "--------------------------------------------------------------"
      ],
      "metadata": {
        "id": "dz67-IKCKKu-"
      }
    },
    {
      "cell_type": "markdown",
      "source": [
        "* Identificamos cada uno de los registros con informacion faltante para tratarlos\n"
      ],
      "metadata": {
        "id": "k92g-KmlKT1-"
      }
    },
    {
      "cell_type": "code",
      "execution_count": 34,
      "metadata": {
        "id": "7d9d6HLjJRi9",
        "colab": {
          "base_uri": "https://localhost:8080/",
          "height": 207
        },
        "outputId": "ddd2615a-a85e-49c5-e8f6-3228d4e98688"
      },
      "outputs": [
        {
          "output_type": "execute_result",
          "data": {
            "text/plain": [
              "           Map              Team  InternalTeamId  MatchId  RoundId  \\\n",
              "13  de_inferno               NaN               1        4        2   \n",
              "27  de_inferno               NaN               2        4        3   \n",
              "29  de_inferno  CounterTerrorist               2        4        3   \n",
              "\n",
              "   RoundWinner MatchWinner  Survived  AbnormalMatch              TimeAlive  \\\n",
              "13        True        True     False          False  3.322.503.331.299.760   \n",
              "27       False       False      True          False  3.923.181.899.670.340   \n",
              "29      False4         NaN      True          False  3.923.181.899.670.340   \n",
              "\n",
              "        TravelledDistance  RLethalGrenadesThrown  RNonLethalGrenadesThrown  \\\n",
              "13    569.836.702.516.348                      0                         0   \n",
              "27     92.207.583.079.108                      1                         0   \n",
              "29  6.605.491.069.771.230                      0                         0   \n",
              "\n",
              "    PrimaryAssaultRifle  PrimarySniperRifle  PrimaryHeavy  PrimarySMG  \\\n",
              "13                  0.0                 0.0           0.0         0.0   \n",
              "27                  0.0                 0.0           0.0         1.0   \n",
              "29                  1.0                 0.0           0.0         0.0   \n",
              "\n",
              "    PrimaryPistol FirstKillTime  RoundKills  RoundAssists  RoundHeadshots  \\\n",
              "13              1           0.0           0             0               0   \n",
              "27              0     3.923.182           1             0               0   \n",
              "29              0     5.112.025           0             0               0   \n",
              "\n",
              "    RoundFlankKills  RoundStartingEquipmentValue  TeamStartingEquipmentValue  \\\n",
              "13                0                          300                        1300   \n",
              "27                0                         3250                       22850   \n",
              "29                0                         4250                       22850   \n",
              "\n",
              "    MatchKills  MatchFlankKills  MatchAssists  MatchHeadshots  \n",
              "13           0                0             0               0  \n",
              "27           2                0             1               1  \n",
              "29           2                0             1               2  "
            ],
            "text/html": [
              "\n",
              "  <div id=\"df-a5d39678-2d46-4342-8870-7c08c9f7b13a\">\n",
              "    <div class=\"colab-df-container\">\n",
              "      <div>\n",
              "<style scoped>\n",
              "    .dataframe tbody tr th:only-of-type {\n",
              "        vertical-align: middle;\n",
              "    }\n",
              "\n",
              "    .dataframe tbody tr th {\n",
              "        vertical-align: top;\n",
              "    }\n",
              "\n",
              "    .dataframe thead th {\n",
              "        text-align: right;\n",
              "    }\n",
              "</style>\n",
              "<table border=\"1\" class=\"dataframe\">\n",
              "  <thead>\n",
              "    <tr style=\"text-align: right;\">\n",
              "      <th></th>\n",
              "      <th>Map</th>\n",
              "      <th>Team</th>\n",
              "      <th>InternalTeamId</th>\n",
              "      <th>MatchId</th>\n",
              "      <th>RoundId</th>\n",
              "      <th>RoundWinner</th>\n",
              "      <th>MatchWinner</th>\n",
              "      <th>Survived</th>\n",
              "      <th>AbnormalMatch</th>\n",
              "      <th>TimeAlive</th>\n",
              "      <th>TravelledDistance</th>\n",
              "      <th>RLethalGrenadesThrown</th>\n",
              "      <th>RNonLethalGrenadesThrown</th>\n",
              "      <th>PrimaryAssaultRifle</th>\n",
              "      <th>PrimarySniperRifle</th>\n",
              "      <th>PrimaryHeavy</th>\n",
              "      <th>PrimarySMG</th>\n",
              "      <th>PrimaryPistol</th>\n",
              "      <th>FirstKillTime</th>\n",
              "      <th>RoundKills</th>\n",
              "      <th>RoundAssists</th>\n",
              "      <th>RoundHeadshots</th>\n",
              "      <th>RoundFlankKills</th>\n",
              "      <th>RoundStartingEquipmentValue</th>\n",
              "      <th>TeamStartingEquipmentValue</th>\n",
              "      <th>MatchKills</th>\n",
              "      <th>MatchFlankKills</th>\n",
              "      <th>MatchAssists</th>\n",
              "      <th>MatchHeadshots</th>\n",
              "    </tr>\n",
              "  </thead>\n",
              "  <tbody>\n",
              "    <tr>\n",
              "      <th>13</th>\n",
              "      <td>de_inferno</td>\n",
              "      <td>NaN</td>\n",
              "      <td>1</td>\n",
              "      <td>4</td>\n",
              "      <td>2</td>\n",
              "      <td>True</td>\n",
              "      <td>True</td>\n",
              "      <td>False</td>\n",
              "      <td>False</td>\n",
              "      <td>3.322.503.331.299.760</td>\n",
              "      <td>569.836.702.516.348</td>\n",
              "      <td>0</td>\n",
              "      <td>0</td>\n",
              "      <td>0.0</td>\n",
              "      <td>0.0</td>\n",
              "      <td>0.0</td>\n",
              "      <td>0.0</td>\n",
              "      <td>1</td>\n",
              "      <td>0.0</td>\n",
              "      <td>0</td>\n",
              "      <td>0</td>\n",
              "      <td>0</td>\n",
              "      <td>0</td>\n",
              "      <td>300</td>\n",
              "      <td>1300</td>\n",
              "      <td>0</td>\n",
              "      <td>0</td>\n",
              "      <td>0</td>\n",
              "      <td>0</td>\n",
              "    </tr>\n",
              "    <tr>\n",
              "      <th>27</th>\n",
              "      <td>de_inferno</td>\n",
              "      <td>NaN</td>\n",
              "      <td>2</td>\n",
              "      <td>4</td>\n",
              "      <td>3</td>\n",
              "      <td>False</td>\n",
              "      <td>False</td>\n",
              "      <td>True</td>\n",
              "      <td>False</td>\n",
              "      <td>3.923.181.899.670.340</td>\n",
              "      <td>92.207.583.079.108</td>\n",
              "      <td>1</td>\n",
              "      <td>0</td>\n",
              "      <td>0.0</td>\n",
              "      <td>0.0</td>\n",
              "      <td>0.0</td>\n",
              "      <td>1.0</td>\n",
              "      <td>0</td>\n",
              "      <td>3.923.182</td>\n",
              "      <td>1</td>\n",
              "      <td>0</td>\n",
              "      <td>0</td>\n",
              "      <td>0</td>\n",
              "      <td>3250</td>\n",
              "      <td>22850</td>\n",
              "      <td>2</td>\n",
              "      <td>0</td>\n",
              "      <td>1</td>\n",
              "      <td>1</td>\n",
              "    </tr>\n",
              "    <tr>\n",
              "      <th>29</th>\n",
              "      <td>de_inferno</td>\n",
              "      <td>CounterTerrorist</td>\n",
              "      <td>2</td>\n",
              "      <td>4</td>\n",
              "      <td>3</td>\n",
              "      <td>False4</td>\n",
              "      <td>NaN</td>\n",
              "      <td>True</td>\n",
              "      <td>False</td>\n",
              "      <td>3.923.181.899.670.340</td>\n",
              "      <td>6.605.491.069.771.230</td>\n",
              "      <td>0</td>\n",
              "      <td>0</td>\n",
              "      <td>1.0</td>\n",
              "      <td>0.0</td>\n",
              "      <td>0.0</td>\n",
              "      <td>0.0</td>\n",
              "      <td>0</td>\n",
              "      <td>5.112.025</td>\n",
              "      <td>0</td>\n",
              "      <td>0</td>\n",
              "      <td>0</td>\n",
              "      <td>0</td>\n",
              "      <td>4250</td>\n",
              "      <td>22850</td>\n",
              "      <td>2</td>\n",
              "      <td>0</td>\n",
              "      <td>1</td>\n",
              "      <td>2</td>\n",
              "    </tr>\n",
              "  </tbody>\n",
              "</table>\n",
              "</div>\n",
              "      <button class=\"colab-df-convert\" onclick=\"convertToInteractive('df-a5d39678-2d46-4342-8870-7c08c9f7b13a')\"\n",
              "              title=\"Convert this dataframe to an interactive table.\"\n",
              "              style=\"display:none;\">\n",
              "        \n",
              "  <svg xmlns=\"http://www.w3.org/2000/svg\" height=\"24px\"viewBox=\"0 0 24 24\"\n",
              "       width=\"24px\">\n",
              "    <path d=\"M0 0h24v24H0V0z\" fill=\"none\"/>\n",
              "    <path d=\"M18.56 5.44l.94 2.06.94-2.06 2.06-.94-2.06-.94-.94-2.06-.94 2.06-2.06.94zm-11 1L8.5 8.5l.94-2.06 2.06-.94-2.06-.94L8.5 2.5l-.94 2.06-2.06.94zm10 10l.94 2.06.94-2.06 2.06-.94-2.06-.94-.94-2.06-.94 2.06-2.06.94z\"/><path d=\"M17.41 7.96l-1.37-1.37c-.4-.4-.92-.59-1.43-.59-.52 0-1.04.2-1.43.59L10.3 9.45l-7.72 7.72c-.78.78-.78 2.05 0 2.83L4 21.41c.39.39.9.59 1.41.59.51 0 1.02-.2 1.41-.59l7.78-7.78 2.81-2.81c.8-.78.8-2.07 0-2.86zM5.41 20L4 18.59l7.72-7.72 1.47 1.35L5.41 20z\"/>\n",
              "  </svg>\n",
              "      </button>\n",
              "      \n",
              "  <style>\n",
              "    .colab-df-container {\n",
              "      display:flex;\n",
              "      flex-wrap:wrap;\n",
              "      gap: 12px;\n",
              "    }\n",
              "\n",
              "    .colab-df-convert {\n",
              "      background-color: #E8F0FE;\n",
              "      border: none;\n",
              "      border-radius: 50%;\n",
              "      cursor: pointer;\n",
              "      display: none;\n",
              "      fill: #1967D2;\n",
              "      height: 32px;\n",
              "      padding: 0 0 0 0;\n",
              "      width: 32px;\n",
              "    }\n",
              "\n",
              "    .colab-df-convert:hover {\n",
              "      background-color: #E2EBFA;\n",
              "      box-shadow: 0px 1px 2px rgba(60, 64, 67, 0.3), 0px 1px 3px 1px rgba(60, 64, 67, 0.15);\n",
              "      fill: #174EA6;\n",
              "    }\n",
              "\n",
              "    [theme=dark] .colab-df-convert {\n",
              "      background-color: #3B4455;\n",
              "      fill: #D2E3FC;\n",
              "    }\n",
              "\n",
              "    [theme=dark] .colab-df-convert:hover {\n",
              "      background-color: #434B5C;\n",
              "      box-shadow: 0px 1px 3px 1px rgba(0, 0, 0, 0.15);\n",
              "      filter: drop-shadow(0px 1px 2px rgba(0, 0, 0, 0.3));\n",
              "      fill: #FFFFFF;\n",
              "    }\n",
              "  </style>\n",
              "\n",
              "      <script>\n",
              "        const buttonEl =\n",
              "          document.querySelector('#df-a5d39678-2d46-4342-8870-7c08c9f7b13a button.colab-df-convert');\n",
              "        buttonEl.style.display =\n",
              "          google.colab.kernel.accessAllowed ? 'block' : 'none';\n",
              "\n",
              "        async function convertToInteractive(key) {\n",
              "          const element = document.querySelector('#df-a5d39678-2d46-4342-8870-7c08c9f7b13a');\n",
              "          const dataTable =\n",
              "            await google.colab.kernel.invokeFunction('convertToInteractive',\n",
              "                                                     [key], {});\n",
              "          if (!dataTable) return;\n",
              "\n",
              "          const docLinkHtml = 'Like what you see? Visit the ' +\n",
              "            '<a target=\"_blank\" href=https://colab.research.google.com/notebooks/data_table.ipynb>data table notebook</a>'\n",
              "            + ' to learn more about interactive tables.';\n",
              "          element.innerHTML = '';\n",
              "          dataTable['output_type'] = 'display_data';\n",
              "          await google.colab.output.renderOutput(dataTable, element);\n",
              "          const docLink = document.createElement('div');\n",
              "          docLink.innerHTML = docLinkHtml;\n",
              "          element.appendChild(docLink);\n",
              "        }\n",
              "      </script>\n",
              "    </div>\n",
              "  </div>\n",
              "  "
            ]
          },
          "metadata": {},
          "execution_count": 34
        }
      ],
      "source": [
        "new_df[new_df.isna().any(axis=1)]"
      ]
    },
    {
      "cell_type": "markdown",
      "source": [
        "--------------------------------------------------------------"
      ],
      "metadata": {
        "id": "zlNcFjpHKhK9"
      }
    },
    {
      "cell_type": "markdown",
      "source": [
        "* Con la función drop eliminamos los datos nan, debido a que no son necesarios porque son 3 datos entre 79157 por lo cual determinamos que no eran significantes modificarlos u alterarlos para que continuaran dentro"
      ],
      "metadata": {
        "id": "9Dk4A2vpKjB9"
      }
    },
    {
      "cell_type": "code",
      "execution_count": 35,
      "metadata": {
        "id": "h-F3a7RaJTQ5"
      },
      "outputs": [],
      "source": [
        "new_df.drop(new_df[new_df.isna().any(axis=1)].index,inplace=True)"
      ]
    },
    {
      "cell_type": "markdown",
      "source": [
        "--------------------------------------------------------------"
      ],
      "metadata": {
        "id": "YGQIMJ3nKxuB"
      }
    },
    {
      "cell_type": "markdown",
      "source": [
        "* Comenzamos a analizar atributos. En este caso RoundWinner contiene ['False', 'True', True, False]\n",
        "* Por lo que podemos ver que contiene booleanos  y booleanos como texto, por lo cual lo correcto seria dejarlos ambos como texto para posteriormente "
      ],
      "metadata": {
        "id": "GxTYan35K1OW"
      }
    },
    {
      "cell_type": "code",
      "execution_count": 36,
      "metadata": {
        "id": "k-zeNiaHGxPC",
        "colab": {
          "base_uri": "https://localhost:8080/"
        },
        "outputId": "c0de975e-d95f-4448-a2f8-1796ba6de194"
      },
      "outputs": [
        {
          "output_type": "execute_result",
          "data": {
            "text/plain": [
              "array(['False', 'True'], dtype=object)"
            ]
          },
          "metadata": {},
          "execution_count": 36
        }
      ],
      "source": [
        "new_df.RoundWinner.unique()"
      ]
    },
    {
      "cell_type": "markdown",
      "source": [
        "--------------------------------------------------------------"
      ],
      "metadata": {
        "id": "bHTl9ViMK-AU"
      }
    },
    {
      "cell_type": "markdown",
      "source": [
        "* Con el siguiente comando convertimos tanto los booleanos como los textos booleanos a binario, para poder trabajarlos de mejor forma\n"
      ],
      "metadata": {
        "id": "C8exoF5WK93R"
      }
    },
    {
      "cell_type": "code",
      "execution_count": 37,
      "metadata": {
        "id": "7JwOG395K4V9"
      },
      "outputs": [],
      "source": [
        "new_df['RoundWinner'] = new_df['RoundWinner'].map({'True': 1, 'False': 0, True:1, False:0})"
      ]
    },
    {
      "cell_type": "markdown",
      "source": [
        "--------------------------------------------------------------"
      ],
      "metadata": {
        "id": "Ge01HG3ZLKxz"
      }
    },
    {
      "cell_type": "markdown",
      "source": [
        "* Verificamos los datos de MatchWinner para realizar el mismo paso que el anterior\n"
      ],
      "metadata": {
        "id": "1RB-cVFjLMrh"
      }
    },
    {
      "cell_type": "code",
      "execution_count": 38,
      "metadata": {
        "id": "Mjuz6m9ZPBnK",
        "colab": {
          "base_uri": "https://localhost:8080/"
        },
        "outputId": "cec87e75-4f59-40b5-f7d1-6c7a9ad949e7"
      },
      "outputs": [
        {
          "output_type": "execute_result",
          "data": {
            "text/plain": [
              "array([True, False], dtype=object)"
            ]
          },
          "metadata": {},
          "execution_count": 38
        }
      ],
      "source": [
        "new_df['MatchWinner'].unique()"
      ]
    },
    {
      "cell_type": "markdown",
      "source": [
        "--------------------------------------------------------------"
      ],
      "metadata": {
        "id": "_0Aqsw2BLu9u"
      }
    },
    {
      "cell_type": "markdown",
      "source": [
        "* Se realiza lo mismo que el procedimiento anterior, covertir booleanos a binario\n"
      ],
      "metadata": {
        "id": "W-XrJoe4LxXF"
      }
    },
    {
      "cell_type": "code",
      "execution_count": 39,
      "metadata": {
        "id": "rVydSY7KPL4J"
      },
      "outputs": [],
      "source": [
        "new_df['MatchWinner'] = new_df['MatchWinner'].map({True:1, False:0})"
      ]
    },
    {
      "cell_type": "markdown",
      "source": [
        "--------------------------------------------------------------"
      ],
      "metadata": {
        "id": "BocPHS9RL29k"
      }
    },
    {
      "cell_type": "markdown",
      "source": [
        "* Verificamos los datos de MatchWinner para realizar el mismo paso que el anterior\n"
      ],
      "metadata": {
        "id": "w9RetZ2GL40I"
      }
    },
    {
      "cell_type": "code",
      "execution_count": 40,
      "metadata": {
        "id": "x9RsSG1PP3bq",
        "colab": {
          "base_uri": "https://localhost:8080/"
        },
        "outputId": "f4e21e83-8189-41f8-e2a2-bd0b74315a27"
      },
      "outputs": [
        {
          "output_type": "execute_result",
          "data": {
            "text/plain": [
              "array([False,  True])"
            ]
          },
          "metadata": {},
          "execution_count": 40
        }
      ],
      "source": [
        "new_df['Survived'].unique()"
      ]
    },
    {
      "cell_type": "markdown",
      "source": [
        "--------------------------------------------------------------"
      ],
      "metadata": {
        "id": "hI48HTIiL9cV"
      }
    },
    {
      "cell_type": "markdown",
      "source": [
        "* Se realiza lo mismo que el procedimiento anterior, covertir booleanos a binario\n"
      ],
      "metadata": {
        "id": "pmNG8uMDL_iT"
      }
    },
    {
      "cell_type": "code",
      "execution_count": 41,
      "metadata": {
        "id": "JWqjONfVPyGk"
      },
      "outputs": [],
      "source": [
        "new_df['Survived'] = new_df['Survived'].map({True:1, False:0})"
      ]
    },
    {
      "cell_type": "markdown",
      "source": [
        "--------------------------------------------------------------"
      ],
      "metadata": {
        "id": "6E9BuuhQMDdv"
      }
    },
    {
      "cell_type": "markdown",
      "source": [
        "* Verificamos tipos de datos en AbnormalMatch\n"
      ],
      "metadata": {
        "id": "QBDbQhU3MjuT"
      }
    },
    {
      "cell_type": "code",
      "execution_count": 42,
      "metadata": {
        "id": "qdN3G5FXV2N0",
        "colab": {
          "base_uri": "https://localhost:8080/"
        },
        "outputId": "48554693-64f4-4515-9031-f25d7feb146f"
      },
      "outputs": [
        {
          "output_type": "execute_result",
          "data": {
            "text/plain": [
              "array([False])"
            ]
          },
          "metadata": {},
          "execution_count": 42
        }
      ],
      "source": [
        "new_df[\"AbnormalMatch\"].unique()"
      ]
    },
    {
      "cell_type": "markdown",
      "source": [
        "--------------------------------------------------------------"
      ],
      "metadata": {
        "id": "KwCy_W4cMEkQ"
      }
    },
    {
      "cell_type": "markdown",
      "source": [
        "* Como todos los datos eran False se realizo al coversión realidad de manera directa\n"
      ],
      "metadata": {
        "id": "C3tSidI3OK5r"
      }
    },
    {
      "cell_type": "code",
      "execution_count": 43,
      "metadata": {
        "id": "R5iJ_HqoV8wj"
      },
      "outputs": [],
      "source": [
        "new_df['AbnormalMatch'] = 0"
      ]
    },
    {
      "cell_type": "markdown",
      "source": [
        "--------------------------------------------------------------"
      ],
      "metadata": {
        "id": "cF8xjY-yMFPJ"
      }
    },
    {
      "cell_type": "markdown",
      "source": [
        "* Mostramos todos los datos para ver sus nuevos valores"
      ],
      "metadata": {
        "id": "-d95P2sYMG8B"
      }
    },
    {
      "cell_type": "code",
      "execution_count": 44,
      "metadata": {
        "id": "YgeUGu5lcvw4",
        "colab": {
          "base_uri": "https://localhost:8080/",
          "height": 270
        },
        "outputId": "a4fe47c5-09b7-447e-fe78-33b05b66332c"
      },
      "outputs": [
        {
          "output_type": "execute_result",
          "data": {
            "text/plain": [
              "          Map       Team  InternalTeamId  MatchId  RoundId  RoundWinner  \\\n",
              "0  de_inferno  Terrorist               1        4        1            0   \n",
              "1  de_inferno  Terrorist               1        4        1            0   \n",
              "2  de_inferno  Terrorist               1        4        1            0   \n",
              "3  de_inferno  Terrorist               1        4        1            0   \n",
              "4  de_inferno  Terrorist               1        4        1            0   \n",
              "\n",
              "   MatchWinner  Survived  AbnormalMatch               TimeAlive  \\\n",
              "0            1         0              0  51.120.248.995.704.500   \n",
              "1            1         0              0   4.348.662.552.266.170   \n",
              "2            1         0              0   3.735.469.847.054.540   \n",
              "3            1         0              0   4.767.886.136.441.470   \n",
              "4            1         1              0   5.312.251.089.027.310   \n",
              "\n",
              "        TravelledDistance  RLethalGrenadesThrown  RNonLethalGrenadesThrown  \\\n",
              "0  10.083.140.737.457.000                      0                         4   \n",
              "1  60.960.883.184.688.400                      0                         0   \n",
              "2   5.642.252.383.582.750                      0                         0   \n",
              "3   8.963.473.313.229.970                      0                         0   \n",
              "4  10.865.649.734.393.100                      1                         1   \n",
              "\n",
              "   PrimaryAssaultRifle  PrimarySniperRifle  PrimaryHeavy  PrimarySMG  \\\n",
              "0                  0.0                 0.0           0.0         0.0   \n",
              "1                  0.0                 0.0           0.0         0.0   \n",
              "2                  0.0                 0.0           0.0         0.0   \n",
              "3                  0.0                 0.0           0.0         0.0   \n",
              "4                  0.0                 0.0           0.0         0.0   \n",
              "\n",
              "   PrimaryPistol FirstKillTime  RoundKills  RoundAssists  RoundHeadshots  \\\n",
              "0              1           0.0           0             0               0   \n",
              "1              1           0.0           0             0               0   \n",
              "2              1           0.0           0             0               0   \n",
              "3              1           0.0           0             0               0   \n",
              "4              1           0.0           0             0               0   \n",
              "\n",
              "   RoundFlankKills  RoundStartingEquipmentValue  TeamStartingEquipmentValue  \\\n",
              "0                0                          750                        4400   \n",
              "1                0                          800                        4400   \n",
              "2                0                         1000                        4400   \n",
              "3                0                          850                        4400   \n",
              "4                0                         1000                        4400   \n",
              "\n",
              "   MatchKills  MatchFlankKills  MatchAssists  MatchHeadshots  \n",
              "0           0                0             0               0  \n",
              "1           0                0             0               0  \n",
              "2           0                0             0               0  \n",
              "3           0                0             0               0  \n",
              "4           0                0             0               0  "
            ],
            "text/html": [
              "\n",
              "  <div id=\"df-07a8941c-476c-4865-aa64-c6445998eda6\">\n",
              "    <div class=\"colab-df-container\">\n",
              "      <div>\n",
              "<style scoped>\n",
              "    .dataframe tbody tr th:only-of-type {\n",
              "        vertical-align: middle;\n",
              "    }\n",
              "\n",
              "    .dataframe tbody tr th {\n",
              "        vertical-align: top;\n",
              "    }\n",
              "\n",
              "    .dataframe thead th {\n",
              "        text-align: right;\n",
              "    }\n",
              "</style>\n",
              "<table border=\"1\" class=\"dataframe\">\n",
              "  <thead>\n",
              "    <tr style=\"text-align: right;\">\n",
              "      <th></th>\n",
              "      <th>Map</th>\n",
              "      <th>Team</th>\n",
              "      <th>InternalTeamId</th>\n",
              "      <th>MatchId</th>\n",
              "      <th>RoundId</th>\n",
              "      <th>RoundWinner</th>\n",
              "      <th>MatchWinner</th>\n",
              "      <th>Survived</th>\n",
              "      <th>AbnormalMatch</th>\n",
              "      <th>TimeAlive</th>\n",
              "      <th>TravelledDistance</th>\n",
              "      <th>RLethalGrenadesThrown</th>\n",
              "      <th>RNonLethalGrenadesThrown</th>\n",
              "      <th>PrimaryAssaultRifle</th>\n",
              "      <th>PrimarySniperRifle</th>\n",
              "      <th>PrimaryHeavy</th>\n",
              "      <th>PrimarySMG</th>\n",
              "      <th>PrimaryPistol</th>\n",
              "      <th>FirstKillTime</th>\n",
              "      <th>RoundKills</th>\n",
              "      <th>RoundAssists</th>\n",
              "      <th>RoundHeadshots</th>\n",
              "      <th>RoundFlankKills</th>\n",
              "      <th>RoundStartingEquipmentValue</th>\n",
              "      <th>TeamStartingEquipmentValue</th>\n",
              "      <th>MatchKills</th>\n",
              "      <th>MatchFlankKills</th>\n",
              "      <th>MatchAssists</th>\n",
              "      <th>MatchHeadshots</th>\n",
              "    </tr>\n",
              "  </thead>\n",
              "  <tbody>\n",
              "    <tr>\n",
              "      <th>0</th>\n",
              "      <td>de_inferno</td>\n",
              "      <td>Terrorist</td>\n",
              "      <td>1</td>\n",
              "      <td>4</td>\n",
              "      <td>1</td>\n",
              "      <td>0</td>\n",
              "      <td>1</td>\n",
              "      <td>0</td>\n",
              "      <td>0</td>\n",
              "      <td>51.120.248.995.704.500</td>\n",
              "      <td>10.083.140.737.457.000</td>\n",
              "      <td>0</td>\n",
              "      <td>4</td>\n",
              "      <td>0.0</td>\n",
              "      <td>0.0</td>\n",
              "      <td>0.0</td>\n",
              "      <td>0.0</td>\n",
              "      <td>1</td>\n",
              "      <td>0.0</td>\n",
              "      <td>0</td>\n",
              "      <td>0</td>\n",
              "      <td>0</td>\n",
              "      <td>0</td>\n",
              "      <td>750</td>\n",
              "      <td>4400</td>\n",
              "      <td>0</td>\n",
              "      <td>0</td>\n",
              "      <td>0</td>\n",
              "      <td>0</td>\n",
              "    </tr>\n",
              "    <tr>\n",
              "      <th>1</th>\n",
              "      <td>de_inferno</td>\n",
              "      <td>Terrorist</td>\n",
              "      <td>1</td>\n",
              "      <td>4</td>\n",
              "      <td>1</td>\n",
              "      <td>0</td>\n",
              "      <td>1</td>\n",
              "      <td>0</td>\n",
              "      <td>0</td>\n",
              "      <td>4.348.662.552.266.170</td>\n",
              "      <td>60.960.883.184.688.400</td>\n",
              "      <td>0</td>\n",
              "      <td>0</td>\n",
              "      <td>0.0</td>\n",
              "      <td>0.0</td>\n",
              "      <td>0.0</td>\n",
              "      <td>0.0</td>\n",
              "      <td>1</td>\n",
              "      <td>0.0</td>\n",
              "      <td>0</td>\n",
              "      <td>0</td>\n",
              "      <td>0</td>\n",
              "      <td>0</td>\n",
              "      <td>800</td>\n",
              "      <td>4400</td>\n",
              "      <td>0</td>\n",
              "      <td>0</td>\n",
              "      <td>0</td>\n",
              "      <td>0</td>\n",
              "    </tr>\n",
              "    <tr>\n",
              "      <th>2</th>\n",
              "      <td>de_inferno</td>\n",
              "      <td>Terrorist</td>\n",
              "      <td>1</td>\n",
              "      <td>4</td>\n",
              "      <td>1</td>\n",
              "      <td>0</td>\n",
              "      <td>1</td>\n",
              "      <td>0</td>\n",
              "      <td>0</td>\n",
              "      <td>3.735.469.847.054.540</td>\n",
              "      <td>5.642.252.383.582.750</td>\n",
              "      <td>0</td>\n",
              "      <td>0</td>\n",
              "      <td>0.0</td>\n",
              "      <td>0.0</td>\n",
              "      <td>0.0</td>\n",
              "      <td>0.0</td>\n",
              "      <td>1</td>\n",
              "      <td>0.0</td>\n",
              "      <td>0</td>\n",
              "      <td>0</td>\n",
              "      <td>0</td>\n",
              "      <td>0</td>\n",
              "      <td>1000</td>\n",
              "      <td>4400</td>\n",
              "      <td>0</td>\n",
              "      <td>0</td>\n",
              "      <td>0</td>\n",
              "      <td>0</td>\n",
              "    </tr>\n",
              "    <tr>\n",
              "      <th>3</th>\n",
              "      <td>de_inferno</td>\n",
              "      <td>Terrorist</td>\n",
              "      <td>1</td>\n",
              "      <td>4</td>\n",
              "      <td>1</td>\n",
              "      <td>0</td>\n",
              "      <td>1</td>\n",
              "      <td>0</td>\n",
              "      <td>0</td>\n",
              "      <td>4.767.886.136.441.470</td>\n",
              "      <td>8.963.473.313.229.970</td>\n",
              "      <td>0</td>\n",
              "      <td>0</td>\n",
              "      <td>0.0</td>\n",
              "      <td>0.0</td>\n",
              "      <td>0.0</td>\n",
              "      <td>0.0</td>\n",
              "      <td>1</td>\n",
              "      <td>0.0</td>\n",
              "      <td>0</td>\n",
              "      <td>0</td>\n",
              "      <td>0</td>\n",
              "      <td>0</td>\n",
              "      <td>850</td>\n",
              "      <td>4400</td>\n",
              "      <td>0</td>\n",
              "      <td>0</td>\n",
              "      <td>0</td>\n",
              "      <td>0</td>\n",
              "    </tr>\n",
              "    <tr>\n",
              "      <th>4</th>\n",
              "      <td>de_inferno</td>\n",
              "      <td>Terrorist</td>\n",
              "      <td>1</td>\n",
              "      <td>4</td>\n",
              "      <td>1</td>\n",
              "      <td>0</td>\n",
              "      <td>1</td>\n",
              "      <td>1</td>\n",
              "      <td>0</td>\n",
              "      <td>5.312.251.089.027.310</td>\n",
              "      <td>10.865.649.734.393.100</td>\n",
              "      <td>1</td>\n",
              "      <td>1</td>\n",
              "      <td>0.0</td>\n",
              "      <td>0.0</td>\n",
              "      <td>0.0</td>\n",
              "      <td>0.0</td>\n",
              "      <td>1</td>\n",
              "      <td>0.0</td>\n",
              "      <td>0</td>\n",
              "      <td>0</td>\n",
              "      <td>0</td>\n",
              "      <td>0</td>\n",
              "      <td>1000</td>\n",
              "      <td>4400</td>\n",
              "      <td>0</td>\n",
              "      <td>0</td>\n",
              "      <td>0</td>\n",
              "      <td>0</td>\n",
              "    </tr>\n",
              "  </tbody>\n",
              "</table>\n",
              "</div>\n",
              "      <button class=\"colab-df-convert\" onclick=\"convertToInteractive('df-07a8941c-476c-4865-aa64-c6445998eda6')\"\n",
              "              title=\"Convert this dataframe to an interactive table.\"\n",
              "              style=\"display:none;\">\n",
              "        \n",
              "  <svg xmlns=\"http://www.w3.org/2000/svg\" height=\"24px\"viewBox=\"0 0 24 24\"\n",
              "       width=\"24px\">\n",
              "    <path d=\"M0 0h24v24H0V0z\" fill=\"none\"/>\n",
              "    <path d=\"M18.56 5.44l.94 2.06.94-2.06 2.06-.94-2.06-.94-.94-2.06-.94 2.06-2.06.94zm-11 1L8.5 8.5l.94-2.06 2.06-.94-2.06-.94L8.5 2.5l-.94 2.06-2.06.94zm10 10l.94 2.06.94-2.06 2.06-.94-2.06-.94-.94-2.06-.94 2.06-2.06.94z\"/><path d=\"M17.41 7.96l-1.37-1.37c-.4-.4-.92-.59-1.43-.59-.52 0-1.04.2-1.43.59L10.3 9.45l-7.72 7.72c-.78.78-.78 2.05 0 2.83L4 21.41c.39.39.9.59 1.41.59.51 0 1.02-.2 1.41-.59l7.78-7.78 2.81-2.81c.8-.78.8-2.07 0-2.86zM5.41 20L4 18.59l7.72-7.72 1.47 1.35L5.41 20z\"/>\n",
              "  </svg>\n",
              "      </button>\n",
              "      \n",
              "  <style>\n",
              "    .colab-df-container {\n",
              "      display:flex;\n",
              "      flex-wrap:wrap;\n",
              "      gap: 12px;\n",
              "    }\n",
              "\n",
              "    .colab-df-convert {\n",
              "      background-color: #E8F0FE;\n",
              "      border: none;\n",
              "      border-radius: 50%;\n",
              "      cursor: pointer;\n",
              "      display: none;\n",
              "      fill: #1967D2;\n",
              "      height: 32px;\n",
              "      padding: 0 0 0 0;\n",
              "      width: 32px;\n",
              "    }\n",
              "\n",
              "    .colab-df-convert:hover {\n",
              "      background-color: #E2EBFA;\n",
              "      box-shadow: 0px 1px 2px rgba(60, 64, 67, 0.3), 0px 1px 3px 1px rgba(60, 64, 67, 0.15);\n",
              "      fill: #174EA6;\n",
              "    }\n",
              "\n",
              "    [theme=dark] .colab-df-convert {\n",
              "      background-color: #3B4455;\n",
              "      fill: #D2E3FC;\n",
              "    }\n",
              "\n",
              "    [theme=dark] .colab-df-convert:hover {\n",
              "      background-color: #434B5C;\n",
              "      box-shadow: 0px 1px 3px 1px rgba(0, 0, 0, 0.15);\n",
              "      filter: drop-shadow(0px 1px 2px rgba(0, 0, 0, 0.3));\n",
              "      fill: #FFFFFF;\n",
              "    }\n",
              "  </style>\n",
              "\n",
              "      <script>\n",
              "        const buttonEl =\n",
              "          document.querySelector('#df-07a8941c-476c-4865-aa64-c6445998eda6 button.colab-df-convert');\n",
              "        buttonEl.style.display =\n",
              "          google.colab.kernel.accessAllowed ? 'block' : 'none';\n",
              "\n",
              "        async function convertToInteractive(key) {\n",
              "          const element = document.querySelector('#df-07a8941c-476c-4865-aa64-c6445998eda6');\n",
              "          const dataTable =\n",
              "            await google.colab.kernel.invokeFunction('convertToInteractive',\n",
              "                                                     [key], {});\n",
              "          if (!dataTable) return;\n",
              "\n",
              "          const docLinkHtml = 'Like what you see? Visit the ' +\n",
              "            '<a target=\"_blank\" href=https://colab.research.google.com/notebooks/data_table.ipynb>data table notebook</a>'\n",
              "            + ' to learn more about interactive tables.';\n",
              "          element.innerHTML = '';\n",
              "          dataTable['output_type'] = 'display_data';\n",
              "          await google.colab.output.renderOutput(dataTable, element);\n",
              "          const docLink = document.createElement('div');\n",
              "          docLink.innerHTML = docLinkHtml;\n",
              "          element.appendChild(docLink);\n",
              "        }\n",
              "      </script>\n",
              "    </div>\n",
              "  </div>\n",
              "  "
            ]
          },
          "metadata": {},
          "execution_count": 44
        }
      ],
      "source": [
        "new_df.head()"
      ]
    },
    {
      "cell_type": "markdown",
      "source": [
        "--------------------------------------------------------------"
      ],
      "metadata": {
        "id": "SE9P21LUMJCH"
      }
    },
    {
      "cell_type": "markdown",
      "source": [
        "* Acá verificamos los datos de manera aleatoria, en caso de"
      ],
      "metadata": {
        "id": "pSnzD2lHOiOf"
      }
    },
    {
      "cell_type": "code",
      "execution_count": 45,
      "metadata": {
        "id": "SKAxM1a_QpJg",
        "colab": {
          "base_uri": "https://localhost:8080/",
          "height": 270
        },
        "outputId": "a177bc0f-8ea2-4d27-ceb7-6d7add2102e7"
      },
      "outputs": [
        {
          "output_type": "execute_result",
          "data": {
            "text/plain": [
              "              Map              Team  InternalTeamId  MatchId  RoundId  \\\n",
              "4620    de_mirage         Terrorist               1       29        3   \n",
              "8673   de_inferno  CounterTerrorist               1       53       19   \n",
              "76496   de_mirage  CounterTerrorist               2      499       10   \n",
              "59911    de_dust2         Terrorist               1      378        4   \n",
              "29318     de_nuke         Terrorist               2      170       24   \n",
              "\n",
              "       RoundWinner  MatchWinner  Survived  AbnormalMatch  \\\n",
              "4620             0            1         1              0   \n",
              "8673             0            0         1              0   \n",
              "76496            1            1         0              0   \n",
              "59911            0            0         0              0   \n",
              "29318            0            0         0              0   \n",
              "\n",
              "                    TimeAlive       TravelledDistance  RLethalGrenadesThrown  \\\n",
              "4620   10.881.990.450.654.900  13.285.758.905.893.300                      1   \n",
              "8673    3.692.527.289.555.490   4.040.426.873.630.130                      2   \n",
              "76496  62.886.308.814.830.200  10.716.447.054.635.100                      0   \n",
              "59911   4.918.891.960.774.980   6.198.368.657.734.320                      2   \n",
              "29318     895.144.000.956.023   8.840.817.707.471.840                      1   \n",
              "\n",
              "       RNonLethalGrenadesThrown  PrimaryAssaultRifle  PrimarySniperRifle  \\\n",
              "4620                          1             1.000000            0.000000   \n",
              "8673                          0             1.000000            0.000000   \n",
              "76496                         2             0.008395            0.991605   \n",
              "59911                         2             1.000000            0.000000   \n",
              "29318                         3             1.000000            0.000000   \n",
              "\n",
              "       PrimaryHeavy  PrimarySMG  PrimaryPistol           FirstKillTime  \\\n",
              "4620            0.0         0.0              0                 834.286   \n",
              "8673            0.0         0.0              0             333.695.068   \n",
              "76496           0.0         0.0              0  36.131.496.399.999.900   \n",
              "59911           0.0         0.0              0  45.203.796.399.999.900   \n",
              "29318           0.0         0.0              0  29.494.087.199.999.900   \n",
              "\n",
              "       RoundKills  RoundAssists  RoundHeadshots  RoundFlankKills  \\\n",
              "4620            2             1               2                0   \n",
              "8673            1             3               0                1   \n",
              "76496           1             0               0                0   \n",
              "59911           1             1               0                0   \n",
              "29318           0             0               0                0   \n",
              "\n",
              "       RoundStartingEquipmentValue  TeamStartingEquipmentValue  MatchKills  \\\n",
              "4620                          4700                       23600           3   \n",
              "8673                          5250                       26350           4   \n",
              "76496                         5450                       20400           4   \n",
              "59911                         4400                       24400           6   \n",
              "29318                         4400                       16050          14   \n",
              "\n",
              "       MatchFlankKills  MatchAssists  MatchHeadshots  \n",
              "4620                 0             3               3  \n",
              "8673                 4             6               1  \n",
              "76496                0             0               0  \n",
              "59911                0             1               2  \n",
              "29318                2             3               6  "
            ],
            "text/html": [
              "\n",
              "  <div id=\"df-6401d88e-3410-41cc-a375-45f5df872115\">\n",
              "    <div class=\"colab-df-container\">\n",
              "      <div>\n",
              "<style scoped>\n",
              "    .dataframe tbody tr th:only-of-type {\n",
              "        vertical-align: middle;\n",
              "    }\n",
              "\n",
              "    .dataframe tbody tr th {\n",
              "        vertical-align: top;\n",
              "    }\n",
              "\n",
              "    .dataframe thead th {\n",
              "        text-align: right;\n",
              "    }\n",
              "</style>\n",
              "<table border=\"1\" class=\"dataframe\">\n",
              "  <thead>\n",
              "    <tr style=\"text-align: right;\">\n",
              "      <th></th>\n",
              "      <th>Map</th>\n",
              "      <th>Team</th>\n",
              "      <th>InternalTeamId</th>\n",
              "      <th>MatchId</th>\n",
              "      <th>RoundId</th>\n",
              "      <th>RoundWinner</th>\n",
              "      <th>MatchWinner</th>\n",
              "      <th>Survived</th>\n",
              "      <th>AbnormalMatch</th>\n",
              "      <th>TimeAlive</th>\n",
              "      <th>TravelledDistance</th>\n",
              "      <th>RLethalGrenadesThrown</th>\n",
              "      <th>RNonLethalGrenadesThrown</th>\n",
              "      <th>PrimaryAssaultRifle</th>\n",
              "      <th>PrimarySniperRifle</th>\n",
              "      <th>PrimaryHeavy</th>\n",
              "      <th>PrimarySMG</th>\n",
              "      <th>PrimaryPistol</th>\n",
              "      <th>FirstKillTime</th>\n",
              "      <th>RoundKills</th>\n",
              "      <th>RoundAssists</th>\n",
              "      <th>RoundHeadshots</th>\n",
              "      <th>RoundFlankKills</th>\n",
              "      <th>RoundStartingEquipmentValue</th>\n",
              "      <th>TeamStartingEquipmentValue</th>\n",
              "      <th>MatchKills</th>\n",
              "      <th>MatchFlankKills</th>\n",
              "      <th>MatchAssists</th>\n",
              "      <th>MatchHeadshots</th>\n",
              "    </tr>\n",
              "  </thead>\n",
              "  <tbody>\n",
              "    <tr>\n",
              "      <th>4620</th>\n",
              "      <td>de_mirage</td>\n",
              "      <td>Terrorist</td>\n",
              "      <td>1</td>\n",
              "      <td>29</td>\n",
              "      <td>3</td>\n",
              "      <td>0</td>\n",
              "      <td>1</td>\n",
              "      <td>1</td>\n",
              "      <td>0</td>\n",
              "      <td>10.881.990.450.654.900</td>\n",
              "      <td>13.285.758.905.893.300</td>\n",
              "      <td>1</td>\n",
              "      <td>1</td>\n",
              "      <td>1.000000</td>\n",
              "      <td>0.000000</td>\n",
              "      <td>0.0</td>\n",
              "      <td>0.0</td>\n",
              "      <td>0</td>\n",
              "      <td>834.286</td>\n",
              "      <td>2</td>\n",
              "      <td>1</td>\n",
              "      <td>2</td>\n",
              "      <td>0</td>\n",
              "      <td>4700</td>\n",
              "      <td>23600</td>\n",
              "      <td>3</td>\n",
              "      <td>0</td>\n",
              "      <td>3</td>\n",
              "      <td>3</td>\n",
              "    </tr>\n",
              "    <tr>\n",
              "      <th>8673</th>\n",
              "      <td>de_inferno</td>\n",
              "      <td>CounterTerrorist</td>\n",
              "      <td>1</td>\n",
              "      <td>53</td>\n",
              "      <td>19</td>\n",
              "      <td>0</td>\n",
              "      <td>0</td>\n",
              "      <td>1</td>\n",
              "      <td>0</td>\n",
              "      <td>3.692.527.289.555.490</td>\n",
              "      <td>4.040.426.873.630.130</td>\n",
              "      <td>2</td>\n",
              "      <td>0</td>\n",
              "      <td>1.000000</td>\n",
              "      <td>0.000000</td>\n",
              "      <td>0.0</td>\n",
              "      <td>0.0</td>\n",
              "      <td>0</td>\n",
              "      <td>333.695.068</td>\n",
              "      <td>1</td>\n",
              "      <td>3</td>\n",
              "      <td>0</td>\n",
              "      <td>1</td>\n",
              "      <td>5250</td>\n",
              "      <td>26350</td>\n",
              "      <td>4</td>\n",
              "      <td>4</td>\n",
              "      <td>6</td>\n",
              "      <td>1</td>\n",
              "    </tr>\n",
              "    <tr>\n",
              "      <th>76496</th>\n",
              "      <td>de_mirage</td>\n",
              "      <td>CounterTerrorist</td>\n",
              "      <td>2</td>\n",
              "      <td>499</td>\n",
              "      <td>10</td>\n",
              "      <td>1</td>\n",
              "      <td>1</td>\n",
              "      <td>0</td>\n",
              "      <td>0</td>\n",
              "      <td>62.886.308.814.830.200</td>\n",
              "      <td>10.716.447.054.635.100</td>\n",
              "      <td>0</td>\n",
              "      <td>2</td>\n",
              "      <td>0.008395</td>\n",
              "      <td>0.991605</td>\n",
              "      <td>0.0</td>\n",
              "      <td>0.0</td>\n",
              "      <td>0</td>\n",
              "      <td>36.131.496.399.999.900</td>\n",
              "      <td>1</td>\n",
              "      <td>0</td>\n",
              "      <td>0</td>\n",
              "      <td>0</td>\n",
              "      <td>5450</td>\n",
              "      <td>20400</td>\n",
              "      <td>4</td>\n",
              "      <td>0</td>\n",
              "      <td>0</td>\n",
              "      <td>0</td>\n",
              "    </tr>\n",
              "    <tr>\n",
              "      <th>59911</th>\n",
              "      <td>de_dust2</td>\n",
              "      <td>Terrorist</td>\n",
              "      <td>1</td>\n",
              "      <td>378</td>\n",
              "      <td>4</td>\n",
              "      <td>0</td>\n",
              "      <td>0</td>\n",
              "      <td>0</td>\n",
              "      <td>0</td>\n",
              "      <td>4.918.891.960.774.980</td>\n",
              "      <td>6.198.368.657.734.320</td>\n",
              "      <td>2</td>\n",
              "      <td>2</td>\n",
              "      <td>1.000000</td>\n",
              "      <td>0.000000</td>\n",
              "      <td>0.0</td>\n",
              "      <td>0.0</td>\n",
              "      <td>0</td>\n",
              "      <td>45.203.796.399.999.900</td>\n",
              "      <td>1</td>\n",
              "      <td>1</td>\n",
              "      <td>0</td>\n",
              "      <td>0</td>\n",
              "      <td>4400</td>\n",
              "      <td>24400</td>\n",
              "      <td>6</td>\n",
              "      <td>0</td>\n",
              "      <td>1</td>\n",
              "      <td>2</td>\n",
              "    </tr>\n",
              "    <tr>\n",
              "      <th>29318</th>\n",
              "      <td>de_nuke</td>\n",
              "      <td>Terrorist</td>\n",
              "      <td>2</td>\n",
              "      <td>170</td>\n",
              "      <td>24</td>\n",
              "      <td>0</td>\n",
              "      <td>0</td>\n",
              "      <td>0</td>\n",
              "      <td>0</td>\n",
              "      <td>895.144.000.956.023</td>\n",
              "      <td>8.840.817.707.471.840</td>\n",
              "      <td>1</td>\n",
              "      <td>3</td>\n",
              "      <td>1.000000</td>\n",
              "      <td>0.000000</td>\n",
              "      <td>0.0</td>\n",
              "      <td>0.0</td>\n",
              "      <td>0</td>\n",
              "      <td>29.494.087.199.999.900</td>\n",
              "      <td>0</td>\n",
              "      <td>0</td>\n",
              "      <td>0</td>\n",
              "      <td>0</td>\n",
              "      <td>4400</td>\n",
              "      <td>16050</td>\n",
              "      <td>14</td>\n",
              "      <td>2</td>\n",
              "      <td>3</td>\n",
              "      <td>6</td>\n",
              "    </tr>\n",
              "  </tbody>\n",
              "</table>\n",
              "</div>\n",
              "      <button class=\"colab-df-convert\" onclick=\"convertToInteractive('df-6401d88e-3410-41cc-a375-45f5df872115')\"\n",
              "              title=\"Convert this dataframe to an interactive table.\"\n",
              "              style=\"display:none;\">\n",
              "        \n",
              "  <svg xmlns=\"http://www.w3.org/2000/svg\" height=\"24px\"viewBox=\"0 0 24 24\"\n",
              "       width=\"24px\">\n",
              "    <path d=\"M0 0h24v24H0V0z\" fill=\"none\"/>\n",
              "    <path d=\"M18.56 5.44l.94 2.06.94-2.06 2.06-.94-2.06-.94-.94-2.06-.94 2.06-2.06.94zm-11 1L8.5 8.5l.94-2.06 2.06-.94-2.06-.94L8.5 2.5l-.94 2.06-2.06.94zm10 10l.94 2.06.94-2.06 2.06-.94-2.06-.94-.94-2.06-.94 2.06-2.06.94z\"/><path d=\"M17.41 7.96l-1.37-1.37c-.4-.4-.92-.59-1.43-.59-.52 0-1.04.2-1.43.59L10.3 9.45l-7.72 7.72c-.78.78-.78 2.05 0 2.83L4 21.41c.39.39.9.59 1.41.59.51 0 1.02-.2 1.41-.59l7.78-7.78 2.81-2.81c.8-.78.8-2.07 0-2.86zM5.41 20L4 18.59l7.72-7.72 1.47 1.35L5.41 20z\"/>\n",
              "  </svg>\n",
              "      </button>\n",
              "      \n",
              "  <style>\n",
              "    .colab-df-container {\n",
              "      display:flex;\n",
              "      flex-wrap:wrap;\n",
              "      gap: 12px;\n",
              "    }\n",
              "\n",
              "    .colab-df-convert {\n",
              "      background-color: #E8F0FE;\n",
              "      border: none;\n",
              "      border-radius: 50%;\n",
              "      cursor: pointer;\n",
              "      display: none;\n",
              "      fill: #1967D2;\n",
              "      height: 32px;\n",
              "      padding: 0 0 0 0;\n",
              "      width: 32px;\n",
              "    }\n",
              "\n",
              "    .colab-df-convert:hover {\n",
              "      background-color: #E2EBFA;\n",
              "      box-shadow: 0px 1px 2px rgba(60, 64, 67, 0.3), 0px 1px 3px 1px rgba(60, 64, 67, 0.15);\n",
              "      fill: #174EA6;\n",
              "    }\n",
              "\n",
              "    [theme=dark] .colab-df-convert {\n",
              "      background-color: #3B4455;\n",
              "      fill: #D2E3FC;\n",
              "    }\n",
              "\n",
              "    [theme=dark] .colab-df-convert:hover {\n",
              "      background-color: #434B5C;\n",
              "      box-shadow: 0px 1px 3px 1px rgba(0, 0, 0, 0.15);\n",
              "      filter: drop-shadow(0px 1px 2px rgba(0, 0, 0, 0.3));\n",
              "      fill: #FFFFFF;\n",
              "    }\n",
              "  </style>\n",
              "\n",
              "      <script>\n",
              "        const buttonEl =\n",
              "          document.querySelector('#df-6401d88e-3410-41cc-a375-45f5df872115 button.colab-df-convert');\n",
              "        buttonEl.style.display =\n",
              "          google.colab.kernel.accessAllowed ? 'block' : 'none';\n",
              "\n",
              "        async function convertToInteractive(key) {\n",
              "          const element = document.querySelector('#df-6401d88e-3410-41cc-a375-45f5df872115');\n",
              "          const dataTable =\n",
              "            await google.colab.kernel.invokeFunction('convertToInteractive',\n",
              "                                                     [key], {});\n",
              "          if (!dataTable) return;\n",
              "\n",
              "          const docLinkHtml = 'Like what you see? Visit the ' +\n",
              "            '<a target=\"_blank\" href=https://colab.research.google.com/notebooks/data_table.ipynb>data table notebook</a>'\n",
              "            + ' to learn more about interactive tables.';\n",
              "          element.innerHTML = '';\n",
              "          dataTable['output_type'] = 'display_data';\n",
              "          await google.colab.output.renderOutput(dataTable, element);\n",
              "          const docLink = document.createElement('div');\n",
              "          docLink.innerHTML = docLinkHtml;\n",
              "          element.appendChild(docLink);\n",
              "        }\n",
              "      </script>\n",
              "    </div>\n",
              "  </div>\n",
              "  "
            ]
          },
          "metadata": {},
          "execution_count": 45
        }
      ],
      "source": [
        "new_df.sample(5)"
      ]
    },
    {
      "cell_type": "markdown",
      "source": [
        "--------------------------------------------------------------"
      ],
      "metadata": {
        "id": "QosRzurDMJ-T"
      }
    },
    {
      "cell_type": "markdown",
      "source": [
        "* Se crea nuevo atributo basado en dos atributos ya presentes en el set de datos:\n",
        "* Total de granadas arrojadas en el round, independientemente de si son de tipo letal o no\n",
        "* RTotalGrenadesThrown = RLethalGrenadesThrown + RNonLethalGrenadesThrown"
      ],
      "metadata": {
        "id": "lkq6-NOkOvg2"
      }
    },
    {
      "cell_type": "code",
      "execution_count": 46,
      "metadata": {
        "id": "zxCPaGxedg_p"
      },
      "outputs": [],
      "source": [
        "df['RTotalGrenadesThrown'] = df['RLethalGrenadesThrown'] + df['RNonLethalGrenadesThrown']"
      ]
    },
    {
      "cell_type": "markdown",
      "source": [
        "--------------------------------------------------------------"
      ],
      "metadata": {
        "id": "k2nP9nANMLMW"
      }
    },
    {
      "cell_type": "markdown",
      "source": [
        " * Revisamos si contiene timeAlive algun texto"
      ],
      "metadata": {
        "id": "IRUHBMv8O2uq"
      }
    },
    {
      "cell_type": "code",
      "execution_count": 47,
      "metadata": {
        "id": "71EcgTDYg4xz",
        "colab": {
          "base_uri": "https://localhost:8080/",
          "height": 113
        },
        "outputId": "257aec74-eafc-44c0-d14b-9498e8729cc5"
      },
      "outputs": [
        {
          "output_type": "execute_result",
          "data": {
            "text/plain": [
              "Empty DataFrame\n",
              "Columns: [Map, Team, InternalTeamId, MatchId, RoundId, RoundWinner, MatchWinner, Survived, AbnormalMatch, TimeAlive, TravelledDistance, RLethalGrenadesThrown, RNonLethalGrenadesThrown, PrimaryAssaultRifle, PrimarySniperRifle, PrimaryHeavy, PrimarySMG, PrimaryPistol, FirstKillTime, RoundKills, RoundAssists, RoundHeadshots, RoundFlankKills, RoundStartingEquipmentValue, TeamStartingEquipmentValue, MatchKills, MatchFlankKills, MatchAssists, MatchHeadshots, RTotalGrenadesThrown]\n",
              "Index: []"
            ],
            "text/html": [
              "\n",
              "  <div id=\"df-9037614f-9860-47e1-b255-51b3d42f184e\">\n",
              "    <div class=\"colab-df-container\">\n",
              "      <div>\n",
              "<style scoped>\n",
              "    .dataframe tbody tr th:only-of-type {\n",
              "        vertical-align: middle;\n",
              "    }\n",
              "\n",
              "    .dataframe tbody tr th {\n",
              "        vertical-align: top;\n",
              "    }\n",
              "\n",
              "    .dataframe thead th {\n",
              "        text-align: right;\n",
              "    }\n",
              "</style>\n",
              "<table border=\"1\" class=\"dataframe\">\n",
              "  <thead>\n",
              "    <tr style=\"text-align: right;\">\n",
              "      <th></th>\n",
              "      <th>Map</th>\n",
              "      <th>Team</th>\n",
              "      <th>InternalTeamId</th>\n",
              "      <th>MatchId</th>\n",
              "      <th>RoundId</th>\n",
              "      <th>RoundWinner</th>\n",
              "      <th>MatchWinner</th>\n",
              "      <th>Survived</th>\n",
              "      <th>AbnormalMatch</th>\n",
              "      <th>TimeAlive</th>\n",
              "      <th>TravelledDistance</th>\n",
              "      <th>RLethalGrenadesThrown</th>\n",
              "      <th>RNonLethalGrenadesThrown</th>\n",
              "      <th>PrimaryAssaultRifle</th>\n",
              "      <th>PrimarySniperRifle</th>\n",
              "      <th>PrimaryHeavy</th>\n",
              "      <th>PrimarySMG</th>\n",
              "      <th>PrimaryPistol</th>\n",
              "      <th>FirstKillTime</th>\n",
              "      <th>RoundKills</th>\n",
              "      <th>RoundAssists</th>\n",
              "      <th>RoundHeadshots</th>\n",
              "      <th>RoundFlankKills</th>\n",
              "      <th>RoundStartingEquipmentValue</th>\n",
              "      <th>TeamStartingEquipmentValue</th>\n",
              "      <th>MatchKills</th>\n",
              "      <th>MatchFlankKills</th>\n",
              "      <th>MatchAssists</th>\n",
              "      <th>MatchHeadshots</th>\n",
              "      <th>RTotalGrenadesThrown</th>\n",
              "    </tr>\n",
              "  </thead>\n",
              "  <tbody>\n",
              "  </tbody>\n",
              "</table>\n",
              "</div>\n",
              "      <button class=\"colab-df-convert\" onclick=\"convertToInteractive('df-9037614f-9860-47e1-b255-51b3d42f184e')\"\n",
              "              title=\"Convert this dataframe to an interactive table.\"\n",
              "              style=\"display:none;\">\n",
              "        \n",
              "  <svg xmlns=\"http://www.w3.org/2000/svg\" height=\"24px\"viewBox=\"0 0 24 24\"\n",
              "       width=\"24px\">\n",
              "    <path d=\"M0 0h24v24H0V0z\" fill=\"none\"/>\n",
              "    <path d=\"M18.56 5.44l.94 2.06.94-2.06 2.06-.94-2.06-.94-.94-2.06-.94 2.06-2.06.94zm-11 1L8.5 8.5l.94-2.06 2.06-.94-2.06-.94L8.5 2.5l-.94 2.06-2.06.94zm10 10l.94 2.06.94-2.06 2.06-.94-2.06-.94-.94-2.06-.94 2.06-2.06.94z\"/><path d=\"M17.41 7.96l-1.37-1.37c-.4-.4-.92-.59-1.43-.59-.52 0-1.04.2-1.43.59L10.3 9.45l-7.72 7.72c-.78.78-.78 2.05 0 2.83L4 21.41c.39.39.9.59 1.41.59.51 0 1.02-.2 1.41-.59l7.78-7.78 2.81-2.81c.8-.78.8-2.07 0-2.86zM5.41 20L4 18.59l7.72-7.72 1.47 1.35L5.41 20z\"/>\n",
              "  </svg>\n",
              "      </button>\n",
              "      \n",
              "  <style>\n",
              "    .colab-df-container {\n",
              "      display:flex;\n",
              "      flex-wrap:wrap;\n",
              "      gap: 12px;\n",
              "    }\n",
              "\n",
              "    .colab-df-convert {\n",
              "      background-color: #E8F0FE;\n",
              "      border: none;\n",
              "      border-radius: 50%;\n",
              "      cursor: pointer;\n",
              "      display: none;\n",
              "      fill: #1967D2;\n",
              "      height: 32px;\n",
              "      padding: 0 0 0 0;\n",
              "      width: 32px;\n",
              "    }\n",
              "\n",
              "    .colab-df-convert:hover {\n",
              "      background-color: #E2EBFA;\n",
              "      box-shadow: 0px 1px 2px rgba(60, 64, 67, 0.3), 0px 1px 3px 1px rgba(60, 64, 67, 0.15);\n",
              "      fill: #174EA6;\n",
              "    }\n",
              "\n",
              "    [theme=dark] .colab-df-convert {\n",
              "      background-color: #3B4455;\n",
              "      fill: #D2E3FC;\n",
              "    }\n",
              "\n",
              "    [theme=dark] .colab-df-convert:hover {\n",
              "      background-color: #434B5C;\n",
              "      box-shadow: 0px 1px 3px 1px rgba(0, 0, 0, 0.15);\n",
              "      filter: drop-shadow(0px 1px 2px rgba(0, 0, 0, 0.3));\n",
              "      fill: #FFFFFF;\n",
              "    }\n",
              "  </style>\n",
              "\n",
              "      <script>\n",
              "        const buttonEl =\n",
              "          document.querySelector('#df-9037614f-9860-47e1-b255-51b3d42f184e button.colab-df-convert');\n",
              "        buttonEl.style.display =\n",
              "          google.colab.kernel.accessAllowed ? 'block' : 'none';\n",
              "\n",
              "        async function convertToInteractive(key) {\n",
              "          const element = document.querySelector('#df-9037614f-9860-47e1-b255-51b3d42f184e');\n",
              "          const dataTable =\n",
              "            await google.colab.kernel.invokeFunction('convertToInteractive',\n",
              "                                                     [key], {});\n",
              "          if (!dataTable) return;\n",
              "\n",
              "          const docLinkHtml = 'Like what you see? Visit the ' +\n",
              "            '<a target=\"_blank\" href=https://colab.research.google.com/notebooks/data_table.ipynb>data table notebook</a>'\n",
              "            + ' to learn more about interactive tables.';\n",
              "          element.innerHTML = '';\n",
              "          dataTable['output_type'] = 'display_data';\n",
              "          await google.colab.output.renderOutput(dataTable, element);\n",
              "          const docLink = document.createElement('div');\n",
              "          docLink.innerHTML = docLinkHtml;\n",
              "          element.appendChild(docLink);\n",
              "        }\n",
              "      </script>\n",
              "    </div>\n",
              "  </div>\n",
              "  "
            ]
          },
          "metadata": {},
          "execution_count": 47
        }
      ],
      "source": [
        "new_df[new_df['TimeAlive'].str.contains(pat = '/\\b\\w+\\b/i', regex = True)]"
      ]
    },
    {
      "cell_type": "markdown",
      "source": [
        "--------------------------------------------------------------"
      ],
      "metadata": {
        "id": "dya2mfDbMMfN"
      }
    },
    {
      "cell_type": "markdown",
      "source": [
        "* Revisamos si contiene TravelledDistance algun texto"
      ],
      "metadata": {
        "id": "b76cI9mMO7r4"
      }
    },
    {
      "cell_type": "code",
      "execution_count": 48,
      "metadata": {
        "id": "yhRoL4AQg4I1",
        "colab": {
          "base_uri": "https://localhost:8080/",
          "height": 113
        },
        "outputId": "23fc7639-5268-465a-ad59-2c538ab969e8"
      },
      "outputs": [
        {
          "output_type": "execute_result",
          "data": {
            "text/plain": [
              "Empty DataFrame\n",
              "Columns: [Map, Team, InternalTeamId, MatchId, RoundId, RoundWinner, MatchWinner, Survived, AbnormalMatch, TimeAlive, TravelledDistance, RLethalGrenadesThrown, RNonLethalGrenadesThrown, PrimaryAssaultRifle, PrimarySniperRifle, PrimaryHeavy, PrimarySMG, PrimaryPistol, FirstKillTime, RoundKills, RoundAssists, RoundHeadshots, RoundFlankKills, RoundStartingEquipmentValue, TeamStartingEquipmentValue, MatchKills, MatchFlankKills, MatchAssists, MatchHeadshots, RTotalGrenadesThrown]\n",
              "Index: []"
            ],
            "text/html": [
              "\n",
              "  <div id=\"df-1eaf0d59-aea9-4442-9c46-5e6add5bd76f\">\n",
              "    <div class=\"colab-df-container\">\n",
              "      <div>\n",
              "<style scoped>\n",
              "    .dataframe tbody tr th:only-of-type {\n",
              "        vertical-align: middle;\n",
              "    }\n",
              "\n",
              "    .dataframe tbody tr th {\n",
              "        vertical-align: top;\n",
              "    }\n",
              "\n",
              "    .dataframe thead th {\n",
              "        text-align: right;\n",
              "    }\n",
              "</style>\n",
              "<table border=\"1\" class=\"dataframe\">\n",
              "  <thead>\n",
              "    <tr style=\"text-align: right;\">\n",
              "      <th></th>\n",
              "      <th>Map</th>\n",
              "      <th>Team</th>\n",
              "      <th>InternalTeamId</th>\n",
              "      <th>MatchId</th>\n",
              "      <th>RoundId</th>\n",
              "      <th>RoundWinner</th>\n",
              "      <th>MatchWinner</th>\n",
              "      <th>Survived</th>\n",
              "      <th>AbnormalMatch</th>\n",
              "      <th>TimeAlive</th>\n",
              "      <th>TravelledDistance</th>\n",
              "      <th>RLethalGrenadesThrown</th>\n",
              "      <th>RNonLethalGrenadesThrown</th>\n",
              "      <th>PrimaryAssaultRifle</th>\n",
              "      <th>PrimarySniperRifle</th>\n",
              "      <th>PrimaryHeavy</th>\n",
              "      <th>PrimarySMG</th>\n",
              "      <th>PrimaryPistol</th>\n",
              "      <th>FirstKillTime</th>\n",
              "      <th>RoundKills</th>\n",
              "      <th>RoundAssists</th>\n",
              "      <th>RoundHeadshots</th>\n",
              "      <th>RoundFlankKills</th>\n",
              "      <th>RoundStartingEquipmentValue</th>\n",
              "      <th>TeamStartingEquipmentValue</th>\n",
              "      <th>MatchKills</th>\n",
              "      <th>MatchFlankKills</th>\n",
              "      <th>MatchAssists</th>\n",
              "      <th>MatchHeadshots</th>\n",
              "      <th>RTotalGrenadesThrown</th>\n",
              "    </tr>\n",
              "  </thead>\n",
              "  <tbody>\n",
              "  </tbody>\n",
              "</table>\n",
              "</div>\n",
              "      <button class=\"colab-df-convert\" onclick=\"convertToInteractive('df-1eaf0d59-aea9-4442-9c46-5e6add5bd76f')\"\n",
              "              title=\"Convert this dataframe to an interactive table.\"\n",
              "              style=\"display:none;\">\n",
              "        \n",
              "  <svg xmlns=\"http://www.w3.org/2000/svg\" height=\"24px\"viewBox=\"0 0 24 24\"\n",
              "       width=\"24px\">\n",
              "    <path d=\"M0 0h24v24H0V0z\" fill=\"none\"/>\n",
              "    <path d=\"M18.56 5.44l.94 2.06.94-2.06 2.06-.94-2.06-.94-.94-2.06-.94 2.06-2.06.94zm-11 1L8.5 8.5l.94-2.06 2.06-.94-2.06-.94L8.5 2.5l-.94 2.06-2.06.94zm10 10l.94 2.06.94-2.06 2.06-.94-2.06-.94-.94-2.06-.94 2.06-2.06.94z\"/><path d=\"M17.41 7.96l-1.37-1.37c-.4-.4-.92-.59-1.43-.59-.52 0-1.04.2-1.43.59L10.3 9.45l-7.72 7.72c-.78.78-.78 2.05 0 2.83L4 21.41c.39.39.9.59 1.41.59.51 0 1.02-.2 1.41-.59l7.78-7.78 2.81-2.81c.8-.78.8-2.07 0-2.86zM5.41 20L4 18.59l7.72-7.72 1.47 1.35L5.41 20z\"/>\n",
              "  </svg>\n",
              "      </button>\n",
              "      \n",
              "  <style>\n",
              "    .colab-df-container {\n",
              "      display:flex;\n",
              "      flex-wrap:wrap;\n",
              "      gap: 12px;\n",
              "    }\n",
              "\n",
              "    .colab-df-convert {\n",
              "      background-color: #E8F0FE;\n",
              "      border: none;\n",
              "      border-radius: 50%;\n",
              "      cursor: pointer;\n",
              "      display: none;\n",
              "      fill: #1967D2;\n",
              "      height: 32px;\n",
              "      padding: 0 0 0 0;\n",
              "      width: 32px;\n",
              "    }\n",
              "\n",
              "    .colab-df-convert:hover {\n",
              "      background-color: #E2EBFA;\n",
              "      box-shadow: 0px 1px 2px rgba(60, 64, 67, 0.3), 0px 1px 3px 1px rgba(60, 64, 67, 0.15);\n",
              "      fill: #174EA6;\n",
              "    }\n",
              "\n",
              "    [theme=dark] .colab-df-convert {\n",
              "      background-color: #3B4455;\n",
              "      fill: #D2E3FC;\n",
              "    }\n",
              "\n",
              "    [theme=dark] .colab-df-convert:hover {\n",
              "      background-color: #434B5C;\n",
              "      box-shadow: 0px 1px 3px 1px rgba(0, 0, 0, 0.15);\n",
              "      filter: drop-shadow(0px 1px 2px rgba(0, 0, 0, 0.3));\n",
              "      fill: #FFFFFF;\n",
              "    }\n",
              "  </style>\n",
              "\n",
              "      <script>\n",
              "        const buttonEl =\n",
              "          document.querySelector('#df-1eaf0d59-aea9-4442-9c46-5e6add5bd76f button.colab-df-convert');\n",
              "        buttonEl.style.display =\n",
              "          google.colab.kernel.accessAllowed ? 'block' : 'none';\n",
              "\n",
              "        async function convertToInteractive(key) {\n",
              "          const element = document.querySelector('#df-1eaf0d59-aea9-4442-9c46-5e6add5bd76f');\n",
              "          const dataTable =\n",
              "            await google.colab.kernel.invokeFunction('convertToInteractive',\n",
              "                                                     [key], {});\n",
              "          if (!dataTable) return;\n",
              "\n",
              "          const docLinkHtml = 'Like what you see? Visit the ' +\n",
              "            '<a target=\"_blank\" href=https://colab.research.google.com/notebooks/data_table.ipynb>data table notebook</a>'\n",
              "            + ' to learn more about interactive tables.';\n",
              "          element.innerHTML = '';\n",
              "          dataTable['output_type'] = 'display_data';\n",
              "          await google.colab.output.renderOutput(dataTable, element);\n",
              "          const docLink = document.createElement('div');\n",
              "          docLink.innerHTML = docLinkHtml;\n",
              "          element.appendChild(docLink);\n",
              "        }\n",
              "      </script>\n",
              "    </div>\n",
              "  </div>\n",
              "  "
            ]
          },
          "metadata": {},
          "execution_count": 48
        }
      ],
      "source": [
        "new_df[new_df['TravelledDistance'].str.contains(pat = '/\\b\\w+\\b/i', regex = True)] "
      ]
    },
    {
      "cell_type": "markdown",
      "source": [
        "--------------------------------------------------------------"
      ],
      "metadata": {
        "id": "eIY5Gzu6MNN1"
      }
    },
    {
      "cell_type": "markdown",
      "source": [
        "* Revisamos si contiene FirstKillTime algun texto"
      ],
      "metadata": {
        "id": "bakkSPrgPBZe"
      }
    },
    {
      "cell_type": "code",
      "execution_count": 49,
      "metadata": {
        "id": "HXZ4tK1ag8-8",
        "colab": {
          "base_uri": "https://localhost:8080/",
          "height": 113
        },
        "outputId": "cede686a-889c-405d-8450-f70beacae84c"
      },
      "outputs": [
        {
          "output_type": "execute_result",
          "data": {
            "text/plain": [
              "Empty DataFrame\n",
              "Columns: [Map, Team, InternalTeamId, MatchId, RoundId, RoundWinner, MatchWinner, Survived, AbnormalMatch, TimeAlive, TravelledDistance, RLethalGrenadesThrown, RNonLethalGrenadesThrown, PrimaryAssaultRifle, PrimarySniperRifle, PrimaryHeavy, PrimarySMG, PrimaryPistol, FirstKillTime, RoundKills, RoundAssists, RoundHeadshots, RoundFlankKills, RoundStartingEquipmentValue, TeamStartingEquipmentValue, MatchKills, MatchFlankKills, MatchAssists, MatchHeadshots, RTotalGrenadesThrown]\n",
              "Index: []"
            ],
            "text/html": [
              "\n",
              "  <div id=\"df-a67be137-760e-4037-93b7-139c912df033\">\n",
              "    <div class=\"colab-df-container\">\n",
              "      <div>\n",
              "<style scoped>\n",
              "    .dataframe tbody tr th:only-of-type {\n",
              "        vertical-align: middle;\n",
              "    }\n",
              "\n",
              "    .dataframe tbody tr th {\n",
              "        vertical-align: top;\n",
              "    }\n",
              "\n",
              "    .dataframe thead th {\n",
              "        text-align: right;\n",
              "    }\n",
              "</style>\n",
              "<table border=\"1\" class=\"dataframe\">\n",
              "  <thead>\n",
              "    <tr style=\"text-align: right;\">\n",
              "      <th></th>\n",
              "      <th>Map</th>\n",
              "      <th>Team</th>\n",
              "      <th>InternalTeamId</th>\n",
              "      <th>MatchId</th>\n",
              "      <th>RoundId</th>\n",
              "      <th>RoundWinner</th>\n",
              "      <th>MatchWinner</th>\n",
              "      <th>Survived</th>\n",
              "      <th>AbnormalMatch</th>\n",
              "      <th>TimeAlive</th>\n",
              "      <th>TravelledDistance</th>\n",
              "      <th>RLethalGrenadesThrown</th>\n",
              "      <th>RNonLethalGrenadesThrown</th>\n",
              "      <th>PrimaryAssaultRifle</th>\n",
              "      <th>PrimarySniperRifle</th>\n",
              "      <th>PrimaryHeavy</th>\n",
              "      <th>PrimarySMG</th>\n",
              "      <th>PrimaryPistol</th>\n",
              "      <th>FirstKillTime</th>\n",
              "      <th>RoundKills</th>\n",
              "      <th>RoundAssists</th>\n",
              "      <th>RoundHeadshots</th>\n",
              "      <th>RoundFlankKills</th>\n",
              "      <th>RoundStartingEquipmentValue</th>\n",
              "      <th>TeamStartingEquipmentValue</th>\n",
              "      <th>MatchKills</th>\n",
              "      <th>MatchFlankKills</th>\n",
              "      <th>MatchAssists</th>\n",
              "      <th>MatchHeadshots</th>\n",
              "      <th>RTotalGrenadesThrown</th>\n",
              "    </tr>\n",
              "  </thead>\n",
              "  <tbody>\n",
              "  </tbody>\n",
              "</table>\n",
              "</div>\n",
              "      <button class=\"colab-df-convert\" onclick=\"convertToInteractive('df-a67be137-760e-4037-93b7-139c912df033')\"\n",
              "              title=\"Convert this dataframe to an interactive table.\"\n",
              "              style=\"display:none;\">\n",
              "        \n",
              "  <svg xmlns=\"http://www.w3.org/2000/svg\" height=\"24px\"viewBox=\"0 0 24 24\"\n",
              "       width=\"24px\">\n",
              "    <path d=\"M0 0h24v24H0V0z\" fill=\"none\"/>\n",
              "    <path d=\"M18.56 5.44l.94 2.06.94-2.06 2.06-.94-2.06-.94-.94-2.06-.94 2.06-2.06.94zm-11 1L8.5 8.5l.94-2.06 2.06-.94-2.06-.94L8.5 2.5l-.94 2.06-2.06.94zm10 10l.94 2.06.94-2.06 2.06-.94-2.06-.94-.94-2.06-.94 2.06-2.06.94z\"/><path d=\"M17.41 7.96l-1.37-1.37c-.4-.4-.92-.59-1.43-.59-.52 0-1.04.2-1.43.59L10.3 9.45l-7.72 7.72c-.78.78-.78 2.05 0 2.83L4 21.41c.39.39.9.59 1.41.59.51 0 1.02-.2 1.41-.59l7.78-7.78 2.81-2.81c.8-.78.8-2.07 0-2.86zM5.41 20L4 18.59l7.72-7.72 1.47 1.35L5.41 20z\"/>\n",
              "  </svg>\n",
              "      </button>\n",
              "      \n",
              "  <style>\n",
              "    .colab-df-container {\n",
              "      display:flex;\n",
              "      flex-wrap:wrap;\n",
              "      gap: 12px;\n",
              "    }\n",
              "\n",
              "    .colab-df-convert {\n",
              "      background-color: #E8F0FE;\n",
              "      border: none;\n",
              "      border-radius: 50%;\n",
              "      cursor: pointer;\n",
              "      display: none;\n",
              "      fill: #1967D2;\n",
              "      height: 32px;\n",
              "      padding: 0 0 0 0;\n",
              "      width: 32px;\n",
              "    }\n",
              "\n",
              "    .colab-df-convert:hover {\n",
              "      background-color: #E2EBFA;\n",
              "      box-shadow: 0px 1px 2px rgba(60, 64, 67, 0.3), 0px 1px 3px 1px rgba(60, 64, 67, 0.15);\n",
              "      fill: #174EA6;\n",
              "    }\n",
              "\n",
              "    [theme=dark] .colab-df-convert {\n",
              "      background-color: #3B4455;\n",
              "      fill: #D2E3FC;\n",
              "    }\n",
              "\n",
              "    [theme=dark] .colab-df-convert:hover {\n",
              "      background-color: #434B5C;\n",
              "      box-shadow: 0px 1px 3px 1px rgba(0, 0, 0, 0.15);\n",
              "      filter: drop-shadow(0px 1px 2px rgba(0, 0, 0, 0.3));\n",
              "      fill: #FFFFFF;\n",
              "    }\n",
              "  </style>\n",
              "\n",
              "      <script>\n",
              "        const buttonEl =\n",
              "          document.querySelector('#df-a67be137-760e-4037-93b7-139c912df033 button.colab-df-convert');\n",
              "        buttonEl.style.display =\n",
              "          google.colab.kernel.accessAllowed ? 'block' : 'none';\n",
              "\n",
              "        async function convertToInteractive(key) {\n",
              "          const element = document.querySelector('#df-a67be137-760e-4037-93b7-139c912df033');\n",
              "          const dataTable =\n",
              "            await google.colab.kernel.invokeFunction('convertToInteractive',\n",
              "                                                     [key], {});\n",
              "          if (!dataTable) return;\n",
              "\n",
              "          const docLinkHtml = 'Like what you see? Visit the ' +\n",
              "            '<a target=\"_blank\" href=https://colab.research.google.com/notebooks/data_table.ipynb>data table notebook</a>'\n",
              "            + ' to learn more about interactive tables.';\n",
              "          element.innerHTML = '';\n",
              "          dataTable['output_type'] = 'display_data';\n",
              "          await google.colab.output.renderOutput(dataTable, element);\n",
              "          const docLink = document.createElement('div');\n",
              "          docLink.innerHTML = docLinkHtml;\n",
              "          element.appendChild(docLink);\n",
              "        }\n",
              "      </script>\n",
              "    </div>\n",
              "  </div>\n",
              "  "
            ]
          },
          "metadata": {},
          "execution_count": 49
        }
      ],
      "source": [
        "new_df[new_df['FirstKillTime'].str.contains(pat = '/\\b\\w+\\b/i', regex = True)]                  "
      ]
    },
    {
      "cell_type": "markdown",
      "source": [
        "--------------------------------------------------------------"
      ],
      "metadata": {
        "id": "fYH7VEOCMN7Q"
      }
    },
    {
      "cell_type": "markdown",
      "source": [
        "* Acá generamos el binary encode para el atributo Roundwinner"
      ],
      "metadata": {
        "id": "TDSpO-y_PN3K"
      }
    },
    {
      "cell_type": "code",
      "execution_count": 50,
      "metadata": {
        "id": "Nkqqc7RaPYRd"
      },
      "outputs": [],
      "source": [
        "new_df = pd.get_dummies(new_df, columns=['RoundWinner'])"
      ]
    },
    {
      "cell_type": "markdown",
      "source": [
        "--------------------------------------------------------------"
      ],
      "metadata": {
        "id": "Ue-rmubYMOhp"
      }
    },
    {
      "cell_type": "markdown",
      "source": [
        "* Revisamos si se realizaron los cambios en los atributos"
      ],
      "metadata": {
        "id": "QaDfHsK9PWm1"
      }
    },
    {
      "cell_type": "code",
      "execution_count": 51,
      "metadata": {
        "id": "pd-_LA45LrUf",
        "colab": {
          "base_uri": "https://localhost:8080/",
          "height": 270
        },
        "outputId": "377028b0-16e1-4c27-cb42-e61b00d976aa"
      },
      "outputs": [
        {
          "output_type": "execute_result",
          "data": {
            "text/plain": [
              "          Map       Team  InternalTeamId  MatchId  RoundId  MatchWinner  \\\n",
              "0  de_inferno  Terrorist               1        4        1            1   \n",
              "1  de_inferno  Terrorist               1        4        1            1   \n",
              "2  de_inferno  Terrorist               1        4        1            1   \n",
              "3  de_inferno  Terrorist               1        4        1            1   \n",
              "4  de_inferno  Terrorist               1        4        1            1   \n",
              "\n",
              "   Survived  AbnormalMatch               TimeAlive       TravelledDistance  \\\n",
              "0         0              0  51.120.248.995.704.500  10.083.140.737.457.000   \n",
              "1         0              0   4.348.662.552.266.170  60.960.883.184.688.400   \n",
              "2         0              0   3.735.469.847.054.540   5.642.252.383.582.750   \n",
              "3         0              0   4.767.886.136.441.470   8.963.473.313.229.970   \n",
              "4         1              0   5.312.251.089.027.310  10.865.649.734.393.100   \n",
              "\n",
              "   RLethalGrenadesThrown  RNonLethalGrenadesThrown  PrimaryAssaultRifle  \\\n",
              "0                      0                         4                  0.0   \n",
              "1                      0                         0                  0.0   \n",
              "2                      0                         0                  0.0   \n",
              "3                      0                         0                  0.0   \n",
              "4                      1                         1                  0.0   \n",
              "\n",
              "   PrimarySniperRifle  PrimaryHeavy  PrimarySMG  PrimaryPistol FirstKillTime  \\\n",
              "0                 0.0           0.0         0.0              1           0.0   \n",
              "1                 0.0           0.0         0.0              1           0.0   \n",
              "2                 0.0           0.0         0.0              1           0.0   \n",
              "3                 0.0           0.0         0.0              1           0.0   \n",
              "4                 0.0           0.0         0.0              1           0.0   \n",
              "\n",
              "   RoundKills  RoundAssists  RoundHeadshots  RoundFlankKills  \\\n",
              "0           0             0               0                0   \n",
              "1           0             0               0                0   \n",
              "2           0             0               0                0   \n",
              "3           0             0               0                0   \n",
              "4           0             0               0                0   \n",
              "\n",
              "   RoundStartingEquipmentValue  TeamStartingEquipmentValue  MatchKills  \\\n",
              "0                          750                        4400           0   \n",
              "1                          800                        4400           0   \n",
              "2                         1000                        4400           0   \n",
              "3                          850                        4400           0   \n",
              "4                         1000                        4400           0   \n",
              "\n",
              "   MatchFlankKills  MatchAssists  MatchHeadshots  RTotalGrenadesThrown  \\\n",
              "0                0             0               0                     4   \n",
              "1                0             0               0                     0   \n",
              "2                0             0               0                     0   \n",
              "3                0             0               0                     0   \n",
              "4                0             0               0                     2   \n",
              "\n",
              "   RoundWinner_0  RoundWinner_1  \n",
              "0              1              0  \n",
              "1              1              0  \n",
              "2              1              0  \n",
              "3              1              0  \n",
              "4              1              0  "
            ],
            "text/html": [
              "\n",
              "  <div id=\"df-eb8b7ebc-7c81-4b7f-837f-6558f223eac1\">\n",
              "    <div class=\"colab-df-container\">\n",
              "      <div>\n",
              "<style scoped>\n",
              "    .dataframe tbody tr th:only-of-type {\n",
              "        vertical-align: middle;\n",
              "    }\n",
              "\n",
              "    .dataframe tbody tr th {\n",
              "        vertical-align: top;\n",
              "    }\n",
              "\n",
              "    .dataframe thead th {\n",
              "        text-align: right;\n",
              "    }\n",
              "</style>\n",
              "<table border=\"1\" class=\"dataframe\">\n",
              "  <thead>\n",
              "    <tr style=\"text-align: right;\">\n",
              "      <th></th>\n",
              "      <th>Map</th>\n",
              "      <th>Team</th>\n",
              "      <th>InternalTeamId</th>\n",
              "      <th>MatchId</th>\n",
              "      <th>RoundId</th>\n",
              "      <th>MatchWinner</th>\n",
              "      <th>Survived</th>\n",
              "      <th>AbnormalMatch</th>\n",
              "      <th>TimeAlive</th>\n",
              "      <th>TravelledDistance</th>\n",
              "      <th>RLethalGrenadesThrown</th>\n",
              "      <th>RNonLethalGrenadesThrown</th>\n",
              "      <th>PrimaryAssaultRifle</th>\n",
              "      <th>PrimarySniperRifle</th>\n",
              "      <th>PrimaryHeavy</th>\n",
              "      <th>PrimarySMG</th>\n",
              "      <th>PrimaryPistol</th>\n",
              "      <th>FirstKillTime</th>\n",
              "      <th>RoundKills</th>\n",
              "      <th>RoundAssists</th>\n",
              "      <th>RoundHeadshots</th>\n",
              "      <th>RoundFlankKills</th>\n",
              "      <th>RoundStartingEquipmentValue</th>\n",
              "      <th>TeamStartingEquipmentValue</th>\n",
              "      <th>MatchKills</th>\n",
              "      <th>MatchFlankKills</th>\n",
              "      <th>MatchAssists</th>\n",
              "      <th>MatchHeadshots</th>\n",
              "      <th>RTotalGrenadesThrown</th>\n",
              "      <th>RoundWinner_0</th>\n",
              "      <th>RoundWinner_1</th>\n",
              "    </tr>\n",
              "  </thead>\n",
              "  <tbody>\n",
              "    <tr>\n",
              "      <th>0</th>\n",
              "      <td>de_inferno</td>\n",
              "      <td>Terrorist</td>\n",
              "      <td>1</td>\n",
              "      <td>4</td>\n",
              "      <td>1</td>\n",
              "      <td>1</td>\n",
              "      <td>0</td>\n",
              "      <td>0</td>\n",
              "      <td>51.120.248.995.704.500</td>\n",
              "      <td>10.083.140.737.457.000</td>\n",
              "      <td>0</td>\n",
              "      <td>4</td>\n",
              "      <td>0.0</td>\n",
              "      <td>0.0</td>\n",
              "      <td>0.0</td>\n",
              "      <td>0.0</td>\n",
              "      <td>1</td>\n",
              "      <td>0.0</td>\n",
              "      <td>0</td>\n",
              "      <td>0</td>\n",
              "      <td>0</td>\n",
              "      <td>0</td>\n",
              "      <td>750</td>\n",
              "      <td>4400</td>\n",
              "      <td>0</td>\n",
              "      <td>0</td>\n",
              "      <td>0</td>\n",
              "      <td>0</td>\n",
              "      <td>4</td>\n",
              "      <td>1</td>\n",
              "      <td>0</td>\n",
              "    </tr>\n",
              "    <tr>\n",
              "      <th>1</th>\n",
              "      <td>de_inferno</td>\n",
              "      <td>Terrorist</td>\n",
              "      <td>1</td>\n",
              "      <td>4</td>\n",
              "      <td>1</td>\n",
              "      <td>1</td>\n",
              "      <td>0</td>\n",
              "      <td>0</td>\n",
              "      <td>4.348.662.552.266.170</td>\n",
              "      <td>60.960.883.184.688.400</td>\n",
              "      <td>0</td>\n",
              "      <td>0</td>\n",
              "      <td>0.0</td>\n",
              "      <td>0.0</td>\n",
              "      <td>0.0</td>\n",
              "      <td>0.0</td>\n",
              "      <td>1</td>\n",
              "      <td>0.0</td>\n",
              "      <td>0</td>\n",
              "      <td>0</td>\n",
              "      <td>0</td>\n",
              "      <td>0</td>\n",
              "      <td>800</td>\n",
              "      <td>4400</td>\n",
              "      <td>0</td>\n",
              "      <td>0</td>\n",
              "      <td>0</td>\n",
              "      <td>0</td>\n",
              "      <td>0</td>\n",
              "      <td>1</td>\n",
              "      <td>0</td>\n",
              "    </tr>\n",
              "    <tr>\n",
              "      <th>2</th>\n",
              "      <td>de_inferno</td>\n",
              "      <td>Terrorist</td>\n",
              "      <td>1</td>\n",
              "      <td>4</td>\n",
              "      <td>1</td>\n",
              "      <td>1</td>\n",
              "      <td>0</td>\n",
              "      <td>0</td>\n",
              "      <td>3.735.469.847.054.540</td>\n",
              "      <td>5.642.252.383.582.750</td>\n",
              "      <td>0</td>\n",
              "      <td>0</td>\n",
              "      <td>0.0</td>\n",
              "      <td>0.0</td>\n",
              "      <td>0.0</td>\n",
              "      <td>0.0</td>\n",
              "      <td>1</td>\n",
              "      <td>0.0</td>\n",
              "      <td>0</td>\n",
              "      <td>0</td>\n",
              "      <td>0</td>\n",
              "      <td>0</td>\n",
              "      <td>1000</td>\n",
              "      <td>4400</td>\n",
              "      <td>0</td>\n",
              "      <td>0</td>\n",
              "      <td>0</td>\n",
              "      <td>0</td>\n",
              "      <td>0</td>\n",
              "      <td>1</td>\n",
              "      <td>0</td>\n",
              "    </tr>\n",
              "    <tr>\n",
              "      <th>3</th>\n",
              "      <td>de_inferno</td>\n",
              "      <td>Terrorist</td>\n",
              "      <td>1</td>\n",
              "      <td>4</td>\n",
              "      <td>1</td>\n",
              "      <td>1</td>\n",
              "      <td>0</td>\n",
              "      <td>0</td>\n",
              "      <td>4.767.886.136.441.470</td>\n",
              "      <td>8.963.473.313.229.970</td>\n",
              "      <td>0</td>\n",
              "      <td>0</td>\n",
              "      <td>0.0</td>\n",
              "      <td>0.0</td>\n",
              "      <td>0.0</td>\n",
              "      <td>0.0</td>\n",
              "      <td>1</td>\n",
              "      <td>0.0</td>\n",
              "      <td>0</td>\n",
              "      <td>0</td>\n",
              "      <td>0</td>\n",
              "      <td>0</td>\n",
              "      <td>850</td>\n",
              "      <td>4400</td>\n",
              "      <td>0</td>\n",
              "      <td>0</td>\n",
              "      <td>0</td>\n",
              "      <td>0</td>\n",
              "      <td>0</td>\n",
              "      <td>1</td>\n",
              "      <td>0</td>\n",
              "    </tr>\n",
              "    <tr>\n",
              "      <th>4</th>\n",
              "      <td>de_inferno</td>\n",
              "      <td>Terrorist</td>\n",
              "      <td>1</td>\n",
              "      <td>4</td>\n",
              "      <td>1</td>\n",
              "      <td>1</td>\n",
              "      <td>1</td>\n",
              "      <td>0</td>\n",
              "      <td>5.312.251.089.027.310</td>\n",
              "      <td>10.865.649.734.393.100</td>\n",
              "      <td>1</td>\n",
              "      <td>1</td>\n",
              "      <td>0.0</td>\n",
              "      <td>0.0</td>\n",
              "      <td>0.0</td>\n",
              "      <td>0.0</td>\n",
              "      <td>1</td>\n",
              "      <td>0.0</td>\n",
              "      <td>0</td>\n",
              "      <td>0</td>\n",
              "      <td>0</td>\n",
              "      <td>0</td>\n",
              "      <td>1000</td>\n",
              "      <td>4400</td>\n",
              "      <td>0</td>\n",
              "      <td>0</td>\n",
              "      <td>0</td>\n",
              "      <td>0</td>\n",
              "      <td>2</td>\n",
              "      <td>1</td>\n",
              "      <td>0</td>\n",
              "    </tr>\n",
              "  </tbody>\n",
              "</table>\n",
              "</div>\n",
              "      <button class=\"colab-df-convert\" onclick=\"convertToInteractive('df-eb8b7ebc-7c81-4b7f-837f-6558f223eac1')\"\n",
              "              title=\"Convert this dataframe to an interactive table.\"\n",
              "              style=\"display:none;\">\n",
              "        \n",
              "  <svg xmlns=\"http://www.w3.org/2000/svg\" height=\"24px\"viewBox=\"0 0 24 24\"\n",
              "       width=\"24px\">\n",
              "    <path d=\"M0 0h24v24H0V0z\" fill=\"none\"/>\n",
              "    <path d=\"M18.56 5.44l.94 2.06.94-2.06 2.06-.94-2.06-.94-.94-2.06-.94 2.06-2.06.94zm-11 1L8.5 8.5l.94-2.06 2.06-.94-2.06-.94L8.5 2.5l-.94 2.06-2.06.94zm10 10l.94 2.06.94-2.06 2.06-.94-2.06-.94-.94-2.06-.94 2.06-2.06.94z\"/><path d=\"M17.41 7.96l-1.37-1.37c-.4-.4-.92-.59-1.43-.59-.52 0-1.04.2-1.43.59L10.3 9.45l-7.72 7.72c-.78.78-.78 2.05 0 2.83L4 21.41c.39.39.9.59 1.41.59.51 0 1.02-.2 1.41-.59l7.78-7.78 2.81-2.81c.8-.78.8-2.07 0-2.86zM5.41 20L4 18.59l7.72-7.72 1.47 1.35L5.41 20z\"/>\n",
              "  </svg>\n",
              "      </button>\n",
              "      \n",
              "  <style>\n",
              "    .colab-df-container {\n",
              "      display:flex;\n",
              "      flex-wrap:wrap;\n",
              "      gap: 12px;\n",
              "    }\n",
              "\n",
              "    .colab-df-convert {\n",
              "      background-color: #E8F0FE;\n",
              "      border: none;\n",
              "      border-radius: 50%;\n",
              "      cursor: pointer;\n",
              "      display: none;\n",
              "      fill: #1967D2;\n",
              "      height: 32px;\n",
              "      padding: 0 0 0 0;\n",
              "      width: 32px;\n",
              "    }\n",
              "\n",
              "    .colab-df-convert:hover {\n",
              "      background-color: #E2EBFA;\n",
              "      box-shadow: 0px 1px 2px rgba(60, 64, 67, 0.3), 0px 1px 3px 1px rgba(60, 64, 67, 0.15);\n",
              "      fill: #174EA6;\n",
              "    }\n",
              "\n",
              "    [theme=dark] .colab-df-convert {\n",
              "      background-color: #3B4455;\n",
              "      fill: #D2E3FC;\n",
              "    }\n",
              "\n",
              "    [theme=dark] .colab-df-convert:hover {\n",
              "      background-color: #434B5C;\n",
              "      box-shadow: 0px 1px 3px 1px rgba(0, 0, 0, 0.15);\n",
              "      filter: drop-shadow(0px 1px 2px rgba(0, 0, 0, 0.3));\n",
              "      fill: #FFFFFF;\n",
              "    }\n",
              "  </style>\n",
              "\n",
              "      <script>\n",
              "        const buttonEl =\n",
              "          document.querySelector('#df-eb8b7ebc-7c81-4b7f-837f-6558f223eac1 button.colab-df-convert');\n",
              "        buttonEl.style.display =\n",
              "          google.colab.kernel.accessAllowed ? 'block' : 'none';\n",
              "\n",
              "        async function convertToInteractive(key) {\n",
              "          const element = document.querySelector('#df-eb8b7ebc-7c81-4b7f-837f-6558f223eac1');\n",
              "          const dataTable =\n",
              "            await google.colab.kernel.invokeFunction('convertToInteractive',\n",
              "                                                     [key], {});\n",
              "          if (!dataTable) return;\n",
              "\n",
              "          const docLinkHtml = 'Like what you see? Visit the ' +\n",
              "            '<a target=\"_blank\" href=https://colab.research.google.com/notebooks/data_table.ipynb>data table notebook</a>'\n",
              "            + ' to learn more about interactive tables.';\n",
              "          element.innerHTML = '';\n",
              "          dataTable['output_type'] = 'display_data';\n",
              "          await google.colab.output.renderOutput(dataTable, element);\n",
              "          const docLink = document.createElement('div');\n",
              "          docLink.innerHTML = docLinkHtml;\n",
              "          element.appendChild(docLink);\n",
              "        }\n",
              "      </script>\n",
              "    </div>\n",
              "  </div>\n",
              "  "
            ]
          },
          "metadata": {},
          "execution_count": 51
        }
      ],
      "source": [
        "new_df.head()"
      ]
    },
    {
      "cell_type": "markdown",
      "source": [
        "--------------------------------------------------------------"
      ],
      "metadata": {
        "id": "SsfNJKWzMPRR"
      }
    },
    {
      "cell_type": "markdown",
      "source": [
        "Eliminamos los puntos de \"TimeAlive\" y \"TravelledDistance\" debido a que el archivo en el que vienen los considera con puntos, pero el dato real es sin puntos. Adicionalmente quitamos 4 digitos para poder trabajar con ellos."
      ],
      "metadata": {
        "id": "o6Di6tre-ELi"
      }
    },
    {
      "cell_type": "code",
      "source": [
        "new_df['TimeAlive'] = new_df['TimeAlive'].str.replace(\".\",\"\").str[:-4]\n",
        "new_df['TravelledDistance'] = new_df['TravelledDistance'].str.replace(\".\",\"\").str[:-4]\n",
        "new_df['FirstKillTime'] = new_df['FirstKillTime'].str.replace(\".\",\"\")"
      ],
      "metadata": {
        "id": "sMODvUrn8UKb"
      },
      "execution_count": 52,
      "outputs": []
    },
    {
      "cell_type": "markdown",
      "source": [
        "Convertimos los textos a numeros y los vacios a Nan"
      ],
      "metadata": {
        "id": "vzknCsqrSfgC"
      }
    },
    {
      "cell_type": "code",
      "source": [
        "new_df['TimeAlive'] = pd.to_numeric(new_df['TimeAlive'], errors='coerce')\n",
        "new_df['TravelledDistance'] = pd.to_numeric(new_df['TravelledDistance'], errors='coerce')\n",
        "new_df['FirstKillTime'] = pd.to_numeric(new_df['FirstKillTime'], errors='coerce')"
      ],
      "metadata": {
        "id": "FeIcqOAND_8t"
      },
      "execution_count": 53,
      "outputs": []
    },
    {
      "cell_type": "markdown",
      "source": [
        "Convertimos los Nan en 0"
      ],
      "metadata": {
        "id": "qZopj_CuSknS"
      }
    },
    {
      "cell_type": "code",
      "source": [
        "new_df[\"TimeAlive\"] = new_df[\"TimeAlive\"].fillna(0)\n",
        "new_df[\"TravelledDistance\"] = new_df[\"TravelledDistance\"].fillna(0)\n",
        "new_df[\"FirstKillTime\"] = new_df[\"FirstKillTime\"].fillna(0)\n"
      ],
      "metadata": {
        "id": "n6NWqBhJSGhx"
      },
      "execution_count": 54,
      "outputs": []
    },
    {
      "cell_type": "code",
      "source": [
        "new_df[new_df.isna().any(axis=1)]"
      ],
      "metadata": {
        "colab": {
          "base_uri": "https://localhost:8080/",
          "height": 113
        },
        "id": "92SNTw7SNlO3",
        "outputId": "43989f75-4556-4128-99d0-f882cb9e291c"
      },
      "execution_count": 55,
      "outputs": [
        {
          "output_type": "execute_result",
          "data": {
            "text/plain": [
              "Empty DataFrame\n",
              "Columns: [Map, Team, InternalTeamId, MatchId, RoundId, MatchWinner, Survived, AbnormalMatch, TimeAlive, TravelledDistance, RLethalGrenadesThrown, RNonLethalGrenadesThrown, PrimaryAssaultRifle, PrimarySniperRifle, PrimaryHeavy, PrimarySMG, PrimaryPistol, FirstKillTime, RoundKills, RoundAssists, RoundHeadshots, RoundFlankKills, RoundStartingEquipmentValue, TeamStartingEquipmentValue, MatchKills, MatchFlankKills, MatchAssists, MatchHeadshots, RTotalGrenadesThrown, RoundWinner_0, RoundWinner_1]\n",
              "Index: []"
            ],
            "text/html": [
              "\n",
              "  <div id=\"df-d3163cc3-7c21-46d4-8f9f-6ba6e8d01a71\">\n",
              "    <div class=\"colab-df-container\">\n",
              "      <div>\n",
              "<style scoped>\n",
              "    .dataframe tbody tr th:only-of-type {\n",
              "        vertical-align: middle;\n",
              "    }\n",
              "\n",
              "    .dataframe tbody tr th {\n",
              "        vertical-align: top;\n",
              "    }\n",
              "\n",
              "    .dataframe thead th {\n",
              "        text-align: right;\n",
              "    }\n",
              "</style>\n",
              "<table border=\"1\" class=\"dataframe\">\n",
              "  <thead>\n",
              "    <tr style=\"text-align: right;\">\n",
              "      <th></th>\n",
              "      <th>Map</th>\n",
              "      <th>Team</th>\n",
              "      <th>InternalTeamId</th>\n",
              "      <th>MatchId</th>\n",
              "      <th>RoundId</th>\n",
              "      <th>MatchWinner</th>\n",
              "      <th>Survived</th>\n",
              "      <th>AbnormalMatch</th>\n",
              "      <th>TimeAlive</th>\n",
              "      <th>TravelledDistance</th>\n",
              "      <th>RLethalGrenadesThrown</th>\n",
              "      <th>RNonLethalGrenadesThrown</th>\n",
              "      <th>PrimaryAssaultRifle</th>\n",
              "      <th>PrimarySniperRifle</th>\n",
              "      <th>PrimaryHeavy</th>\n",
              "      <th>PrimarySMG</th>\n",
              "      <th>PrimaryPistol</th>\n",
              "      <th>FirstKillTime</th>\n",
              "      <th>RoundKills</th>\n",
              "      <th>RoundAssists</th>\n",
              "      <th>RoundHeadshots</th>\n",
              "      <th>RoundFlankKills</th>\n",
              "      <th>RoundStartingEquipmentValue</th>\n",
              "      <th>TeamStartingEquipmentValue</th>\n",
              "      <th>MatchKills</th>\n",
              "      <th>MatchFlankKills</th>\n",
              "      <th>MatchAssists</th>\n",
              "      <th>MatchHeadshots</th>\n",
              "      <th>RTotalGrenadesThrown</th>\n",
              "      <th>RoundWinner_0</th>\n",
              "      <th>RoundWinner_1</th>\n",
              "    </tr>\n",
              "  </thead>\n",
              "  <tbody>\n",
              "  </tbody>\n",
              "</table>\n",
              "</div>\n",
              "      <button class=\"colab-df-convert\" onclick=\"convertToInteractive('df-d3163cc3-7c21-46d4-8f9f-6ba6e8d01a71')\"\n",
              "              title=\"Convert this dataframe to an interactive table.\"\n",
              "              style=\"display:none;\">\n",
              "        \n",
              "  <svg xmlns=\"http://www.w3.org/2000/svg\" height=\"24px\"viewBox=\"0 0 24 24\"\n",
              "       width=\"24px\">\n",
              "    <path d=\"M0 0h24v24H0V0z\" fill=\"none\"/>\n",
              "    <path d=\"M18.56 5.44l.94 2.06.94-2.06 2.06-.94-2.06-.94-.94-2.06-.94 2.06-2.06.94zm-11 1L8.5 8.5l.94-2.06 2.06-.94-2.06-.94L8.5 2.5l-.94 2.06-2.06.94zm10 10l.94 2.06.94-2.06 2.06-.94-2.06-.94-.94-2.06-.94 2.06-2.06.94z\"/><path d=\"M17.41 7.96l-1.37-1.37c-.4-.4-.92-.59-1.43-.59-.52 0-1.04.2-1.43.59L10.3 9.45l-7.72 7.72c-.78.78-.78 2.05 0 2.83L4 21.41c.39.39.9.59 1.41.59.51 0 1.02-.2 1.41-.59l7.78-7.78 2.81-2.81c.8-.78.8-2.07 0-2.86zM5.41 20L4 18.59l7.72-7.72 1.47 1.35L5.41 20z\"/>\n",
              "  </svg>\n",
              "      </button>\n",
              "      \n",
              "  <style>\n",
              "    .colab-df-container {\n",
              "      display:flex;\n",
              "      flex-wrap:wrap;\n",
              "      gap: 12px;\n",
              "    }\n",
              "\n",
              "    .colab-df-convert {\n",
              "      background-color: #E8F0FE;\n",
              "      border: none;\n",
              "      border-radius: 50%;\n",
              "      cursor: pointer;\n",
              "      display: none;\n",
              "      fill: #1967D2;\n",
              "      height: 32px;\n",
              "      padding: 0 0 0 0;\n",
              "      width: 32px;\n",
              "    }\n",
              "\n",
              "    .colab-df-convert:hover {\n",
              "      background-color: #E2EBFA;\n",
              "      box-shadow: 0px 1px 2px rgba(60, 64, 67, 0.3), 0px 1px 3px 1px rgba(60, 64, 67, 0.15);\n",
              "      fill: #174EA6;\n",
              "    }\n",
              "\n",
              "    [theme=dark] .colab-df-convert {\n",
              "      background-color: #3B4455;\n",
              "      fill: #D2E3FC;\n",
              "    }\n",
              "\n",
              "    [theme=dark] .colab-df-convert:hover {\n",
              "      background-color: #434B5C;\n",
              "      box-shadow: 0px 1px 3px 1px rgba(0, 0, 0, 0.15);\n",
              "      filter: drop-shadow(0px 1px 2px rgba(0, 0, 0, 0.3));\n",
              "      fill: #FFFFFF;\n",
              "    }\n",
              "  </style>\n",
              "\n",
              "      <script>\n",
              "        const buttonEl =\n",
              "          document.querySelector('#df-d3163cc3-7c21-46d4-8f9f-6ba6e8d01a71 button.colab-df-convert');\n",
              "        buttonEl.style.display =\n",
              "          google.colab.kernel.accessAllowed ? 'block' : 'none';\n",
              "\n",
              "        async function convertToInteractive(key) {\n",
              "          const element = document.querySelector('#df-d3163cc3-7c21-46d4-8f9f-6ba6e8d01a71');\n",
              "          const dataTable =\n",
              "            await google.colab.kernel.invokeFunction('convertToInteractive',\n",
              "                                                     [key], {});\n",
              "          if (!dataTable) return;\n",
              "\n",
              "          const docLinkHtml = 'Like what you see? Visit the ' +\n",
              "            '<a target=\"_blank\" href=https://colab.research.google.com/notebooks/data_table.ipynb>data table notebook</a>'\n",
              "            + ' to learn more about interactive tables.';\n",
              "          element.innerHTML = '';\n",
              "          dataTable['output_type'] = 'display_data';\n",
              "          await google.colab.output.renderOutput(dataTable, element);\n",
              "          const docLink = document.createElement('div');\n",
              "          docLink.innerHTML = docLinkHtml;\n",
              "          element.appendChild(docLink);\n",
              "        }\n",
              "      </script>\n",
              "    </div>\n",
              "  </div>\n",
              "  "
            ]
          },
          "metadata": {},
          "execution_count": 55
        }
      ]
    },
    {
      "cell_type": "markdown",
      "source": [
        "* Con binary encode cambiamos los valores del atributo Survived"
      ],
      "metadata": {
        "id": "52-FxJrNPiK5"
      }
    },
    {
      "cell_type": "code",
      "execution_count": 56,
      "metadata": {
        "id": "DnMYqq4QWIs6"
      },
      "outputs": [],
      "source": [
        "new_df = pd.get_dummies(new_df, columns=['Survived'])"
      ]
    },
    {
      "cell_type": "markdown",
      "source": [
        "--------------------------------------------------------------"
      ],
      "metadata": {
        "id": "m3nL1XLoMQFh"
      }
    },
    {
      "cell_type": "markdown",
      "source": [
        ":* Se elimina InternalTeamId debido es lo mismo que team, solo que utilizando 1 y 2 por tanto es redundante la información que entrega."
      ],
      "metadata": {
        "id": "efsantXYPufl"
      }
    },
    {
      "cell_type": "code",
      "execution_count": 57,
      "metadata": {
        "id": "nN09-_YOWbx0"
      },
      "outputs": [],
      "source": [
        "new_df.drop(\"InternalTeamId\", axis=1, inplace=True)"
      ]
    },
    {
      "cell_type": "markdown",
      "source": [
        "--------------------------------------------------------------"
      ],
      "metadata": {
        "id": "lua58PpoMRgO"
      }
    },
    {
      "cell_type": "markdown",
      "source": [
        "* Con binary encode cambiamos los valores del atributo MatchWinner"
      ],
      "metadata": {
        "id": "c55m0ZWXPxrf"
      }
    },
    {
      "cell_type": "code",
      "execution_count": 58,
      "metadata": {
        "id": "5loXNqXKXElT"
      },
      "outputs": [],
      "source": [
        "#new_df = pd.get_dummies(new_df, columns=['MatchWinner'])"
      ]
    },
    {
      "cell_type": "markdown",
      "source": [
        "--------------------------------------------------------------"
      ],
      "metadata": {
        "id": "e0ypk79oMSmf"
      }
    },
    {
      "cell_type": "markdown",
      "source": [
        "* Con binary encode cambiamos los valores del atributo Team"
      ],
      "metadata": {
        "id": "9svWReVhP2sn"
      }
    },
    {
      "cell_type": "code",
      "execution_count": 59,
      "metadata": {
        "id": "Cf337idU0XlK"
      },
      "outputs": [],
      "source": [
        "new_df = pd.get_dummies(new_df, columns=['Team'])"
      ]
    },
    {
      "cell_type": "markdown",
      "source": [
        "--------------------------------------------------------------"
      ],
      "metadata": {
        "id": "-uv51MXvMTHh"
      }
    },
    {
      "cell_type": "markdown",
      "source": [
        "* Importamos el labelEncoder y OneHotEncoder para su uso posterior"
      ],
      "metadata": {
        "id": "gSDHGJcRP9Ks"
      }
    },
    {
      "cell_type": "code",
      "execution_count": 60,
      "metadata": {
        "id": "pFl144g01B2A"
      },
      "outputs": [],
      "source": [
        "from sklearn.preprocessing import LabelEncoder, OneHotEncoder\n",
        "le = LabelEncoder()\n",
        "ohe = OneHotEncoder()"
      ]
    },
    {
      "cell_type": "markdown",
      "source": [
        "--------------------------------------------------------------"
      ],
      "metadata": {
        "id": "6G1TBOLWMU4E"
      }
    },
    {
      "cell_type": "markdown",
      "source": [
        "* OHE para cambiar las variables categoricas a númericas"
      ],
      "metadata": {
        "id": "vD3gd-6qQjyH"
      }
    },
    {
      "cell_type": "code",
      "execution_count": 61,
      "metadata": {
        "id": "GEa_shEl0l0N"
      },
      "outputs": [],
      "source": [
        "one_hot = ohe.fit_transform(new_df[['Map']])\n",
        "nombre_mapas = [Map for Map in ohe.categories_[0]]\n",
        "new_map_onehot = pd.DataFrame(one_hot.toarray(), columns=nombre_mapas)"
      ]
    },
    {
      "cell_type": "markdown",
      "source": [
        "--------------------------------------------------------------"
      ],
      "metadata": {
        "id": "OKu6UiTuMVfR"
      }
    },
    {
      "cell_type": "markdown",
      "source": [
        "* Acá eliminamos el atributo Map"
      ],
      "metadata": {
        "id": "6zHnskICQ5yW"
      }
    },
    {
      "cell_type": "code",
      "execution_count": 62,
      "metadata": {
        "id": "_PyWZMee1PVl"
      },
      "outputs": [],
      "source": [
        "new_df.drop('Map', axis=1, inplace=True)"
      ]
    },
    {
      "cell_type": "markdown",
      "source": [
        "--------------------------------------------------------------"
      ],
      "metadata": {
        "id": "ioAQB3f2MV5S"
      }
    },
    {
      "cell_type": "markdown",
      "source": [
        "* Acá concadenamos el dataframe antiguo con el nuevo dataframe y los valores del atributo Map"
      ],
      "metadata": {
        "id": "UROBFUNBRCOG"
      }
    },
    {
      "cell_type": "code",
      "execution_count": 63,
      "metadata": {
        "id": "57-5PSYd06aS"
      },
      "outputs": [],
      "source": [
        "new_df = pd.concat([new_df,new_map_onehot],axis=1)"
      ]
    },
    {
      "cell_type": "markdown",
      "source": [
        "--------------------------------------------------------------"
      ],
      "metadata": {
        "id": "be3gs0hzMXGO"
      }
    },
    {
      "cell_type": "markdown",
      "source": [
        "* Acá creamos nuevas variables con el total de las granadas lanzadas en las partidas"
      ],
      "metadata": {
        "id": "6JOPY-E8RTvu"
      }
    },
    {
      "cell_type": "code",
      "execution_count": 64,
      "metadata": {
        "id": "QqVB9yszmoCD"
      },
      "outputs": [],
      "source": [
        "new_df['RTotalGrenadesThrown'] = new_df['RLethalGrenadesThrown'] + new_df['RNonLethalGrenadesThrown']"
      ]
    },
    {
      "cell_type": "markdown",
      "source": [
        "--------------------------------------------------------------"
      ],
      "metadata": {
        "id": "f1FadoN7MbKv"
      }
    },
    {
      "cell_type": "code",
      "source": [
        "new_df = new_df.dropna()"
      ],
      "metadata": {
        "id": "2tviP5ylUbZl"
      },
      "execution_count": 65,
      "outputs": []
    },
    {
      "cell_type": "markdown",
      "metadata": {
        "id": "dN3V3xrb0BQI"
      },
      "source": [
        "# Correlación en base al encoder realizado"
      ]
    },
    {
      "cell_type": "markdown",
      "source": [
        "* Se calcula la correlación en base al MatchWinner\n",
        "\n",
        "Con esto podemos decir que con respecto a nuestro target \"MathWinner_1\" podemos usar:\n",
        "\n",
        "1.   RoundWinner_1, ya que indica que mientras mas rondas gane el equipo mas probable es que gane la partida.\n",
        "\n",
        "2.   Team_Terrorist, podemos decir que el team_terrorist tiene mas probabilidad de ganar.\n",
        "\n",
        "3.   \n",
        "\n",
        "\n"
      ],
      "metadata": {
        "id": "fvVSRWPVRdzL"
      }
    },
    {
      "cell_type": "code",
      "execution_count": 66,
      "metadata": {
        "id": "7SpzMnMqWNxi",
        "colab": {
          "base_uri": "https://localhost:8080/"
        },
        "outputId": "ace8af8a-56c3-4ea8-8801-c8411527585e"
      },
      "outputs": [
        {
          "output_type": "execute_result",
          "data": {
            "text/plain": [
              "MatchWinner                    1.000000\n",
              "RoundWinner_1                  0.229516\n",
              "Survived_0                     0.143474\n",
              "PrimaryPistol                  0.138699\n",
              "Team_Terrorist                 0.050720\n",
              "de_mirage                      0.017610\n",
              "PrimaryHeavy                   0.011188\n",
              "TimeAlive                      0.008267\n",
              "TravelledDistance              0.007429\n",
              "de_dust2                       0.005903\n",
              "de_nuke                        0.003556\n",
              "MatchId                       -0.013378\n",
              "RoundId                       -0.019125\n",
              "FirstKillTime                 -0.019964\n",
              "de_inferno                    -0.023544\n",
              "PrimarySMG                    -0.029347\n",
              "PrimarySniperRifle            -0.029809\n",
              "RoundFlankKills               -0.045309\n",
              "Team_CounterTerrorist         -0.050720\n",
              "RoundAssists                  -0.060214\n",
              "RoundHeadshots                -0.067310\n",
              "RNonLethalGrenadesThrown      -0.087328\n",
              "PrimaryAssaultRifle           -0.102797\n",
              "RoundKills                    -0.107211\n",
              "MatchFlankKills               -0.114353\n",
              "RTotalGrenadesThrown          -0.128418\n",
              "Survived_1                    -0.143474\n",
              "MatchHeadshots                -0.150007\n",
              "RLethalGrenadesThrown         -0.152923\n",
              "MatchAssists                  -0.161580\n",
              "RoundStartingEquipmentValue   -0.175710\n",
              "MatchKills                    -0.186629\n",
              "TeamStartingEquipmentValue    -0.190373\n",
              "RoundWinner_0                 -0.229516\n",
              "AbnormalMatch                       NaN\n",
              "Name: MatchWinner, dtype: float64"
            ]
          },
          "metadata": {},
          "execution_count": 66
        }
      ],
      "source": [
        "corr_matrix = new_df.corr()\n",
        "corr_matrix[\"MatchWinner\"].sort_values(ascending=False)"
      ]
    },
    {
      "cell_type": "markdown",
      "source": [
        "--------------------------------------------------------------"
      ],
      "metadata": {
        "id": "9_61smleMeiY"
      }
    },
    {
      "cell_type": "markdown",
      "source": [
        "* Se grafica el RoundWinner_1"
      ],
      "metadata": {
        "id": "BA-nNq_nRkNm"
      }
    },
    {
      "cell_type": "code",
      "execution_count": 67,
      "metadata": {
        "id": "wKfN3n9-nITR",
        "colab": {
          "base_uri": "https://localhost:8080/",
          "height": 0
        },
        "outputId": "dc365582-3b2c-4e45-9eeb-3511e818cffa"
      },
      "outputs": [
        {
          "output_type": "execute_result",
          "data": {
            "text/plain": [
              "<matplotlib.axes._subplots.AxesSubplot at 0x7f223175c9d0>"
            ]
          },
          "metadata": {},
          "execution_count": 67
        },
        {
          "output_type": "display_data",
          "data": {
            "text/plain": [
              "<Figure size 432x288 with 1 Axes>"
            ],
            "image/png": "[encoded data removed]"
          },
          "metadata": {
            "needs_background": "light"
          }
        }
      ],
      "source": [
        "sb.distplot(new_df.RoundWinner_1)"
      ]
    },
    {
      "cell_type": "markdown",
      "source": [
        "--------------------------------------------------------------"
      ],
      "metadata": {
        "id": "3z4JOkKeMfB0"
      }
    },
    {
      "cell_type": "markdown",
      "source": [
        "* Se borra la columna AbnormalMatch que no es relevante para el estudio de los datos\n"
      ],
      "metadata": {
        "id": "WceX1U-hRoc8"
      }
    },
    {
      "cell_type": "code",
      "execution_count": 68,
      "metadata": {
        "id": "bGeKYdBv4KO1"
      },
      "outputs": [],
      "source": [
        "new_df.drop('AbnormalMatch', axis=1, inplace= True)"
      ]
    },
    {
      "cell_type": "code",
      "source": [
        "new_df.isna().sum()"
      ],
      "metadata": {
        "colab": {
          "base_uri": "https://localhost:8080/"
        },
        "id": "0jDf0z7JMIVv",
        "outputId": "6d95a9c5-f9ce-428e-b3c1-f0a3116b3ed7"
      },
      "execution_count": 69,
      "outputs": [
        {
          "output_type": "execute_result",
          "data": {
            "text/plain": [
              "MatchId                        0\n",
              "RoundId                        0\n",
              "MatchWinner                    0\n",
              "TimeAlive                      0\n",
              "TravelledDistance              0\n",
              "RLethalGrenadesThrown          0\n",
              "RNonLethalGrenadesThrown       0\n",
              "PrimaryAssaultRifle            0\n",
              "PrimarySniperRifle             0\n",
              "PrimaryHeavy                   0\n",
              "PrimarySMG                     0\n",
              "PrimaryPistol                  0\n",
              "FirstKillTime                  0\n",
              "RoundKills                     0\n",
              "RoundAssists                   0\n",
              "RoundHeadshots                 0\n",
              "RoundFlankKills                0\n",
              "RoundStartingEquipmentValue    0\n",
              "TeamStartingEquipmentValue     0\n",
              "MatchKills                     0\n",
              "MatchFlankKills                0\n",
              "MatchAssists                   0\n",
              "MatchHeadshots                 0\n",
              "RTotalGrenadesThrown           0\n",
              "RoundWinner_0                  0\n",
              "RoundWinner_1                  0\n",
              "Survived_0                     0\n",
              "Survived_1                     0\n",
              "Team_CounterTerrorist          0\n",
              "Team_Terrorist                 0\n",
              "de_dust2                       0\n",
              "de_inferno                     0\n",
              "de_mirage                      0\n",
              "de_nuke                        0\n",
              "dtype: int64"
            ]
          },
          "metadata": {},
          "execution_count": 69
        }
      ]
    },
    {
      "cell_type": "markdown",
      "source": [
        "--------------------------------------------------------------"
      ],
      "metadata": {
        "id": "JF7pac5EMf-w"
      }
    },
    {
      "cell_type": "markdown",
      "source": [
        "* Acá vemos las correlaciones que tienen los atributos con MatchWinner_1"
      ],
      "metadata": {
        "id": "Hlz4yXvQRv90"
      }
    },
    {
      "cell_type": "code",
      "execution_count": 70,
      "metadata": {
        "id": "NwLSLaPr2Opy",
        "colab": {
          "base_uri": "https://localhost:8080/"
        },
        "outputId": "e39f652a-070e-460e-dd2e-857f7403a2a6"
      },
      "outputs": [
        {
          "output_type": "execute_result",
          "data": {
            "text/plain": [
              "MatchWinner                    1.000000\n",
              "RoundWinner_1                  0.229516\n",
              "Survived_0                     0.143474\n",
              "PrimaryPistol                  0.138699\n",
              "Team_Terrorist                 0.050720\n",
              "de_mirage                      0.017610\n",
              "PrimaryHeavy                   0.011188\n",
              "TimeAlive                      0.008267\n",
              "TravelledDistance              0.007429\n",
              "de_dust2                       0.005903\n",
              "de_nuke                        0.003556\n",
              "MatchId                       -0.013378\n",
              "RoundId                       -0.019125\n",
              "FirstKillTime                 -0.019964\n",
              "de_inferno                    -0.023544\n",
              "PrimarySMG                    -0.029347\n",
              "PrimarySniperRifle            -0.029809\n",
              "RoundFlankKills               -0.045309\n",
              "Team_CounterTerrorist         -0.050720\n",
              "RoundAssists                  -0.060214\n",
              "RoundHeadshots                -0.067310\n",
              "RNonLethalGrenadesThrown      -0.087328\n",
              "PrimaryAssaultRifle           -0.102797\n",
              "RoundKills                    -0.107211\n",
              "MatchFlankKills               -0.114353\n",
              "RTotalGrenadesThrown          -0.128418\n",
              "Survived_1                    -0.143474\n",
              "MatchHeadshots                -0.150007\n",
              "RLethalGrenadesThrown         -0.152923\n",
              "MatchAssists                  -0.161580\n",
              "RoundStartingEquipmentValue   -0.175710\n",
              "MatchKills                    -0.186629\n",
              "TeamStartingEquipmentValue    -0.190373\n",
              "RoundWinner_0                 -0.229516\n",
              "dtype: float64"
            ]
          },
          "metadata": {},
          "execution_count": 70
        }
      ],
      "source": [
        "new_df.corrwith(new_df['MatchWinner']).sort_values(ascending=False)"
      ]
    },
    {
      "cell_type": "markdown",
      "source": [
        "--------------------------------------------------------------"
      ],
      "metadata": {
        "id": "KXQARhFRMggO"
      }
    },
    {
      "cell_type": "markdown",
      "source": [
        "* Se grafica el dataframe completo con los datos ya tratados y transformados\n"
      ],
      "metadata": {
        "id": "kvQEP5BORsbN"
      }
    },
    {
      "cell_type": "code",
      "execution_count": 71,
      "metadata": {
        "id": "qlCppn6P2vNP"
      },
      "outputs": [],
      "source": [
        "#sb.pairplot(new_df)"
      ]
    },
    {
      "cell_type": "markdown",
      "source": [
        "#Normalización"
      ],
      "metadata": {
        "id": "R35CaiYgZZ6e"
      }
    },
    {
      "cell_type": "code",
      "source": [
        "from sklearn.preprocessing import StandardScaler"
      ],
      "metadata": {
        "id": "6PAx3DdIIkLp"
      },
      "execution_count": 72,
      "outputs": []
    },
    {
      "cell_type": "markdown",
      "source": [
        "--------------------------------------------------------------"
      ],
      "metadata": {
        "id": "_pOj3sB0PAS5"
      }
    },
    {
      "cell_type": "markdown",
      "source": [
        "* Acá normalizaremos los datos de los atributos del dataset para continuar con la siguiente fase que seria Modelado.\n",
        "* Esto se realizará para escalar los datos en un rango específico, para que ninguna característica tenga un peso mayor en el análisis o modelado debido a que tiene un rango de valores más amplio."
      ],
      "metadata": {
        "id": "iNUbYqzLOpay"
      }
    },
    {
      "cell_type": "code",
      "source": [
        "numeric_columns = new_df[[\"RoundWinner_1\", \"Survived_0\", \"PrimaryPistol\", \n",
        "                      \"Team_Terrorist\", \"de_mirage\", \"PrimaryHeavy\", \"de_dust2\", \"de_nuke\", \n",
        "                      \"RoundId\", \"de_inferno\", \"PrimarySMG\", \"PrimarySniperRifle\", \"RoundFlankKills\", \n",
        "                      \"Team_CounterTerrorist\", \"RoundAssists\", \"RoundHeadshots\", \n",
        "                      \"RNonLethalGrenadesThrown\", \"PrimaryAssaultRifle\", \"RoundKills\", \"MatchFlankKills\", \n",
        "                      \"RTotalGrenadesThrown\", \"Survived_1\", \"MatchHeadshots\", \"RLethalGrenadesThrown\", \n",
        "                      \"MatchAssists\", \"RoundStartingEquipmentValue\", \"MatchKills\", \"TeamStartingEquipmentValue\", \n",
        "                      \"RoundWinner_0\",\"TimeAlive\", \"TravelledDistance\",\"FirstKillTime\"]]"
      ],
      "metadata": {
        "id": "1Js2tXvmMf7i"
      },
      "execution_count": 73,
      "outputs": []
    },
    {
      "cell_type": "markdown",
      "source": [
        "* Con el siguiente código escalaremos los datos "
      ],
      "metadata": {
        "id": "kSCZYebTS0Dz"
      }
    },
    {
      "cell_type": "code",
      "source": [
        "scaler = StandardScaler()\n",
        "scaled_numeric_columns = scaler.fit_transform(numeric_columns)"
      ],
      "metadata": {
        "id": "JHJJ1TQCOmtZ"
      },
      "execution_count": 74,
      "outputs": []
    },
    {
      "cell_type": "code",
      "source": [
        "new_df[[\"RoundWinner_1\", \"Survived_0\", \"PrimaryPistol\", \n",
        "\"Team_Terrorist\", \"de_mirage\", \"PrimaryHeavy\", \"de_dust2\", \"de_nuke\", \n",
        "\"RoundId\", \"de_inferno\", \"PrimarySMG\", \"PrimarySniperRifle\", \"RoundFlankKills\", \n",
        "\"Team_CounterTerrorist\", \"RoundAssists\", \"RoundHeadshots\", \n",
        "\"RNonLethalGrenadesThrown\", \"PrimaryAssaultRifle\", \"RoundKills\", \"MatchFlankKills\", \n",
        "\"RTotalGrenadesThrown\", \"Survived_1\", \"MatchHeadshots\", \"RLethalGrenadesThrown\", \n",
        "\"MatchAssists\", \"RoundStartingEquipmentValue\", \"MatchKills\", \"TeamStartingEquipmentValue\", \n",
        "\"RoundWinner_0\",\"TimeAlive\", \"TravelledDistance\",\"FirstKillTime\"]] = scaled_numeric_columns"
      ],
      "metadata": {
        "id": "RSmp2TE6PNjB"
      },
      "execution_count": 75,
      "outputs": []
    },
    {
      "cell_type": "markdown",
      "source": [
        "--------------------------------------------------------------"
      ],
      "metadata": {
        "id": "RHmKEKY3Sue2"
      }
    },
    {
      "cell_type": "markdown",
      "source": [
        "* Revisamos los datos que esten normalizados y escalados para su posterior uso"
      ],
      "metadata": {
        "id": "p0WRpGyhTqAM"
      }
    },
    {
      "cell_type": "code",
      "source": [
        "new_df.head()"
      ],
      "metadata": {
        "colab": {
          "base_uri": "https://localhost:8080/",
          "height": 270
        },
        "id": "EA1cG7JaPl29",
        "outputId": "268f4121-f2f8-45a4-cb4a-dbd3f702c907"
      },
      "execution_count": 76,
      "outputs": [
        {
          "output_type": "execute_result",
          "data": {
            "text/plain": [
              "   MatchId  RoundId  MatchWinner  TimeAlive  TravelledDistance  \\\n",
              "0      4.0 -1.58304          1.0   2.716596          -0.155202   \n",
              "1      4.0 -1.58304          1.0  -0.542498           3.799418   \n",
              "2      4.0 -1.58304          1.0  -0.585226          -0.500383   \n",
              "3      4.0 -1.58304          1.0  -0.513286          -0.242231   \n",
              "4      4.0 -1.58304          1.0  -0.475354          -0.094379   \n",
              "\n",
              "   RLethalGrenadesThrown  RNonLethalGrenadesThrown  PrimaryAssaultRifle  \\\n",
              "0              -0.833916                  2.314000            -1.455186   \n",
              "1              -0.833916                 -1.061763            -1.455186   \n",
              "2              -0.833916                 -1.061763            -1.455186   \n",
              "3              -0.833916                 -1.061763            -1.455186   \n",
              "4               0.838416                 -0.217823            -1.455186   \n",
              "\n",
              "   PrimarySniperRifle  PrimaryHeavy  PrimarySMG  PrimaryPistol  FirstKillTime  \\\n",
              "0           -0.321082     -0.078995   -0.085385       1.873164      -0.465436   \n",
              "1           -0.321082     -0.078995   -0.085385       1.873164      -0.465436   \n",
              "2           -0.321082     -0.078995   -0.085385       1.873164      -0.465436   \n",
              "3           -0.321082     -0.078995   -0.085385       1.873164      -0.465436   \n",
              "4           -0.321082     -0.078995   -0.085385       1.873164      -0.465436   \n",
              "\n",
              "   RoundKills  RoundAssists  RoundHeadshots  RoundFlankKills  \\\n",
              "0   -0.823831     -0.379109        -0.52097        -0.298269   \n",
              "1   -0.823831     -0.379109        -0.52097        -0.298269   \n",
              "2   -0.823831     -0.379109        -0.52097        -0.298269   \n",
              "3   -0.823831     -0.379109        -0.52097        -0.298269   \n",
              "4   -0.823831     -0.379109        -0.52097        -0.298269   \n",
              "\n",
              "   RoundStartingEquipmentValue  TeamStartingEquipmentValue  MatchKills  \\\n",
              "0                    -1.434239                   -1.487192    -1.37688   \n",
              "1                    -1.410557                   -1.487192    -1.37688   \n",
              "2                    -1.315828                   -1.487192    -1.37688   \n",
              "3                    -1.386875                   -1.487192    -1.37688   \n",
              "4                    -1.315828                   -1.487192    -1.37688   \n",
              "\n",
              "   MatchFlankKills  MatchAssists  MatchHeadshots  RTotalGrenadesThrown  \\\n",
              "0        -0.874768     -1.049676       -1.201242              1.477908   \n",
              "1        -0.874768     -1.049676       -1.201242             -1.157397   \n",
              "2        -0.874768     -1.049676       -1.201242             -1.157397   \n",
              "3        -0.874768     -1.049676       -1.201242             -1.157397   \n",
              "4        -0.874768     -1.049676       -1.201242              0.160255   \n",
              "\n",
              "   RoundWinner_0  RoundWinner_1  Survived_0  Survived_1  \\\n",
              "0       0.999785      -0.999785    0.822519   -0.822519   \n",
              "1       0.999785      -0.999785    0.822519   -0.822519   \n",
              "2       0.999785      -0.999785    0.822519   -0.822519   \n",
              "3       0.999785      -0.999785    0.822519   -0.822519   \n",
              "4       0.999785      -0.999785   -1.215778    1.215778   \n",
              "\n",
              "   Team_CounterTerrorist  Team_Terrorist  de_dust2  de_inferno  de_mirage  \\\n",
              "0              -0.999608        0.999608  -0.56436    1.319962  -0.562394   \n",
              "1              -0.999608        0.999608  -0.56436    1.319962  -0.562394   \n",
              "2              -0.999608        0.999608  -0.56436    1.319962  -0.562394   \n",
              "3              -0.999608        0.999608  -0.56436    1.319962  -0.562394   \n",
              "4              -0.999608        0.999608  -0.56436    1.319962  -0.562394   \n",
              "\n",
              "   de_nuke  \n",
              "0 -0.42582  \n",
              "1 -0.42582  \n",
              "2 -0.42582  \n",
              "3 -0.42582  \n",
              "4 -0.42582  "
            ],
            "text/html": [
              "\n",
              "  <div id=\"df-ada4eb8d-27ae-4a38-8a01-214ca59920ef\">\n",
              "    <div class=\"colab-df-container\">\n",
              "      <div>\n",
              "<style scoped>\n",
              "    .dataframe tbody tr th:only-of-type {\n",
              "        vertical-align: middle;\n",
              "    }\n",
              "\n",
              "    .dataframe tbody tr th {\n",
              "        vertical-align: top;\n",
              "    }\n",
              "\n",
              "    .dataframe thead th {\n",
              "        text-align: right;\n",
              "    }\n",
              "</style>\n",
              "<table border=\"1\" class=\"dataframe\">\n",
              "  <thead>\n",
              "    <tr style=\"text-align: right;\">\n",
              "      <th></th>\n",
              "      <th>MatchId</th>\n",
              "      <th>RoundId</th>\n",
              "      <th>MatchWinner</th>\n",
              "      <th>TimeAlive</th>\n",
              "      <th>TravelledDistance</th>\n",
              "      <th>RLethalGrenadesThrown</th>\n",
              "      <th>RNonLethalGrenadesThrown</th>\n",
              "      <th>PrimaryAssaultRifle</th>\n",
              "      <th>PrimarySniperRifle</th>\n",
              "      <th>PrimaryHeavy</th>\n",
              "      <th>PrimarySMG</th>\n",
              "      <th>PrimaryPistol</th>\n",
              "      <th>FirstKillTime</th>\n",
              "      <th>RoundKills</th>\n",
              "      <th>RoundAssists</th>\n",
              "      <th>RoundHeadshots</th>\n",
              "      <th>RoundFlankKills</th>\n",
              "      <th>RoundStartingEquipmentValue</th>\n",
              "      <th>TeamStartingEquipmentValue</th>\n",
              "      <th>MatchKills</th>\n",
              "      <th>MatchFlankKills</th>\n",
              "      <th>MatchAssists</th>\n",
              "      <th>MatchHeadshots</th>\n",
              "      <th>RTotalGrenadesThrown</th>\n",
              "      <th>RoundWinner_0</th>\n",
              "      <th>RoundWinner_1</th>\n",
              "      <th>Survived_0</th>\n",
              "      <th>Survived_1</th>\n",
              "      <th>Team_CounterTerrorist</th>\n",
              "      <th>Team_Terrorist</th>\n",
              "      <th>de_dust2</th>\n",
              "      <th>de_inferno</th>\n",
              "      <th>de_mirage</th>\n",
              "      <th>de_nuke</th>\n",
              "    </tr>\n",
              "  </thead>\n",
              "  <tbody>\n",
              "    <tr>\n",
              "      <th>0</th>\n",
              "      <td>4.0</td>\n",
              "      <td>-1.58304</td>\n",
              "      <td>1.0</td>\n",
              "      <td>2.716596</td>\n",
              "      <td>-0.155202</td>\n",
              "      <td>-0.833916</td>\n",
              "      <td>2.314000</td>\n",
              "      <td>-1.455186</td>\n",
              "      <td>-0.321082</td>\n",
              "      <td>-0.078995</td>\n",
              "      <td>-0.085385</td>\n",
              "      <td>1.873164</td>\n",
              "      <td>-0.465436</td>\n",
              "      <td>-0.823831</td>\n",
              "      <td>-0.379109</td>\n",
              "      <td>-0.52097</td>\n",
              "      <td>-0.298269</td>\n",
              "      <td>-1.434239</td>\n",
              "      <td>-1.487192</td>\n",
              "      <td>-1.37688</td>\n",
              "      <td>-0.874768</td>\n",
              "      <td>-1.049676</td>\n",
              "      <td>-1.201242</td>\n",
              "      <td>1.477908</td>\n",
              "      <td>0.999785</td>\n",
              "      <td>-0.999785</td>\n",
              "      <td>0.822519</td>\n",
              "      <td>-0.822519</td>\n",
              "      <td>-0.999608</td>\n",
              "      <td>0.999608</td>\n",
              "      <td>-0.56436</td>\n",
              "      <td>1.319962</td>\n",
              "      <td>-0.562394</td>\n",
              "      <td>-0.42582</td>\n",
              "    </tr>\n",
              "    <tr>\n",
              "      <th>1</th>\n",
              "      <td>4.0</td>\n",
              "      <td>-1.58304</td>\n",
              "      <td>1.0</td>\n",
              "      <td>-0.542498</td>\n",
              "      <td>3.799418</td>\n",
              "      <td>-0.833916</td>\n",
              "      <td>-1.061763</td>\n",
              "      <td>-1.455186</td>\n",
              "      <td>-0.321082</td>\n",
              "      <td>-0.078995</td>\n",
              "      <td>-0.085385</td>\n",
              "      <td>1.873164</td>\n",
              "      <td>-0.465436</td>\n",
              "      <td>-0.823831</td>\n",
              "      <td>-0.379109</td>\n",
              "      <td>-0.52097</td>\n",
              "      <td>-0.298269</td>\n",
              "      <td>-1.410557</td>\n",
              "      <td>-1.487192</td>\n",
              "      <td>-1.37688</td>\n",
              "      <td>-0.874768</td>\n",
              "      <td>-1.049676</td>\n",
              "      <td>-1.201242</td>\n",
              "      <td>-1.157397</td>\n",
              "      <td>0.999785</td>\n",
              "      <td>-0.999785</td>\n",
              "      <td>0.822519</td>\n",
              "      <td>-0.822519</td>\n",
              "      <td>-0.999608</td>\n",
              "      <td>0.999608</td>\n",
              "      <td>-0.56436</td>\n",
              "      <td>1.319962</td>\n",
              "      <td>-0.562394</td>\n",
              "      <td>-0.42582</td>\n",
              "    </tr>\n",
              "    <tr>\n",
              "      <th>2</th>\n",
              "      <td>4.0</td>\n",
              "      <td>-1.58304</td>\n",
              "      <td>1.0</td>\n",
              "      <td>-0.585226</td>\n",
              "      <td>-0.500383</td>\n",
              "      <td>-0.833916</td>\n",
              "      <td>-1.061763</td>\n",
              "      <td>-1.455186</td>\n",
              "      <td>-0.321082</td>\n",
              "      <td>-0.078995</td>\n",
              "      <td>-0.085385</td>\n",
              "      <td>1.873164</td>\n",
              "      <td>-0.465436</td>\n",
              "      <td>-0.823831</td>\n",
              "      <td>-0.379109</td>\n",
              "      <td>-0.52097</td>\n",
              "      <td>-0.298269</td>\n",
              "      <td>-1.315828</td>\n",
              "      <td>-1.487192</td>\n",
              "      <td>-1.37688</td>\n",
              "      <td>-0.874768</td>\n",
              "      <td>-1.049676</td>\n",
              "      <td>-1.201242</td>\n",
              "      <td>-1.157397</td>\n",
              "      <td>0.999785</td>\n",
              "      <td>-0.999785</td>\n",
              "      <td>0.822519</td>\n",
              "      <td>-0.822519</td>\n",
              "      <td>-0.999608</td>\n",
              "      <td>0.999608</td>\n",
              "      <td>-0.56436</td>\n",
              "      <td>1.319962</td>\n",
              "      <td>-0.562394</td>\n",
              "      <td>-0.42582</td>\n",
              "    </tr>\n",
              "    <tr>\n",
              "      <th>3</th>\n",
              "      <td>4.0</td>\n",
              "      <td>-1.58304</td>\n",
              "      <td>1.0</td>\n",
              "      <td>-0.513286</td>\n",
              "      <td>-0.242231</td>\n",
              "      <td>-0.833916</td>\n",
              "      <td>-1.061763</td>\n",
              "      <td>-1.455186</td>\n",
              "      <td>-0.321082</td>\n",
              "      <td>-0.078995</td>\n",
              "      <td>-0.085385</td>\n",
              "      <td>1.873164</td>\n",
              "      <td>-0.465436</td>\n",
              "      <td>-0.823831</td>\n",
              "      <td>-0.379109</td>\n",
              "      <td>-0.52097</td>\n",
              "      <td>-0.298269</td>\n",
              "      <td>-1.386875</td>\n",
              "      <td>-1.487192</td>\n",
              "      <td>-1.37688</td>\n",
              "      <td>-0.874768</td>\n",
              "      <td>-1.049676</td>\n",
              "      <td>-1.201242</td>\n",
              "      <td>-1.157397</td>\n",
              "      <td>0.999785</td>\n",
              "      <td>-0.999785</td>\n",
              "      <td>0.822519</td>\n",
              "      <td>-0.822519</td>\n",
              "      <td>-0.999608</td>\n",
              "      <td>0.999608</td>\n",
              "      <td>-0.56436</td>\n",
              "      <td>1.319962</td>\n",
              "      <td>-0.562394</td>\n",
              "      <td>-0.42582</td>\n",
              "    </tr>\n",
              "    <tr>\n",
              "      <th>4</th>\n",
              "      <td>4.0</td>\n",
              "      <td>-1.58304</td>\n",
              "      <td>1.0</td>\n",
              "      <td>-0.475354</td>\n",
              "      <td>-0.094379</td>\n",
              "      <td>0.838416</td>\n",
              "      <td>-0.217823</td>\n",
              "      <td>-1.455186</td>\n",
              "      <td>-0.321082</td>\n",
              "      <td>-0.078995</td>\n",
              "      <td>-0.085385</td>\n",
              "      <td>1.873164</td>\n",
              "      <td>-0.465436</td>\n",
              "      <td>-0.823831</td>\n",
              "      <td>-0.379109</td>\n",
              "      <td>-0.52097</td>\n",
              "      <td>-0.298269</td>\n",
              "      <td>-1.315828</td>\n",
              "      <td>-1.487192</td>\n",
              "      <td>-1.37688</td>\n",
              "      <td>-0.874768</td>\n",
              "      <td>-1.049676</td>\n",
              "      <td>-1.201242</td>\n",
              "      <td>0.160255</td>\n",
              "      <td>0.999785</td>\n",
              "      <td>-0.999785</td>\n",
              "      <td>-1.215778</td>\n",
              "      <td>1.215778</td>\n",
              "      <td>-0.999608</td>\n",
              "      <td>0.999608</td>\n",
              "      <td>-0.56436</td>\n",
              "      <td>1.319962</td>\n",
              "      <td>-0.562394</td>\n",
              "      <td>-0.42582</td>\n",
              "    </tr>\n",
              "  </tbody>\n",
              "</table>\n",
              "</div>\n",
              "      <button class=\"colab-df-convert\" onclick=\"convertToInteractive('df-ada4eb8d-27ae-4a38-8a01-214ca59920ef')\"\n",
              "              title=\"Convert this dataframe to an interactive table.\"\n",
              "              style=\"display:none;\">\n",
              "        \n",
              "  <svg xmlns=\"http://www.w3.org/2000/svg\" height=\"24px\"viewBox=\"0 0 24 24\"\n",
              "       width=\"24px\">\n",
              "    <path d=\"M0 0h24v24H0V0z\" fill=\"none\"/>\n",
              "    <path d=\"M18.56 5.44l.94 2.06.94-2.06 2.06-.94-2.06-.94-.94-2.06-.94 2.06-2.06.94zm-11 1L8.5 8.5l.94-2.06 2.06-.94-2.06-.94L8.5 2.5l-.94 2.06-2.06.94zm10 10l.94 2.06.94-2.06 2.06-.94-2.06-.94-.94-2.06-.94 2.06-2.06.94z\"/><path d=\"M17.41 7.96l-1.37-1.37c-.4-.4-.92-.59-1.43-.59-.52 0-1.04.2-1.43.59L10.3 9.45l-7.72 7.72c-.78.78-.78 2.05 0 2.83L4 21.41c.39.39.9.59 1.41.59.51 0 1.02-.2 1.41-.59l7.78-7.78 2.81-2.81c.8-.78.8-2.07 0-2.86zM5.41 20L4 18.59l7.72-7.72 1.47 1.35L5.41 20z\"/>\n",
              "  </svg>\n",
              "      </button>\n",
              "      \n",
              "  <style>\n",
              "    .colab-df-container {\n",
              "      display:flex;\n",
              "      flex-wrap:wrap;\n",
              "      gap: 12px;\n",
              "    }\n",
              "\n",
              "    .colab-df-convert {\n",
              "      background-color: #E8F0FE;\n",
              "      border: none;\n",
              "      border-radius: 50%;\n",
              "      cursor: pointer;\n",
              "      display: none;\n",
              "      fill: #1967D2;\n",
              "      height: 32px;\n",
              "      padding: 0 0 0 0;\n",
              "      width: 32px;\n",
              "    }\n",
              "\n",
              "    .colab-df-convert:hover {\n",
              "      background-color: #E2EBFA;\n",
              "      box-shadow: 0px 1px 2px rgba(60, 64, 67, 0.3), 0px 1px 3px 1px rgba(60, 64, 67, 0.15);\n",
              "      fill: #174EA6;\n",
              "    }\n",
              "\n",
              "    [theme=dark] .colab-df-convert {\n",
              "      background-color: #3B4455;\n",
              "      fill: #D2E3FC;\n",
              "    }\n",
              "\n",
              "    [theme=dark] .colab-df-convert:hover {\n",
              "      background-color: #434B5C;\n",
              "      box-shadow: 0px 1px 3px 1px rgba(0, 0, 0, 0.15);\n",
              "      filter: drop-shadow(0px 1px 2px rgba(0, 0, 0, 0.3));\n",
              "      fill: #FFFFFF;\n",
              "    }\n",
              "  </style>\n",
              "\n",
              "      <script>\n",
              "        const buttonEl =\n",
              "          document.querySelector('#df-ada4eb8d-27ae-4a38-8a01-214ca59920ef button.colab-df-convert');\n",
              "        buttonEl.style.display =\n",
              "          google.colab.kernel.accessAllowed ? 'block' : 'none';\n",
              "\n",
              "        async function convertToInteractive(key) {\n",
              "          const element = document.querySelector('#df-ada4eb8d-27ae-4a38-8a01-214ca59920ef');\n",
              "          const dataTable =\n",
              "            await google.colab.kernel.invokeFunction('convertToInteractive',\n",
              "                                                     [key], {});\n",
              "          if (!dataTable) return;\n",
              "\n",
              "          const docLinkHtml = 'Like what you see? Visit the ' +\n",
              "            '<a target=\"_blank\" href=https://colab.research.google.com/notebooks/data_table.ipynb>data table notebook</a>'\n",
              "            + ' to learn more about interactive tables.';\n",
              "          element.innerHTML = '';\n",
              "          dataTable['output_type'] = 'display_data';\n",
              "          await google.colab.output.renderOutput(dataTable, element);\n",
              "          const docLink = document.createElement('div');\n",
              "          docLink.innerHTML = docLinkHtml;\n",
              "          element.appendChild(docLink);\n",
              "        }\n",
              "      </script>\n",
              "    </div>\n",
              "  </div>\n",
              "  "
            ]
          },
          "metadata": {},
          "execution_count": 76
        }
      ]
    },
    {
      "cell_type": "markdown",
      "source": [
        "--------------------------------------------------------------"
      ],
      "metadata": {
        "id": "hF7VlEVWT3TI"
      }
    },
    {
      "cell_type": "code",
      "source": [
        "new_df.isna().sum()"
      ],
      "metadata": {
        "colab": {
          "base_uri": "https://localhost:8080/"
        },
        "id": "SNulmeV-LD-V",
        "outputId": "65608227-0260-4f2d-df0e-9f44c301edf9"
      },
      "execution_count": 77,
      "outputs": [
        {
          "output_type": "execute_result",
          "data": {
            "text/plain": [
              "MatchId                        0\n",
              "RoundId                        0\n",
              "MatchWinner                    0\n",
              "TimeAlive                      0\n",
              "TravelledDistance              0\n",
              "RLethalGrenadesThrown          0\n",
              "RNonLethalGrenadesThrown       0\n",
              "PrimaryAssaultRifle            0\n",
              "PrimarySniperRifle             0\n",
              "PrimaryHeavy                   0\n",
              "PrimarySMG                     0\n",
              "PrimaryPistol                  0\n",
              "FirstKillTime                  0\n",
              "RoundKills                     0\n",
              "RoundAssists                   0\n",
              "RoundHeadshots                 0\n",
              "RoundFlankKills                0\n",
              "RoundStartingEquipmentValue    0\n",
              "TeamStartingEquipmentValue     0\n",
              "MatchKills                     0\n",
              "MatchFlankKills                0\n",
              "MatchAssists                   0\n",
              "MatchHeadshots                 0\n",
              "RTotalGrenadesThrown           0\n",
              "RoundWinner_0                  0\n",
              "RoundWinner_1                  0\n",
              "Survived_0                     0\n",
              "Survived_1                     0\n",
              "Team_CounterTerrorist          0\n",
              "Team_Terrorist                 0\n",
              "de_dust2                       0\n",
              "de_inferno                     0\n",
              "de_mirage                      0\n",
              "de_nuke                        0\n",
              "dtype: int64"
            ]
          },
          "metadata": {},
          "execution_count": 77
        }
      ]
    },
    {
      "cell_type": "markdown",
      "source": [
        "# Evaluación 4 y ET"
      ],
      "metadata": {
        "id": "goyuTtM11Vgr"
      }
    },
    {
      "cell_type": "markdown",
      "source": [
        "# Modelado"
      ],
      "metadata": {
        "id": "Jc1L-XPSIMiB"
      }
    },
    {
      "cell_type": "markdown",
      "source": [
        "* El modelo que ocuparemos es de clasificación, que es regresión logística, ya que ocuparemos un target categorico binario que es \"MatchWinner\".\n",
        "* Con esto buscaremos predecir si una observación pertenece a una de dos categorías, que en este caso es si ganó o perdió en la partida, esto lo utilizaremos para el entrenamiento del modelo de ML."
      ],
      "metadata": {
        "id": "dTQ0ZNDVab4p"
      }
    },
    {
      "cell_type": "markdown",
      "source": [
        "--------------------------------------------------------------"
      ],
      "metadata": {
        "id": "9Dx4EqdHah86"
      }
    },
    {
      "cell_type": "markdown",
      "source": [
        "Importación de librerias de para realizar el modelamiento con random forest"
      ],
      "metadata": {
        "id": "Rmo4QLKFxMlK"
      }
    },
    {
      "cell_type": "code",
      "source": [
        "from sklearn.model_selection import train_test_split\n",
        "from sklearn.ensemble import RandomForestClassifier\n",
        "from sklearn.metrics import classification_report\n",
        "from sklearn import svm\n",
        "from sklearn.metrics import roc_auc_score"
      ],
      "metadata": {
        "id": "QiqQAsI6xLlG"
      },
      "execution_count": 78,
      "outputs": []
    },
    {
      "cell_type": "markdown",
      "source": [
        "--------------------------------------------------------------"
      ],
      "metadata": {
        "id": "7j6j3bVRa7Bp"
      }
    },
    {
      "cell_type": "markdown",
      "source": [
        "*   Aca podemos apreciar que los datos un balance de aproximado de 55% y 45% lo que es muy bueno para realizar el modelado. "
      ],
      "metadata": {
        "id": "lg7yobnwnriU"
      }
    },
    {
      "cell_type": "code",
      "source": [
        "pd.value_counts(new_df['MatchWinner'], sort = 1) #class comparison 0=Derrota 1=Victoris"
      ],
      "metadata": {
        "colab": {
          "base_uri": "https://localhost:8080/"
        },
        "id": "Qajuq_LGg0Gj",
        "outputId": "9003c722-6eb8-4650-e737-06fdac7d7b86"
      },
      "execution_count": 79,
      "outputs": [
        {
          "output_type": "execute_result",
          "data": {
            "text/plain": [
              "0.0    42013\n",
              "1.0    37138\n",
              "Name: MatchWinner, dtype: int64"
            ]
          },
          "metadata": {},
          "execution_count": 79
        }
      ]
    },
    {
      "cell_type": "markdown",
      "source": [
        "##### Separamos victorias y derrotas REVISAR"
      ],
      "metadata": {
        "id": "TUwXSNoapUCS"
      }
    },
    {
      "cell_type": "code",
      "source": [
        "defeat_df = new_df[new_df.MatchWinner == 0] #registros de Derrota\n",
        "win_df = new_df[new_df.MatchWinner == 1] #casos de Victoria"
      ],
      "metadata": {
        "id": "YGkMYfN6pRuf"
      },
      "execution_count": 80,
      "outputs": []
    },
    {
      "cell_type": "markdown",
      "source": [
        "--------------------------------------------------------------"
      ],
      "metadata": {
        "id": "OQpI8Py1a9xa"
      }
    },
    {
      "cell_type": "markdown",
      "source": [
        "#Creación de Dataset"
      ],
      "metadata": {
        "id": "17GtGH41w84g"
      }
    },
    {
      "cell_type": "markdown",
      "source": [
        "Generamos 2 variables X e Y donde:\n",
        "\n",
        "\n",
        "*   Y estan los resultado de \"MatchWinner\", es decir nuestro target (testing) \n",
        "*   X las variables que pueden llevar a cabo nuestras variables para entrenar a la IA (training)\n",
        "*   En el modelo utilizamos buenas practicas donde damos el 70% de los datos para training y 30% para testing\n",
        "\n",
        "\n"
      ],
      "metadata": {
        "id": "SC9mFbExxU6G"
      }
    },
    {
      "cell_type": "code",
      "source": [
        "y = new_df['MatchWinner']\n",
        "X = new_df.drop('MatchWinner', axis=1)\n",
        "X_train, X_test, y_train, y_test = train_test_split(X, y, train_size=0.7)"
      ],
      "metadata": {
        "id": "TNWA8-B9w4Ij"
      },
      "execution_count": 81,
      "outputs": []
    },
    {
      "cell_type": "markdown",
      "source": [
        "# RANDOM FOREST"
      ],
      "metadata": {
        "id": "5itE5aCSW3dq"
      }
    },
    {
      "cell_type": "markdown",
      "source": [
        "* Comenzamos el entrenamiento del random forest con 100 arboles para ver posibles resultados.\n",
        "\n",
        "*  Boostrap para que cada arbol se entrene con una muestra diferente de los datos del modelo\n",
        "\n",
        "*  verbose para mostrar una barra de progreso de durante el entrenamiento (ver duración de este)\n",
        "\n",
        "* max_features = 'sqrt' para ayudar a reducir la complejidad del nodo y prevenir posibles sobreajustes"
      ],
      "metadata": {
        "id": "JN0EGigM30Or"
      }
    },
    {
      "cell_type": "code",
      "source": [
        "model_randomforest = RandomForestClassifier(n_estimators=100, \n",
        "                               bootstrap = True,verbose=2,\n",
        "                               max_features = 'sqrt')\n",
        "model_randomforest.fit(X_train, y_train)"
      ],
      "metadata": {
        "id": "XliOeyHw2qRV",
        "colab": {
          "base_uri": "https://localhost:8080/"
        },
        "outputId": "bfd6065d-9775-475d-f202-97631088a2ee"
      },
      "execution_count": 97,
      "outputs": [
        {
          "output_type": "stream",
          "name": "stderr",
          "text": [
            "[Parallel(n_jobs=1)]: Using backend SequentialBackend with 1 concurrent workers.\n",
            "[Parallel(n_jobs=1)]: Done   1 out of   1 | elapsed:    0.1s remaining:    0.0s\n"
          ]
        },
        {
          "output_type": "stream",
          "name": "stdout",
          "text": [
            "building tree 1 of 100\n",
            "building tree 2 of 100\n",
            "building tree 3 of 100\n",
            "building tree 4 of 100\n",
            "building tree 5 of 100\n",
            "building tree 6 of 100\n",
            "building tree 7 of 100\n",
            "building tree 8 of 100\n",
            "building tree 9 of 100\n",
            "building tree 10 of 100\n",
            "building tree 11 of 100\n",
            "building tree 12 of 100\n",
            "building tree 13 of 100\n",
            "building tree 14 of 100\n",
            "building tree 15 of 100\n",
            "building tree 16 of 100\n",
            "building tree 17 of 100\n",
            "building tree 18 of 100\n",
            "building tree 19 of 100\n",
            "building tree 20 of 100\n",
            "building tree 21 of 100\n",
            "building tree 22 of 100\n",
            "building tree 23 of 100\n",
            "building tree 24 of 100\n",
            "building tree 25 of 100\n",
            "building tree 26 of 100\n",
            "building tree 27 of 100\n",
            "building tree 28 of 100\n",
            "building tree 29 of 100\n",
            "building tree 30 of 100\n",
            "building tree 31 of 100\n",
            "building tree 32 of 100\n",
            "building tree 33 of 100\n",
            "building tree 34 of 100\n",
            "building tree 35 of 100\n",
            "building tree 36 of 100\n",
            "building tree 37 of 100\n",
            "building tree 38 of 100\n",
            "building tree 39 of 100\n",
            "building tree 40 of 100\n",
            "building tree 41 of 100\n",
            "building tree 42 of 100\n",
            "building tree 43 of 100\n",
            "building tree 44 of 100\n",
            "building tree 45 of 100\n",
            "building tree 46 of 100\n",
            "building tree 47 of 100\n",
            "building tree 48 of 100\n",
            "building tree 49 of 100\n",
            "building tree 50 of 100\n",
            "building tree 51 of 100\n",
            "building tree 52 of 100\n",
            "building tree 53 of 100\n",
            "building tree 54 of 100\n",
            "building tree 55 of 100\n",
            "building tree 56 of 100\n",
            "building tree 57 of 100\n",
            "building tree 58 of 100\n",
            "building tree 59 of 100\n",
            "building tree 60 of 100\n",
            "building tree 61 of 100\n",
            "building tree 62 of 100\n",
            "building tree 63 of 100\n",
            "building tree 64 of 100\n",
            "building tree 65 of 100\n",
            "building tree 66 of 100\n",
            "building tree 67 of 100\n",
            "building tree 68 of 100\n",
            "building tree 69 of 100\n",
            "building tree 70 of 100\n",
            "building tree 71 of 100\n",
            "building tree 72 of 100\n",
            "building tree 73 of 100\n",
            "building tree 74 of 100\n",
            "building tree 75 of 100\n",
            "building tree 76 of 100\n",
            "building tree 77 of 100\n",
            "building tree 78 of 100\n",
            "building tree 79 of 100\n",
            "building tree 80 of 100\n",
            "building tree 81 of 100\n",
            "building tree 82 of 100\n",
            "building tree 83 of 100\n",
            "building tree 84 of 100\n",
            "building tree 85 of 100\n",
            "building tree 86 of 100\n",
            "building tree 87 of 100\n",
            "building tree 88 of 100\n",
            "building tree 89 of 100\n",
            "building tree 90 of 100\n",
            "building tree 91 of 100\n",
            "building tree 92 of 100\n",
            "building tree 93 of 100\n",
            "building tree 94 of 100\n",
            "building tree 95 of 100\n",
            "building tree 96 of 100\n",
            "building tree 97 of 100\n",
            "building tree 98 of 100\n",
            "building tree 99 of 100\n",
            "building tree 100 of 100\n"
          ]
        },
        {
          "output_type": "stream",
          "name": "stderr",
          "text": [
            "[Parallel(n_jobs=1)]: Done 100 out of 100 | elapsed:   12.4s finished\n"
          ]
        },
        {
          "output_type": "execute_result",
          "data": {
            "text/plain": [
              "RandomForestClassifier(max_features='sqrt', verbose=2)"
            ]
          },
          "metadata": {},
          "execution_count": 97
        }
      ]
    },
    {
      "cell_type": "markdown",
      "source": [
        "--------------------------------------------------------------"
      ],
      "metadata": {
        "id": "X7jtsRn3WsoB"
      }
    },
    {
      "cell_type": "code",
      "source": [
        "pred_y = model_randomforest.predict(X_test)\n",
        "print(classification_report(y_test, pred_y))"
      ],
      "metadata": {
        "colab": {
          "base_uri": "https://localhost:8080/"
        },
        "id": "ZXFwQB94VDyu",
        "outputId": "0ba730b6-6c1e-4430-913f-331229cb366a"
      },
      "execution_count": 98,
      "outputs": [
        {
          "output_type": "stream",
          "name": "stderr",
          "text": [
            "[Parallel(n_jobs=1)]: Using backend SequentialBackend with 1 concurrent workers.\n",
            "[Parallel(n_jobs=1)]: Done   1 out of   1 | elapsed:    0.0s remaining:    0.0s\n"
          ]
        },
        {
          "output_type": "stream",
          "name": "stdout",
          "text": [
            "              precision    recall  f1-score   support\n",
            "\n",
            "         0.0       0.75      0.80      0.77     12624\n",
            "         1.0       0.75      0.69      0.72     11122\n",
            "\n",
            "    accuracy                           0.75     23746\n",
            "   macro avg       0.75      0.74      0.74     23746\n",
            "weighted avg       0.75      0.75      0.75     23746\n",
            "\n"
          ]
        },
        {
          "output_type": "stream",
          "name": "stderr",
          "text": [
            "[Parallel(n_jobs=1)]: Done 100 out of 100 | elapsed:    0.9s finished\n"
          ]
        }
      ]
    },
    {
      "cell_type": "markdown",
      "source": [
        "--------------------------------------------------------------"
      ],
      "metadata": {
        "id": "mJuhGncJDpK_"
      }
    },
    {
      "cell_type": "markdown",
      "source": [
        "# SVM No lineal"
      ],
      "metadata": {
        "id": "SO2A29w8cewf"
      }
    },
    {
      "cell_type": "markdown",
      "source": [
        "* Entrenar el clasificador SVM con los datos de entrenamiento\n",
        "* Utilizar el clasificador entrenado para predecir las etiquetas de los datos de prueba\n",
        "* Despues de estos 2 pasos imprimimos el reporte de desempeño"
      ],
      "metadata": {
        "id": "eWcyf7Q7mY-w"
      }
    },
    {
      "cell_type": "code",
      "source": [
        "clf = svm.SVC(kernel='linear')\n",
        "clf.fit(X_train, y_train)\n",
        "\n",
        "y_pred = clf.predict(X_test)\n",
        "\n",
        "print(classification_report(y_test, y_pred))"
      ],
      "metadata": {
        "id": "DHkxRF2cmJJQ",
        "colab": {
          "base_uri": "https://localhost:8080/"
        },
        "outputId": "dc2ee28f-af42-4526-b2ce-b686c9420537"
      },
      "execution_count": 84,
      "outputs": [
        {
          "output_type": "stream",
          "name": "stdout",
          "text": [
            "              precision    recall  f1-score   support\n",
            "\n",
            "         0.0       0.69      0.69      0.69     12624\n",
            "         1.0       0.65      0.64      0.65     11122\n",
            "\n",
            "    accuracy                           0.67     23746\n",
            "   macro avg       0.67      0.67      0.67     23746\n",
            "weighted avg       0.67      0.67      0.67     23746\n",
            "\n"
          ]
        }
      ]
    },
    {
      "cell_type": "markdown",
      "source": [
        "--------------------------------------------------------------"
      ],
      "metadata": {
        "id": "tIM7f5sOD2aV"
      }
    },
    {
      "cell_type": "markdown",
      "source": [
        "#KNN (K-Nearest Neighbors)"
      ],
      "metadata": {
        "id": "d8pqAaGDX699"
      }
    },
    {
      "cell_type": "code",
      "source": [
        "from sklearn.neighbors import KNeighborsClassifier"
      ],
      "metadata": {
        "id": "Vu_J9yViYA6U"
      },
      "execution_count": 88,
      "outputs": []
    },
    {
      "cell_type": "markdown",
      "source": [
        "Para realizar KNN decidimos realizar con 3 vecinos para comenzar esta prueba y realizar el entrenamiento.\n",
        "\n",
        "Con los resultados podemos apreciar que son mejores que el random forest utilizando el ajuste basico."
      ],
      "metadata": {
        "id": "HBR6gSs2E5F4"
      }
    },
    {
      "cell_type": "code",
      "source": [
        "knn = KNeighborsClassifier(n_neighbors=3)\n",
        "knn.fit(X_train, y_train)"
      ],
      "metadata": {
        "id": "iqpUzt0gYIbw",
        "colab": {
          "base_uri": "https://localhost:8080/"
        },
        "outputId": "081f46a1-a0ac-4bfa-dd2c-0c5ec111d753"
      },
      "execution_count": 89,
      "outputs": [
        {
          "output_type": "execute_result",
          "data": {
            "text/plain": [
              "KNeighborsClassifier(n_neighbors=3)"
            ]
          },
          "metadata": {},
          "execution_count": 89
        }
      ]
    },
    {
      "cell_type": "code",
      "source": [
        "y_pred = knn.predict(X_test)\n",
        "print(classification_report(y_test, y_pred))"
      ],
      "metadata": {
        "colab": {
          "base_uri": "https://localhost:8080/"
        },
        "id": "rlEyC8WuE-u7",
        "outputId": "9556b0ff-d498-4db2-d03b-2e2b41126b84"
      },
      "execution_count": 90,
      "outputs": [
        {
          "output_type": "stream",
          "name": "stdout",
          "text": [
            "              precision    recall  f1-score   support\n",
            "\n",
            "         0.0       0.84      0.83      0.83     12624\n",
            "         1.0       0.81      0.82      0.81     11122\n",
            "\n",
            "    accuracy                           0.82     23746\n",
            "   macro avg       0.82      0.82      0.82     23746\n",
            "weighted avg       0.82      0.82      0.82     23746\n",
            "\n"
          ]
        }
      ]
    },
    {
      "cell_type": "markdown",
      "source": [
        "--------------------------------------------------------------"
      ],
      "metadata": {
        "id": "EpVnILcLFDse"
      }
    },
    {
      "cell_type": "markdown",
      "source": [
        "# XGBOOST"
      ],
      "metadata": {
        "id": "ZcXrhIy_FFXO"
      }
    },
    {
      "cell_type": "code",
      "source": [
        "pip install category_encoders xgboost"
      ],
      "metadata": {
        "colab": {
          "base_uri": "https://localhost:8080/"
        },
        "id": "q2cVOAvOFQV-",
        "outputId": "06a00fde-4043-4043-f26a-f48d90f1c52c"
      },
      "execution_count": 91,
      "outputs": [
        {
          "output_type": "stream",
          "name": "stdout",
          "text": [
            "Looking in indexes: https://pypi.org/simple, https://us-python.pkg.dev/colab-wheels/public/simple/\n",
            "Requirement already satisfied: category_encoders in /usr/local/lib/python3.8/dist-packages (2.6.0)\n",
            "Requirement already satisfied: xgboost in /usr/local/lib/python3.8/dist-packages (0.90)\n",
            "Requirement already satisfied: scikit-learn>=0.20.0 in /usr/local/lib/python3.8/dist-packages (from category_encoders) (1.0.2)\n",
            "Requirement already satisfied: statsmodels>=0.9.0 in /usr/local/lib/python3.8/dist-packages (from category_encoders) (0.12.2)\n",
            "Requirement already satisfied: numpy>=1.14.0 in /usr/local/lib/python3.8/dist-packages (from category_encoders) (1.21.6)\n",
            "Requirement already satisfied: patsy>=0.5.1 in /usr/local/lib/python3.8/dist-packages (from category_encoders) (0.5.3)\n",
            "Requirement already satisfied: scipy>=1.0.0 in /usr/local/lib/python3.8/dist-packages (from category_encoders) (1.7.3)\n",
            "Requirement already satisfied: pandas>=1.0.5 in /usr/local/lib/python3.8/dist-packages (from category_encoders) (1.3.5)\n",
            "Requirement already satisfied: pytz>=2017.3 in /usr/local/lib/python3.8/dist-packages (from pandas>=1.0.5->category_encoders) (2022.7)\n",
            "Requirement already satisfied: python-dateutil>=2.7.3 in /usr/local/lib/python3.8/dist-packages (from pandas>=1.0.5->category_encoders) (2.8.2)\n",
            "Requirement already satisfied: six in /usr/local/lib/python3.8/dist-packages (from patsy>=0.5.1->category_encoders) (1.15.0)\n",
            "Requirement already satisfied: threadpoolctl>=2.0.0 in /usr/local/lib/python3.8/dist-packages (from scikit-learn>=0.20.0->category_encoders) (3.1.0)\n",
            "Requirement already satisfied: joblib>=0.11 in /usr/local/lib/python3.8/dist-packages (from scikit-learn>=0.20.0->category_encoders) (1.2.0)\n"
          ]
        }
      ]
    },
    {
      "cell_type": "code",
      "source": [
        "import xgboost as xgb"
      ],
      "metadata": {
        "id": "QivmnUkaFR0a"
      },
      "execution_count": 92,
      "outputs": []
    },
    {
      "cell_type": "code",
      "source": [
        "train_dmatrix = xgb.DMatrix(data = X_train , label = y_train )\n",
        "test_dmatrix = xgb.DMatrix(data = X_test, label = y_test)\n",
        "\n",
        "params = {'objective': 'binary:logistic', 'max_depth': 2}\n",
        "\n",
        "model_xgboost = xgb.train(params=params, dtrain=train_dmatrix, num_boost_round=250)\n",
        "\n",
        "predictions = model_xgboost.predict(test_dmatrix)\n",
        "\n",
        "accuracy = (predictions > 0.5) == y_test\n",
        "print('Accuracy:', accuracy.mean())"
      ],
      "metadata": {
        "colab": {
          "base_uri": "https://localhost:8080/"
        },
        "id": "WM3vO0XbFaI9",
        "outputId": "c34ca7c1-6d58-43bd-adca-fd55ec35d513"
      },
      "execution_count": 93,
      "outputs": [
        {
          "output_type": "stream",
          "name": "stdout",
          "text": [
            "Accuracy: 0.7084140486818833\n"
          ]
        }
      ]
    },
    {
      "cell_type": "markdown",
      "source": [
        "--------------------------------------------------------------"
      ],
      "metadata": {
        "id": "kROBvaAbFfOq"
      }
    },
    {
      "cell_type": "markdown",
      "source": [
        "* Utilizaremos la función roc_auc_score de scikit-learn para calcular el AUC a partir de las etiquetas reales y_test y las predicciones del modelo y_pred. \n",
        "* Y como vemos el resultado es de 0.66%, que indica ni un mal ni un buen rendimiento del modelo.\n",
        "Basicamente tiene un 66% de probabilidad de ocurrencia."
      ],
      "metadata": {
        "id": "N_f3eu9srJjB"
      }
    },
    {
      "cell_type": "code",
      "source": [
        "auc = roc_auc_score(y_test, y_pred)\n",
        "print(\"AUC: \", auc)"
      ],
      "metadata": {
        "colab": {
          "base_uri": "https://localhost:8080/"
        },
        "id": "wctH6R9pDDi2",
        "outputId": "3a2b6c59-5292-4403-f321-51645135e304"
      },
      "execution_count": 87,
      "outputs": [
        {
          "output_type": "stream",
          "name": "stdout",
          "text": [
            "AUC:  0.6689904587420679\n"
          ]
        }
      ]
    },
    {
      "cell_type": "markdown",
      "source": [
        "--------------------------------------------------------------"
      ],
      "metadata": {
        "id": "108Ti8PAq0yw"
      }
    },
    {
      "cell_type": "markdown",
      "source": [
        "# Puesta en producción"
      ],
      "metadata": {
        "id": "G4UkJ72oqsx8"
      }
    },
    {
      "cell_type": "markdown",
      "source": [
        "* Creamos el archivo modelo.pkl para la puesta en marcha."
      ],
      "metadata": {
        "id": "LbHcM68RrkdR"
      }
    },
    {
      "cell_type": "code",
      "source": [
        "archivo = 'checkpoints\\modelo.pkl'\n",
        "pickle.dump(model_randomforest, open(archivo, 'wb'))"
      ],
      "metadata": {
        "id": "924gG6SsGtP6"
      },
      "execution_count": 99,
      "outputs": []
    }
  ],
  "metadata": {
    "colab": {
      "provenance": []
    },
    "kernelspec": {
      "display_name": "Python 3 (ipykernel)",
      "language": "python",
      "name": "python3"
    },
    "language_info": {
      "codemirror_mode": {
        "name": "ipython",
        "version": 3
      },
      "file_extension": ".py",
      "mimetype": "text/x-python",
      "name": "python",
      "nbconvert_exporter": "python",
      "pygments_lexer": "ipython3",
      "version": "3.9.13"
    }
  },
  "nbformat": 4,
  "nbformat_minor": 0
}