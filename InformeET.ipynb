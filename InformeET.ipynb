{
  "cells": [
    {
      "cell_type": "markdown",
      "id": "8f51838d",
      "metadata": {
        "id": "8f51838d"
      },
      "source": [
        "# Evaluación parcial 3\n",
        "\n",
        "# Introducción\n",
        "#### Esta evaluación contemplará las fases restantes del método Crisp-DM, modelado de datos, evaluación y la puesta en producción del modelo.\n",
        "\n",
        "# Problematica\n",
        "### En el juego Counter Strike: GO se enfrentan 2 equipos llamados terroristas y contra-terroristas, la problematica de este caso es que se necesita determinar que variables o que factores influyen en una partida final, en base a las partidas ganas, los match kills, los sobrevivientes, etc.\n",
        "\n",
        "# Solución\n",
        "### La solución que ofrecemos es generar un modelo capaz de ver las probabilidades de el equipo ganador de este juego, en base a la información recopilada mediante los códigos ejecutados en esta evaluación.\n",
        "\n",
        "# Conclusión\n",
        "### Para concluir, se utilizó la metodología Crisp DM para analizar los datos y se compararon varios modelos de aprendizaje automático, entre ellos random forest, xgboost, svm y KNN, siendo este último el que obtuvo mejores resultados en la predicción de la variable \"MatchWinner\". La precisión del modelo fue del 82%, con una matriz de confusión que mostró una precisión del 84% en la clase 0 y del 81% en la clase 1.\n",
        "\n",
        "### Sin embargo, durante el proceso se enfrentaron desafíos en la transformación de datos y en la elección de variables relevantes, además de problemas con la falta de información. Adicionalmente, se tuvieron problemas de organización en el equipo debido a la utilización de Jupyter Notebook. A pesar de estos problemas, el análisis permitió predecir la variable \"MatchWinner\" con cierto grado de precisión.\n",
        "\n",
        "### Se recomienda continuar investigando y optimizando para lograr mejores resultados en el futuro, en especifico, se sugiere realizar una limpieza y transformación de datos más exhaustiva, así como la inclusión de más variables relevantes y la recolección de más información para mejorar el rendimiento del modelo. Además, es importante implementar una mejor organización y coordinación en el equipo para evitar problemas en el proceso. "
      ]
    },
    {
      "cell_type": "code",
      "execution_count": null,
      "id": "45ffdeb7",
      "metadata": {
        "id": "45ffdeb7"
      },
      "outputs": [],
      "source": []
    }
  ],
  "metadata": {
    "kernelspec": {
      "display_name": "Python 3 (ipykernel)",
      "language": "python",
      "name": "python3"
    },
    "language_info": {
      "codemirror_mode": {
        "name": "ipython",
        "version": 3
      },
      "file_extension": ".py",
      "mimetype": "text/x-python",
      "name": "python",
      "nbconvert_exporter": "python",
      "pygments_lexer": "ipython3",
      "version": "3.9.13"
    },
    "colab": {
      "provenance": []
    }
  },
  "nbformat": 4,
  "nbformat_minor": 5
}